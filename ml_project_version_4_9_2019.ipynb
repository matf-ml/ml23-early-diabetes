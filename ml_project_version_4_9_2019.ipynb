{
  "nbformat": 4,
  "nbformat_minor": 0,
  "metadata": {
    "colab": {
      "name": "ml_project_version_4.9.2019.ipynb",
      "version": "0.3.2",
      "provenance": [],
      "collapsed_sections": []
    },
    "language_info": {
      "codemirror_mode": {
        "name": "ipython",
        "version": 3
      },
      "file_extension": ".py",
      "mimetype": "text/x-python",
      "name": "python",
      "nbconvert_exporter": "python",
      "pygments_lexer": "ipython3",
      "version": "3.6.8"
    },
    "kernelspec": {
      "display_name": "Python 3",
      "language": "python",
      "name": "python3"
    }
  },
  "cells": [
    {
      "cell_type": "markdown",
      "metadata": {
        "id": "d3Zv_l0Scs0U",
        "colab_type": "text"
      },
      "source": [
        "# Projekat iz masinskog ucenja\n",
        "\n",
        "### Studenti: Stefan Spalevic 1042/2018, Jovana Tomic 1018/2018\n",
        "\n",
        "### Prof. Mladen Nikolic, asistent: Nemanja Micovic\n",
        "\n",
        "Projekat radjen po uzoru na rad [1]:\n",
        "\n",
        "<h1><center>Beating Diabetes: Predicting Early Diabetes Patient Hospital Readmittance to Help Optimize Patient Care</center></h1>"
      ]
    },
    {
      "cell_type": "markdown",
      "metadata": {
        "id": "anhj_GnLcs0W",
        "colab_type": "text"
      },
      "source": [
        "### Dataset\n",
        "\n",
        "“ Diabetes 130-US Hospitals for Years 1999-2008 Data Set .” ​UCI Machine Learning Repository: Diabetes Data Set​, UCI Center forMachine Learning and Intelligent Systems, 3 May 2014,  <a href=\" \"> https://archive.ics.uci.edu/ml/datasets/Diabetes%20130-US%20hospitals%20for%20years%201999-2008# </a> 130-us hospitals for years 1999-2008.\n",
        "\n",
        "[1] Charlie Xu (cxu2), Stephone Christian (stephone), Christina Pan (capan)12/15/2017 Beating Diabetes: Predicting Early Diabetes Patient Hospital Readmittance to Help Optimize PatientCare\n",
        "\n",
        "[2] Beata Strack, Jonathan P. DeShazo, Chris Gennings, Juan L. Olmo, Sebastian Ventura, Krzysztof J. Cios, and John N. Clore, “Impactof HbA1c Measurement on Hospital Readmission Rates: Analysis of 70,000 Clinical Database Patient Records,” BioMedResearch International, vol. 2014, Article ID 781670, 11 pages, 2014"
      ]
    },
    {
      "cell_type": "markdown",
      "metadata": {
        "id": "9naVdBeacs0Y",
        "colab_type": "text"
      },
      "source": [
        "## Informacije o skupu podataka:\n",
        "    \n",
        "Skup podataka reprezentuje 10 godina (1999-2008) klinicke nege u 130 bolnica SAD-a. Ukljucuje 50 atributa koji predstavljaju podatke sakupljene tokom poseta pacijenta bolnici. Posete (encounters) zadovoljavaju sledeci kriterijum:\n",
        "\n",
        "* (1) Pacijenti dolaze lekaru zbog dijabetesa i taj dolazak im se racuna kao pregled (encounter)\n",
        "* (2) Racunaju se dolasci samo u vezi sa dijabetesom \n",
        "* (3) Duzina boravka je najmanje 1 dan, a najvise 14 dana\n",
        "* (4) U toku posete su izvrsena laboratorijska merenja\n",
        "* (5) Medikamenti su propisani tokom pregleda. Podaci sadrze atribute koje cemo pomenuti"
      ]
    },
    {
      "cell_type": "markdown",
      "metadata": {
        "id": "wETkyR8Fcs0Z",
        "colab_type": "text"
      },
      "source": [
        "Dat je skup podataka pacijenata koji boluju od dijabetesa. Skup sadrzi preko 100 000 instanci prikupljenih iz 130 bolnica u SAD-u tokom 10 godina (1999-2008). Cilj rada je da metodama masinskog ucenja utvrdimo da li ce pacijent biti hospitalizovan nakon poslednje posete doktoru za manje od 30 dana.\n",
        "\n",
        "(\"index admission\" - kada je pacijent prvi put hospitalizovan, \"readmission\" - ponovni boravak u bolnici)\n",
        "\n",
        "Pacijent dolazi u bolnicu (encounter - poseta/susret), nakon cega se prikupljaju podaci kojima ce se predvidjati da li ce pacijent morati da se javi ranije od 30 dana. Ukoliko se to desi, smatra se da je terapija neuspesno primenjena, a inace se smatra dobrom."
      ]
    },
    {
      "cell_type": "markdown",
      "metadata": {
        "id": "t8tc-ipmcs0b",
        "colab_type": "text"
      },
      "source": [
        "## Atributi\n",
        "\n",
        "* <font color = \"blue\"> Encounter ID </font>\t- Jedinstveni identifikator posete\n",
        "* <font color = \"blue\"> Patient number </font>\t- Jedinstveni identifikator pacijenta\n",
        "* <font color = \"green\"> Race </font> - Caucasian, Asian, African American, Hispanic, other\n",
        "* <font color = \"green\"> Gender </font> - male, female, unknown/invalid\n",
        "* <font color = \"green\"> Age </font> - Grupisani u intervalima od po 10 godina: (0, 10), (10, 20), …,90, 100)\n",
        "*  <font color = \"blue\"> Weight\t</font> Tezina, puno nedostajucih podataka: ~97%\n",
        "* <font color = \"green\"> Admission type\t</font> - Kategoricki atribut koji ima 9 razlicitih vrednosti: (npr. emergency, urgent, elective, newborn, not available)\n",
        "* <font color = \"green\"> Discharge disposition </font> - Kategoricki atribut sa 29 razlicitih vrednosti(npr. example, discharged to home, expired, not available)\n",
        "* <font color = \"green\"> Admission source </font>\t- Kategoricki atribut sa 21 razlicitih vrednosti(npr.  physician referral, emergency room,transfer from a hospital)\n",
        "*  <font color = \"blue\"> Time in hospital </font> - Numericki atribut za provedeno vreme u bolnici (u danima)\n",
        "* <font color = \"green\"> Payer code\t</font>-  Kategoricki atribut sa 23 razlicitih vrednosti(npr.Blue Cross/Blue Shield, Medicare, self-pay), nedostajucih vrednosti ~ 52%\n",
        "* <font color = \"green\"> Medical specialty </font> - Kategoricki atribut koji predstavlja identifikator za odgovarajuceg lekara specijalistu kod kojeg je prvobitno primljen pacijent (npr. cardiology, internal medicine, family/general practice, surgeon), nedostajucih vrednosti ~ 53%\n",
        "*  <font color = \"blue\"> Number of lab procedures </font> - Broj laboratorijskih testova izvrsenih tokom posete lekaru\n",
        "*  <font color = \"blue\"> Number of procedures </font> - Broj procedura (drugacijih od lab testova) izvrsenih tokom posete\n",
        "*  <font color = \"blue\"> Number of medications </font> - Broj razlicitih lekova propisanih tokom posete\n",
        "*  <font color = \"blue\"> Number of outpatient visits </font> - Broj ambulantnih poseta u toku godine kada je registrovana poseta\n",
        "*  <font color = \"blue\"> Number of emergency visits </font>\t- Broj urgentnih (ambulnatnih) poseta u toku godine kada je registrovana poseta\n",
        "\n",
        "*  <font color = \"blue\"> Number of inpatient visits </font> - Broj bolnickih poseta u toku godine kada je registrovana poseta\n",
        "* <font color = \"green\"> Diagnosis 1 </font> - Primarna dijagnoza (coded as first three digits of ICD9); 848 razlicitih vrednosti\n",
        "* <font color = \"green\"> Diagnosis 2 </font> - Sekundarna dijagnoza (coded as first three digits of ICD9); 923 razlicitih vrednosti\n",
        "* <font color = \"green\"> Diagnosis 3 </font> - Dodatne dijagnoze (coded as first three digits of ICD9); 954 razlicitih vrednosti\n",
        "*  <font color = \"blue\"> Number of diagnoses </font> - Broj dijagnoza u sistemu\t\n",
        "* <font color = \"green\"> Glucose serum test result </font> - Kategoricki atribut sa vrednostima “>200” “>300” “normal” i “none” ako nije mereno \n",
        "* <font color = \"green\"> A1c test result </font> - Vrednosti  “>8” ako je rezultat veci od 8%, “>7” ako je rezultat veci od 7% ali manji od 8%, “normal” ako je ispod 7% i “none” ako nije mereno\n",
        "* <font color = \"green\"> Change of medications\t</font> - Kategoricki atribut sa dve vrednosti koji oznacava da li ima promene u dijabetickim medikamentima (doza ili ceo lek), vrednosti: “change” i “no change”\n",
        "* <font color = \"green\"> Diabetes medications </font> - Indikator da li su propisani dijabeticki medikamenti:\tyes” ili “no”\n",
        "* <font color = \"green\">  24: metformin, repaglinide, nateglinide, chlorpropamide, glimepiride, acetohexamide, glipizide, glyburide, tolbutamide, pioglitazone, rosiglitazone, acarbose, miglitol, troglitazone, tolazamide, examide, sitagliptin, insulin, glyburide-metformin, glipizide-metformin, glimepiride-pioglitazone, metformin-rosiglitazone, and metformin-pioglitazone </font> - Atribut identifikuje da li je lek propisan i da li je bilo promena u dozi leka. Vrednosti: “up” ako je doza povecana tokom posete, “down” ako je smanjena, “steady” ako se doza nije menjala, “no” ako lek nije propisan\n",
        "* <font color = \"orange\"> Readmitted </font> - Ciljna promenljiva, oznacava broj data do sledece posete, “<30” znaci da je pacijent dosao ranije zbog pogorsanja stanja, “>30” znaci da je pacijent dosao nakon 30 dana, “No” ako ne postoji zapis od ponovnom dolasku. Poslednja dva stanja se racunaju kao uspesno leceni pacijenti."
      ]
    },
    {
      "cell_type": "code",
      "metadata": {
        "id": "Owhobc2MwAKZ",
        "colab_type": "code",
        "outputId": "1000eb58-c422-40f8-d46f-1c94fa6fd6e7",
        "colab": {
          "resources": {
            "http://localhost:8080/nbextensions/google.colab/files.js": {
              "data": "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",
              "ok": true,
              "headers": [
                [
                  "content-type",
                  "application/javascript"
                ]
              ],
              "status": 200,
              "status_text": ""
            }
          },
          "base_uri": "https://localhost:8080/",
          "height": 404
        }
      },
      "source": [
        "\n",
        "from google.colab import files\n",
        "uploaded  = files.upload()"
      ],
      "execution_count": 57,
      "outputs": [
        {
          "output_type": "display_data",
          "data": {
            "text/html": [
              "\n",
              "     <input type=\"file\" id=\"files-7bc25dd5-93b0-4527-99c4-abe9a65bd8c0\" name=\"files[]\" multiple disabled />\n",
              "     <output id=\"result-7bc25dd5-93b0-4527-99c4-abe9a65bd8c0\">\n",
              "      Upload widget is only available when the cell has been executed in the\n",
              "      current browser session. Please rerun this cell to enable.\n",
              "      </output>\n",
              "      <script src=\"/nbextensions/google.colab/files.js\"></script> "
            ],
            "text/plain": [
              "<IPython.core.display.HTML object>"
            ]
          },
          "metadata": {
            "tags": []
          }
        },
        {
          "output_type": "stream",
          "text": [
            "Saving diabetic_data.csv to diabetic_data (1).csv\n"
          ],
          "name": "stdout"
        },
        {
          "output_type": "error",
          "ename": "KeyboardInterrupt",
          "evalue": "ignored",
          "traceback": [
            "\u001b[0;31m---------------------------------------------------------------------------\u001b[0m",
            "\u001b[0;31mKeyboardInterrupt\u001b[0m                         Traceback (most recent call last)",
            "\u001b[0;32m<ipython-input-57-d0d55c597848>\u001b[0m in \u001b[0;36m<module>\u001b[0;34m()\u001b[0m\n\u001b[1;32m      1\u001b[0m \u001b[0;34m\u001b[0m\u001b[0m\n\u001b[1;32m      2\u001b[0m \u001b[0;32mfrom\u001b[0m \u001b[0mgoogle\u001b[0m\u001b[0;34m.\u001b[0m\u001b[0mcolab\u001b[0m \u001b[0;32mimport\u001b[0m \u001b[0mfiles\u001b[0m\u001b[0;34m\u001b[0m\u001b[0;34m\u001b[0m\u001b[0m\n\u001b[0;32m----> 3\u001b[0;31m \u001b[0muploaded\u001b[0m  \u001b[0;34m=\u001b[0m \u001b[0mfiles\u001b[0m\u001b[0;34m.\u001b[0m\u001b[0mupload\u001b[0m\u001b[0;34m(\u001b[0m\u001b[0;34m)\u001b[0m\u001b[0;34m\u001b[0m\u001b[0;34m\u001b[0m\u001b[0m\n\u001b[0m",
            "\u001b[0;32m/usr/local/lib/python3.6/dist-packages/google/colab/files.py\u001b[0m in \u001b[0;36mupload\u001b[0;34m()\u001b[0m\n\u001b[1;32m     70\u001b[0m     result = _output.eval_js(\n\u001b[1;32m     71\u001b[0m         'google.colab._files._uploadFilesContinue(\"{output_id}\")'.format(\n\u001b[0;32m---> 72\u001b[0;31m             output_id=output_id))\n\u001b[0m\u001b[1;32m     73\u001b[0m     \u001b[0;32mif\u001b[0m \u001b[0mresult\u001b[0m\u001b[0;34m[\u001b[0m\u001b[0;34m'action'\u001b[0m\u001b[0;34m]\u001b[0m \u001b[0;34m!=\u001b[0m \u001b[0;34m'append'\u001b[0m\u001b[0;34m:\u001b[0m\u001b[0;34m\u001b[0m\u001b[0;34m\u001b[0m\u001b[0m\n\u001b[1;32m     74\u001b[0m       \u001b[0;31m# JS side uses a generator of promises to process all of the files- some\u001b[0m\u001b[0;34m\u001b[0m\u001b[0;34m\u001b[0m\u001b[0;34m\u001b[0m\u001b[0m\n",
            "\u001b[0;32m/usr/local/lib/python3.6/dist-packages/google/colab/output/_js.py\u001b[0m in \u001b[0;36meval_js\u001b[0;34m(script, ignore_result)\u001b[0m\n\u001b[1;32m     37\u001b[0m   \u001b[0;32mif\u001b[0m \u001b[0mignore_result\u001b[0m\u001b[0;34m:\u001b[0m\u001b[0;34m\u001b[0m\u001b[0;34m\u001b[0m\u001b[0m\n\u001b[1;32m     38\u001b[0m     \u001b[0;32mreturn\u001b[0m\u001b[0;34m\u001b[0m\u001b[0;34m\u001b[0m\u001b[0m\n\u001b[0;32m---> 39\u001b[0;31m   \u001b[0;32mreturn\u001b[0m \u001b[0m_message\u001b[0m\u001b[0;34m.\u001b[0m\u001b[0mread_reply_from_input\u001b[0m\u001b[0;34m(\u001b[0m\u001b[0mrequest_id\u001b[0m\u001b[0;34m)\u001b[0m\u001b[0;34m\u001b[0m\u001b[0;34m\u001b[0m\u001b[0m\n\u001b[0m\u001b[1;32m     40\u001b[0m \u001b[0;34m\u001b[0m\u001b[0m\n\u001b[1;32m     41\u001b[0m \u001b[0;34m\u001b[0m\u001b[0m\n",
            "\u001b[0;32m/usr/local/lib/python3.6/dist-packages/google/colab/_message.py\u001b[0m in \u001b[0;36mread_reply_from_input\u001b[0;34m(message_id, timeout_sec)\u001b[0m\n\u001b[1;32m     99\u001b[0m     \u001b[0mreply\u001b[0m \u001b[0;34m=\u001b[0m \u001b[0m_read_next_input_message\u001b[0m\u001b[0;34m(\u001b[0m\u001b[0;34m)\u001b[0m\u001b[0;34m\u001b[0m\u001b[0;34m\u001b[0m\u001b[0m\n\u001b[1;32m    100\u001b[0m     \u001b[0;32mif\u001b[0m \u001b[0mreply\u001b[0m \u001b[0;34m==\u001b[0m \u001b[0m_NOT_READY\u001b[0m \u001b[0;32mor\u001b[0m \u001b[0;32mnot\u001b[0m \u001b[0misinstance\u001b[0m\u001b[0;34m(\u001b[0m\u001b[0mreply\u001b[0m\u001b[0;34m,\u001b[0m \u001b[0mdict\u001b[0m\u001b[0;34m)\u001b[0m\u001b[0;34m:\u001b[0m\u001b[0;34m\u001b[0m\u001b[0;34m\u001b[0m\u001b[0m\n\u001b[0;32m--> 101\u001b[0;31m       \u001b[0mtime\u001b[0m\u001b[0;34m.\u001b[0m\u001b[0msleep\u001b[0m\u001b[0;34m(\u001b[0m\u001b[0;36m0.025\u001b[0m\u001b[0;34m)\u001b[0m\u001b[0;34m\u001b[0m\u001b[0;34m\u001b[0m\u001b[0m\n\u001b[0m\u001b[1;32m    102\u001b[0m       \u001b[0;32mcontinue\u001b[0m\u001b[0;34m\u001b[0m\u001b[0;34m\u001b[0m\u001b[0m\n\u001b[1;32m    103\u001b[0m     if (reply.get('type') == 'colab_reply' and\n",
            "\u001b[0;31mKeyboardInterrupt\u001b[0m: "
          ]
        }
      ]
    },
    {
      "cell_type": "code",
      "metadata": {
        "id": "4HtK3iOPcs0c",
        "colab_type": "code",
        "outputId": "37334511-01ab-45fe-ea7b-1cdb53d6744a",
        "colab": {
          "base_uri": "https://localhost:8080/",
          "height": 89
        }
      },
      "source": [
        "import pandas as pd\n",
        "import numpy as np\n",
        "data = pd.read_csv('diabetic_data.csv', index_col = 0, sep = ',', na_values=['?'])\n",
        "data.reset_index(inplace = True)\n",
        "data.shape"
      ],
      "execution_count": 58,
      "outputs": [
        {
          "output_type": "stream",
          "text": [
            "/usr/local/lib/python3.6/dist-packages/IPython/core/interactiveshell.py:2718: DtypeWarning: Columns (10) have mixed types. Specify dtype option on import or set low_memory=False.\n",
            "  interactivity=interactivity, compiler=compiler, result=result)\n"
          ],
          "name": "stderr"
        },
        {
          "output_type": "execute_result",
          "data": {
            "text/plain": [
              "(101766, 50)"
            ]
          },
          "metadata": {
            "tags": []
          },
          "execution_count": 58
        }
      ]
    },
    {
      "cell_type": "markdown",
      "metadata": {
        "id": "VLYn-j0wcs0q",
        "colab_type": "text"
      },
      "source": [
        "Na pocetku imamo 49 atributa i jednu ciljnu promenljivu <i> readmitted </i>. Sada cemo da izvrsimo selekciju atributa po nekim kriterijumima.\n",
        "\n",
        "## Eliminisanje atributa:\n",
        "*  <font color = \"red\"> encounter_id </font> - primarni kljuc posete lekaru koji je u obliku numerickog broja cija vrednost nema nikakvog smisla u predvidjanju ciljne promenljive. Vrsimo zamenu u index-u sa rednim brojem radi jednostavnosti(tako je uradjenu i u radu)\n",
        "*  <font color = \"red\"> patient_nbr </font> - atribut moze biti koristan u nekim razmatranjima, jer predstavlja identifikacioni broj pacijenta, pa se pacijent moze posmatrati kroz nekoliko poseta. Medjutim u radu je uzeto da su to nezavisne posete i predvidjanje se vrsi nezavisno od pacijenta, te je ovaj atribut eliminisan. Takodje, postoji puno kategorickih vrednosti koji bi uticale da model lose radi\n",
        "*  <font color = \"red\"> weight </font> - previse nedostajucih vrednosti ~ 96.86 %\n",
        "*  <font color = \"red\"> payer_code </font> - kod placanja koji nema neke korelacije sa ciljnom promenljivom, a jos dodatno imamo puno nedostajucih vrednosti ~ 39.56 %\n",
        "\n",
        "Sledeca tri atributa su eminisana zato sto su kategoricki atributi sa puno razlicitih vrednosti, a postoji atribut <i> number_diagnoses </i> koji donekle zamenjuje ova tri atributa\n",
        "*  <font color = \"red\"> diag_1 </font> \n",
        "*  <font color = \"red\"> diag_2 </font>\n",
        "*  <font color = \"red\"> diag_3 </font>\n",
        "\n",
        "Sledeci atributi su eliminisani zbog prevelike zastupljenosti iste vrednosti:\n",
        "*  <font color = \"red\"> acetohexamide </font>\n",
        "*  <font color = \"red\"> examide </font>\n",
        "*  <font color = \"red\"> citoglipton </font>\n",
        "*  <font color = \"red\"> glimepiride-pioglitazone </font>\n",
        "*  <font color = \"red\"> metformin-rosiglitazone </font>\n",
        "*  <font color = \"red\"> metformin-pioglitazone </font>\n",
        "*  <font color = \"red\"> troglitazone </font>\n",
        "\n",
        "Nakon sto smo odredili koje cemo kolone atribute eliminisati, sve preostale cemo ubaciti u tabelu"
      ]
    },
    {
      "cell_type": "code",
      "metadata": {
        "id": "AenwoGkxcs0t",
        "colab_type": "code",
        "colab": {}
      },
      "source": [
        "df = data[['race', 'gender','age','admission_type_id', 'discharge_disposition_id','admission_source_id',\\\n",
        "           'time_in_hospital', 'medical_specialty','num_lab_procedures','num_procedures','num_medications', \\\n",
        "           'number_outpatient','number_emergency', 'number_inpatient', 'number_diagnoses','max_glu_serum',\\\n",
        "           'A1Cresult', 'metformin','repaglinide', 'nateglinide', 'chlorpropamide', 'glimepiride',\\\n",
        "           'glipizide', 'glyburide', 'tolbutamide',\n",
        "           'pioglitazone', 'rosiglitazone', 'acarbose', 'miglitol', \n",
        "           'tolazamide', 'insulin',\n",
        "           'glyburide-metformin', 'glipizide-metformin',\n",
        "           'change', 'diabetesMed' ,'readmitted']]\n",
        " \n",
        "df.head();"
      ],
      "execution_count": 0,
      "outputs": []
    },
    {
      "cell_type": "markdown",
      "metadata": {
        "id": "sM9t8gF1cs02",
        "colab_type": "text"
      },
      "source": [
        "##### Broj atributa: 35\n",
        "\n",
        "##### Ciljna promenljiva: <i> readmitted </i>"
      ]
    },
    {
      "cell_type": "markdown",
      "metadata": {
        "id": "B3tNE7oscs03",
        "colab_type": "text"
      },
      "source": [
        "Postoje 4 grupe atributa:\n",
        "* Demografske informacije (rasa, pol, godine)\n",
        "* Mere prikupljene u bolnici (nivo insulina, broj laboratorijskih procedura, rezultati H1A1 testa..)\n",
        "* Medikamenti za dijabetes i doza (Glyburide, Metformin)\n",
        "Prva grupa sadrzi samo 3 pomenuta atributa. Druga je najbrojnija i prikuplja se tokom boravka pacijenta u bolnici, nakon cega mu se propisuju lekovi koji predstavljaju trecu grupu."
      ]
    },
    {
      "cell_type": "markdown",
      "metadata": {
        "id": "kOOKr6jdcs04",
        "colab_type": "text"
      },
      "source": [
        "### Predlozeni modeli:\n",
        "* Naivni Bajes\n",
        "* Binomna Logisticka Regresija\n",
        "* Binomna Logisticka Regresija (odabrani atributi zasnovani na znacajnosti kod prethodnog modela)\n",
        "* Multinomijalna Logisticka Regresija\n",
        "* Logisticka regresija sa elasticnom mrezom\n",
        "* Metod potpornih vektora (SVM - bez kernela)\n",
        "* Metod potpornih vektora (SVM - Kernel kao polinom treceg stepena)\n",
        "* Metod potpornih vektora (SVM - Gausov kernel)\n",
        "* Neuronska mreza"
      ]
    },
    {
      "cell_type": "markdown",
      "metadata": {
        "id": "AlxuTTaxcs06",
        "colab_type": "text"
      },
      "source": [
        "## Transformacija i eliminisanje vrsta:\n",
        "* Svi pacijenti koji nemaju zabelezenu rasu, stavljamo najbrojniju vrednost 'Caucasian'\n",
        "* 3 vrste imaju nepoznat pol, posto je brojnija klasa 'Female', postavljamo da su oni 'Female'\n",
        "* IZBRISANA je instanca cija je vrednost 'admission_source_id' = 13 (13. Sick Baby) jer je tu vrednost imao samo jedan atribut\n",
        "* Menjamo sve nedostajuce vrednosti u atributu 'medical_specialty' na Missing (prema radu [2])\n",
        "* IZBRISANE su 9 instanci atributa 'medical_specialty' zbog jedinstvene vrednosti u atributu\n",
        "* IZBRISANA je instanca koja za vrednost atributa 'chlorpropamide' ima vrednost 'Down' (jedina sa tom vrednoscu)\n",
        "* IZBRISANA je jedna instanca jer je vrednost atributa 'tolazamide' = 'Up' jedinstvena "
      ]
    },
    {
      "cell_type": "code",
      "metadata": {
        "id": "qe3-CBEXcs07",
        "colab_type": "code",
        "outputId": "a3f38507-51e5-475b-a95a-a427732464d3",
        "colab": {
          "base_uri": "https://localhost:8080/",
          "height": 295
        }
      },
      "source": [
        "values = {'race' : 'Caucasian'}\n",
        "df.fillna(value = values, inplace = True)\n",
        "df.loc[df['gender'] == 'Unknown/Invalid', 'gender'] = 'Female'\n",
        "df.drop(df[df['admission_source_id'] == 13].index[0], inplace = True)\n",
        "df['medical_specialty'].fillna('Missing', inplace = True) # prema radu [2]\n",
        "\n",
        "set_medical_specialty_special = {'Psychiatry-Addictive', 'SportsMedicine', 'Surgery-PlasticwithinHeadandNeck',\\\n",
        "    'Dermatology', 'Speech', 'Pediatrics-InfectiousDiseases', 'Neurophysiology', 'Proctology', 'Perinatology'}\n",
        "for i in df.index:\n",
        "    if df.loc[i, 'medical_specialty'] in set_medical_specialty_special:\n",
        "        df.drop(i, inplace = True)\n",
        "\n",
        "df.drop(df[df['chlorpropamide'] == 'Down'].index[0], inplace = True)\n",
        "df.drop(df[df['tolazamide'] == 'Up'].index[0], inplace = True)"
      ],
      "execution_count": 60,
      "outputs": [
        {
          "output_type": "stream",
          "text": [
            "/usr/local/lib/python3.6/dist-packages/pandas/core/generic.py:6130: SettingWithCopyWarning: \n",
            "A value is trying to be set on a copy of a slice from a DataFrame\n",
            "\n",
            "See the caveats in the documentation: http://pandas.pydata.org/pandas-docs/stable/indexing.html#indexing-view-versus-copy\n",
            "  self._update_inplace(new_data)\n",
            "/usr/local/lib/python3.6/dist-packages/pandas/core/indexing.py:543: SettingWithCopyWarning: \n",
            "A value is trying to be set on a copy of a slice from a DataFrame.\n",
            "Try using .loc[row_indexer,col_indexer] = value instead\n",
            "\n",
            "See the caveats in the documentation: http://pandas.pydata.org/pandas-docs/stable/indexing.html#indexing-view-versus-copy\n",
            "  self.obj[item] = s\n",
            "/usr/local/lib/python3.6/dist-packages/pandas/core/frame.py:3940: SettingWithCopyWarning: \n",
            "A value is trying to be set on a copy of a slice from a DataFrame\n",
            "\n",
            "See the caveats in the documentation: http://pandas.pydata.org/pandas-docs/stable/indexing.html#indexing-view-versus-copy\n",
            "  errors=errors)\n"
          ],
          "name": "stderr"
        }
      ]
    },
    {
      "cell_type": "code",
      "metadata": {
        "id": "rJuhpuZMcs1Z",
        "colab_type": "code",
        "colab": {}
      },
      "source": [
        "kategoricke = list(df.columns)[15:-1] + ['admission_type_id', 'discharge_disposition_id','admission_source_id','medical_specialty', 'race', 'gender', 'age']"
      ],
      "execution_count": 0,
      "outputs": []
    },
    {
      "cell_type": "code",
      "metadata": {
        "id": "iDSORDHBcs1e",
        "colab_type": "code",
        "colab": {}
      },
      "source": [
        "df_dummied = pd.get_dummies(df, columns = kategoricke)"
      ],
      "execution_count": 0,
      "outputs": []
    },
    {
      "cell_type": "markdown",
      "metadata": {
        "id": "PuSxDuwncs1p",
        "colab_type": "text"
      },
      "source": [
        "## Podela podataka na skup za obucavanje, validaciju i test\n",
        "\n",
        "Prema [1] na skupu podataka nije izvrsena normalizacija. Skup je podeljen u odnosu 60/20/20"
      ]
    },
    {
      "cell_type": "code",
      "metadata": {
        "id": "KvauRqq_cs1q",
        "colab_type": "code",
        "colab": {}
      },
      "source": [
        "from sklearn.model_selection import train_test_split\n",
        "from sklearn import linear_model\n",
        "from sklearn import metrics\n",
        "from sklearn.naive_bayes import MultinomialNB\n",
        "from sklearn import ensemble\n",
        "from sklearn import svm\n",
        "from keras.models import Sequential\n",
        "from keras.layers import Dense\n",
        "\n",
        "import matplotlib.pyplot as plt\n",
        "%matplotlib inline"
      ],
      "execution_count": 0,
      "outputs": []
    },
    {
      "cell_type": "code",
      "metadata": {
        "id": "eNFbRvoBcs1v",
        "colab_type": "code",
        "colab": {}
      },
      "source": [
        "y = df_dummied['readmitted'];"
      ],
      "execution_count": 0,
      "outputs": []
    },
    {
      "cell_type": "code",
      "metadata": {
        "id": "RjbsIug8cs16",
        "colab_type": "code",
        "colab": {}
      },
      "source": [
        "y_bin = np.array([1 if y[i] == '<30' else 0 for i in df.index])"
      ],
      "execution_count": 0,
      "outputs": []
    },
    {
      "cell_type": "code",
      "metadata": {
        "id": "BGeXZWoucs2C",
        "colab_type": "code",
        "outputId": "e684009f-7af4-4227-efff-8bbed2c8c7fc",
        "colab": {
          "base_uri": "https://localhost:8080/",
          "height": 52
        }
      },
      "source": [
        "num_zeros = np.sum(y_bin == 0)\n",
        "num_ones = np.sum(y_bin == 1)\n",
        "print(num_ones)\n",
        "print(num_zeros)"
      ],
      "execution_count": 66,
      "outputs": [
        {
          "output_type": "stream",
          "text": [
            "11357\n",
            "90397\n"
          ],
          "name": "stdout"
        }
      ]
    },
    {
      "cell_type": "code",
      "metadata": {
        "id": "DproSiyecs2J",
        "colab_type": "code",
        "colab": {}
      },
      "source": [
        "df_dummied.drop(columns=['readmitted'], inplace = True)"
      ],
      "execution_count": 0,
      "outputs": []
    },
    {
      "cell_type": "code",
      "metadata": {
        "id": "YN0cTDfTcs2O",
        "colab_type": "code",
        "outputId": "a116e19b-dcbb-4756-9077-1d537d3ab112",
        "colab": {
          "base_uri": "https://localhost:8080/",
          "height": 35
        }
      },
      "source": [
        "X = df_dummied.values\n",
        "X.shape"
      ],
      "execution_count": 68,
      "outputs": [
        {
          "output_type": "execute_result",
          "data": {
            "text/plain": [
              "(101754, 208)"
            ]
          },
          "metadata": {
            "tags": []
          },
          "execution_count": 68
        }
      ]
    },
    {
      "cell_type": "code",
      "metadata": {
        "id": "5LN9425Ncs2b",
        "colab_type": "code",
        "colab": {}
      },
      "source": [
        "X_train_validation, X_test, y_train_validation, y_test =\\\n",
        "   train_test_split(X, y_bin, train_size = 0.8, test_size=0.2, stratify = y_bin, random_state = 7)\n",
        "\n",
        "X_train, X_validation, y_train, y_validation =\\\n",
        "   train_test_split(X_train_validation, y_train_validation, train_size = 0.75, test_size = 0.25, stratify = y_train_validation, random_state = 7)"
      ],
      "execution_count": 0,
      "outputs": []
    },
    {
      "cell_type": "code",
      "metadata": {
        "id": "LmPZMzL3pSd9",
        "colab_type": "code",
        "outputId": "e0513ca3-e37e-415e-b8a7-ae31f826aaa4",
        "colab": {
          "base_uri": "https://localhost:8080/",
          "height": 281
        }
      },
      "source": [
        "fig, ax = plt.subplots()\n",
        "\n",
        "n = X.shape[0]\n",
        "n_trening = X_train.shape[0] / n * 100\n",
        "n_val = X_validation.shape[0] / n * 100\n",
        "n_test = X_test.shape[0] / n * 100\n",
        "\n",
        "bar_trening, bar_val, bar_test = plt.bar([0, 1, 2], (n_trening, n_val, n_test))\n",
        "\n",
        "bar_trening.set_facecolor('r')\n",
        "bar_val.set_facecolor('g')\n",
        "bar_test.set_facecolor('b')\n",
        "\n",
        "ax.set_xticks([0, 1, 2])\n",
        "ax.set_xticklabels(['Trening', 'Validacija', 'Test'])\n",
        "\n",
        "ax.set_ylim([0, 100])\n",
        "ax.set_ylabel('Udeo')\n",
        "\n",
        "ax.set_title('Podela skupa podataka na trening, validaciju i test');"
      ],
      "execution_count": 70,
      "outputs": [
        {
          "output_type": "display_data",
          "data": {
            "image/png": "[encoded data removed]",
            "text/plain": [
              "<Figure size 432x288 with 1 Axes>"
            ]
          },
          "metadata": {
            "tags": []
          }
        }
      ]
    },
    {
      "cell_type": "code",
      "metadata": {
        "id": "rTMRjQtvp2AU",
        "colab_type": "code",
        "outputId": "b3f356b1-f572-46fb-effb-39184415c148",
        "colab": {
          "base_uri": "https://localhost:8080/",
          "height": 373
        }
      },
      "source": [
        "import numpy as np\n",
        "accuracy_matrix = np.zeros((11, 4))\n",
        "accuracy_matrix\n",
        "mapa = {\n",
        "    \n",
        "          \"Naive Classifier\" : [0 , 0, 0, 0],\n",
        "          \"Naive Bayes\" : [0 , 0, 0, 0],\n",
        "          \"Binomial Log Reg (kitchen sink)\" : [0 , 0, 0, 0],\n",
        "          \"Multinomial Log Reg (kitchen sink)\" : [0 , 0, 0, 0],\n",
        "          \"Elastic Net\" : [0 , 0, 0, 0],\n",
        "          \"Random Forests (balanced)\" : [0 , 0, 0, 0],\n",
        "          \"SVM (no Kernel)\" : [0 , 0, 0, 0],\n",
        "          \"SVM (3rd order polynomial Kernel)\" : [0 , 0, 0, 0],\n",
        "          \"SVM (Gaussian Kernel)\" : [1- 0.9918593985455022 ,0.9918593985455022, 1- 0.8882118814800255, 0.8882118814800255],\n",
        "          \"Nerural Network\" : [0 , 0, 0, 0],\n",
        "}\n",
        "\n",
        "C = ['Train 0-1 Loss', 'Train Accuracy', 'Dev 0-1 Loss', 'Dev Accuracy']\n",
        "R = ['Naive Classifier', \"Naive Bayes\", \"Binomial Log Reg (kitchen sink)\",\\\n",
        "\"Multinomial Log Reg (kitchen sink)\", \"Elastic Net\", \"Random Forests (balanced)\", \"SVM (no Kernel)\", \"SVM (3rd order polynomial Kernel)\",\\\n",
        "\"SVM (Gaussian Kernel)\",\"Nerural Network\" ]\n",
        "\n",
        "\n",
        "\n",
        "df = pd.DataFrame(mapa, index = ['Train 0-1 Loss', 'Train Accuracy', 'Dev 0-1 Loss', 'Dev Accuracy'])\n",
        "df = df.transpose()\n",
        "\n",
        "# NAIVE CLASSIFIER\n",
        "\n",
        "num1_train = np.sum(y_train == 1)\n",
        "num0_train = np.sum(y_train == 0)\n",
        "num1_val = np.sum(y_validation == 1)\n",
        "num0_val = np.sum(y_validation == 0)\n",
        "\n",
        "trening_accc = num0_train / (num0_train + num1_train)\n",
        "val_accc = num0_val / (num0_val + num1_val)\n",
        "\n",
        "print(trening_accc)\n",
        "\n",
        "pd.set_option(\"display.precision\", 7)\n",
        "df.loc[R[0], C[0]] = 1 - trening_accc\n",
        "df.loc[R[0], C[1]] = trening_accc\n",
        "df.loc[R[0], C[2]] = 1 - val_accc\n",
        "df.loc[R[0], C[3]] = val_accc\n",
        "df"
      ],
      "execution_count": 71,
      "outputs": [
        {
          "output_type": "stream",
          "text": [
            "0.8883902247264627\n"
          ],
          "name": "stdout"
        },
        {
          "output_type": "execute_result",
          "data": {
            "text/html": [
              "<div>\n",
              "<style scoped>\n",
              "    .dataframe tbody tr th:only-of-type {\n",
              "        vertical-align: middle;\n",
              "    }\n",
              "\n",
              "    .dataframe tbody tr th {\n",
              "        vertical-align: top;\n",
              "    }\n",
              "\n",
              "    .dataframe thead th {\n",
              "        text-align: right;\n",
              "    }\n",
              "</style>\n",
              "<table border=\"1\" class=\"dataframe\">\n",
              "  <thead>\n",
              "    <tr style=\"text-align: right;\">\n",
              "      <th></th>\n",
              "      <th>Train 0-1 Loss</th>\n",
              "      <th>Train Accuracy</th>\n",
              "      <th>Dev 0-1 Loss</th>\n",
              "      <th>Dev Accuracy</th>\n",
              "    </tr>\n",
              "  </thead>\n",
              "  <tbody>\n",
              "    <tr>\n",
              "      <th>Naive Classifier</th>\n",
              "      <td>0.1116098</td>\n",
              "      <td>0.8883902</td>\n",
              "      <td>0.1116407</td>\n",
              "      <td>0.8883593</td>\n",
              "    </tr>\n",
              "    <tr>\n",
              "      <th>Naive Bayes</th>\n",
              "      <td>0.0000000</td>\n",
              "      <td>0.0000000</td>\n",
              "      <td>0.0000000</td>\n",
              "      <td>0.0000000</td>\n",
              "    </tr>\n",
              "    <tr>\n",
              "      <th>Binomial Log Reg (kitchen sink)</th>\n",
              "      <td>0.0000000</td>\n",
              "      <td>0.0000000</td>\n",
              "      <td>0.0000000</td>\n",
              "      <td>0.0000000</td>\n",
              "    </tr>\n",
              "    <tr>\n",
              "      <th>Multinomial Log Reg (kitchen sink)</th>\n",
              "      <td>0.0000000</td>\n",
              "      <td>0.0000000</td>\n",
              "      <td>0.0000000</td>\n",
              "      <td>0.0000000</td>\n",
              "    </tr>\n",
              "    <tr>\n",
              "      <th>Elastic Net</th>\n",
              "      <td>0.0000000</td>\n",
              "      <td>0.0000000</td>\n",
              "      <td>0.0000000</td>\n",
              "      <td>0.0000000</td>\n",
              "    </tr>\n",
              "    <tr>\n",
              "      <th>Random Forests (balanced)</th>\n",
              "      <td>0.0000000</td>\n",
              "      <td>0.0000000</td>\n",
              "      <td>0.0000000</td>\n",
              "      <td>0.0000000</td>\n",
              "    </tr>\n",
              "    <tr>\n",
              "      <th>SVM (no Kernel)</th>\n",
              "      <td>0.0000000</td>\n",
              "      <td>0.0000000</td>\n",
              "      <td>0.0000000</td>\n",
              "      <td>0.0000000</td>\n",
              "    </tr>\n",
              "    <tr>\n",
              "      <th>SVM (3rd order polynomial Kernel)</th>\n",
              "      <td>0.0000000</td>\n",
              "      <td>0.0000000</td>\n",
              "      <td>0.0000000</td>\n",
              "      <td>0.0000000</td>\n",
              "    </tr>\n",
              "    <tr>\n",
              "      <th>SVM (Gaussian Kernel)</th>\n",
              "      <td>0.0081406</td>\n",
              "      <td>0.9918594</td>\n",
              "      <td>0.1117881</td>\n",
              "      <td>0.8882119</td>\n",
              "    </tr>\n",
              "    <tr>\n",
              "      <th>Nerural Network</th>\n",
              "      <td>0.0000000</td>\n",
              "      <td>0.0000000</td>\n",
              "      <td>0.0000000</td>\n",
              "      <td>0.0000000</td>\n",
              "    </tr>\n",
              "  </tbody>\n",
              "</table>\n",
              "</div>"
            ],
            "text/plain": [
              "                                    Train 0-1 Loss  ...  Dev Accuracy\n",
              "Naive Classifier                         0.1116098  ...     0.8883593\n",
              "Naive Bayes                              0.0000000  ...     0.0000000\n",
              "Binomial Log Reg (kitchen sink)          0.0000000  ...     0.0000000\n",
              "Multinomial Log Reg (kitchen sink)       0.0000000  ...     0.0000000\n",
              "Elastic Net                              0.0000000  ...     0.0000000\n",
              "Random Forests (balanced)                0.0000000  ...     0.0000000\n",
              "SVM (no Kernel)                          0.0000000  ...     0.0000000\n",
              "SVM (3rd order polynomial Kernel)        0.0000000  ...     0.0000000\n",
              "SVM (Gaussian Kernel)                    0.0081406  ...     0.8882119\n",
              "Nerural Network                          0.0000000  ...     0.0000000\n",
              "\n",
              "[10 rows x 4 columns]"
            ]
          },
          "metadata": {
            "tags": []
          },
          "execution_count": 71
        }
      ]
    },
    {
      "cell_type": "code",
      "metadata": {
        "id": "N8RBF1cQo8Pk",
        "colab_type": "code",
        "colab": {}
      },
      "source": [
        "def perform_classification(model, data, name):\n",
        "    X_train, X_val, y_train, y_val = data\n",
        "    model.fit(X_train, y_train)\n",
        "    N_train = X_train.shape[0]\n",
        "    N_val = X_val.shape[0]\n",
        "    y_train_pred = model.predict(X_train)\n",
        "    y_train_pred = [1 if y_train_pred[i] >= 0.5 else 0 for i in range(N_train)]\n",
        "    y_val_pred = model.predict(X_val)\n",
        "    y_val_pred = [1 if y_val_pred[i] >= 0.5 else 0 for i in range(N_val)]\n",
        "    print('Model: {}'.format(name))\n",
        "    print('Train accuracy: {}'.format(metrics.classification_report(y_train, y_train_pred)))\n",
        "    print('Validation accuracy: {}'.format(metrics.classification_report(y_val, y_val_pred)))\n",
        "    print('Train auc: {}'.format(metrics.roc_auc_score(y_train, y_train_pred)))\n",
        "    print('Validation auc: {}'.format(metrics.roc_auc_score(y_val, y_val_pred)))    \n",
        "    print('Model: {}\\n'.format(name))\n",
        "    print('Train accuracy: {}'.format(metrics.accuracy_score(y_train, y_train_pred)))\n",
        "    print('Validation accuracy: {}'.format(metrics.accuracy_score(y_val, y_val_pred)))\n",
        "    print(metrics.confusion_matrix(y_train, y_train_pred))\n",
        "    print(metrics.confusion_matrix(y_val, y_val_pred))\n",
        "    #fpr, tpr, thresholds = metrics.roc_curve(y, y_val_pred)\n",
        "    #print('Validation AUC: {}'.format(metrics.auc(y_val, y_val_pred)))"
      ],
      "execution_count": 0,
      "outputs": []
    },
    {
      "cell_type": "code",
      "metadata": {
        "id": "Rurf4l2woh8E",
        "colab_type": "code",
        "outputId": "2ad92e68-034b-4760-feb6-e717e19261c0",
        "colab": {
          "base_uri": "https://localhost:8080/",
          "height": 520
        }
      },
      "source": [
        "# NAIVE BAYES\n",
        "\n",
        "clf_NaiveBayes = MultinomialNB() \n",
        "perform_classification(clf_NaiveBayes, (X_train, X_validation, y_train, y_validation), 'Naive Bayes')"
      ],
      "execution_count": 0,
      "outputs": [
        {
          "output_type": "stream",
          "text": [
            "Model: Naive Bayes\n",
            "Train accuracy:               precision    recall  f1-score   support\n",
            "\n",
            "           0       0.90      0.95      0.93     54238\n",
            "           1       0.28      0.14      0.19      6814\n",
            "\n",
            "    accuracy                           0.86     61052\n",
            "   macro avg       0.59      0.55      0.56     61052\n",
            "weighted avg       0.83      0.86      0.84     61052\n",
            "\n",
            "Validation accuracy:               precision    recall  f1-score   support\n",
            "\n",
            "           0       0.90      0.96      0.93     18079\n",
            "           1       0.28      0.14      0.19      2272\n",
            "\n",
            "    accuracy                           0.86     20351\n",
            "   macro avg       0.59      0.55      0.56     20351\n",
            "weighted avg       0.83      0.86      0.84     20351\n",
            "\n",
            "Train auc: 0.5470304823451863\n",
            "Validation auc: 0.548460994547405\n",
            "Model: Naive Bayes\n",
            "\n",
            "Train accuracy: 0.8633132411714604\n",
            "Validation accuracy: 0.8643801287406024\n",
            "[[51754  2484]\n",
            " [ 5861   953]]\n",
            "[[17269   810]\n",
            " [ 1950   322]]\n"
          ],
          "name": "stdout"
        }
      ]
    },
    {
      "cell_type": "code",
      "metadata": {
        "id": "rPFZd6L7pkHk",
        "colab_type": "code",
        "outputId": "5755485e-60ab-4f41-acf1-f940af60858f",
        "colab": {
          "base_uri": "https://localhost:8080/",
          "height": 355
        }
      },
      "source": [
        "trening_accc = 0.8633132411714604\n",
        "val_accc = 0.8643801287406024\n",
        "df.loc[R[1], C[0]] = 1 - trening_accc\n",
        "df.loc[R[1], C[1]] = trening_accc\n",
        "df.loc[R[1], C[2]] = 1 - val_accc\n",
        "df.loc[R[1], C[3]] = val_accc\n",
        "df"
      ],
      "execution_count": 0,
      "outputs": [
        {
          "output_type": "execute_result",
          "data": {
            "text/html": [
              "<div>\n",
              "<style scoped>\n",
              "    .dataframe tbody tr th:only-of-type {\n",
              "        vertical-align: middle;\n",
              "    }\n",
              "\n",
              "    .dataframe tbody tr th {\n",
              "        vertical-align: top;\n",
              "    }\n",
              "\n",
              "    .dataframe thead th {\n",
              "        text-align: right;\n",
              "    }\n",
              "</style>\n",
              "<table border=\"1\" class=\"dataframe\">\n",
              "  <thead>\n",
              "    <tr style=\"text-align: right;\">\n",
              "      <th></th>\n",
              "      <th>Train 0-1 Loss</th>\n",
              "      <th>Train Accuracy</th>\n",
              "      <th>Dev 0-1 Loss</th>\n",
              "      <th>Dev Accuracy</th>\n",
              "    </tr>\n",
              "  </thead>\n",
              "  <tbody>\n",
              "    <tr>\n",
              "      <th>Naive Classifier</th>\n",
              "      <td>0.1116098</td>\n",
              "      <td>0.8883902</td>\n",
              "      <td>0.1116407</td>\n",
              "      <td>0.8883593</td>\n",
              "    </tr>\n",
              "    <tr>\n",
              "      <th>Naive Bayes</th>\n",
              "      <td>0.1366868</td>\n",
              "      <td>0.8633132</td>\n",
              "      <td>0.1356199</td>\n",
              "      <td>0.8643801</td>\n",
              "    </tr>\n",
              "    <tr>\n",
              "      <th>Binomial Log Reg (kitchen sink)</th>\n",
              "      <td>0.0000000</td>\n",
              "      <td>0.0000000</td>\n",
              "      <td>0.0000000</td>\n",
              "      <td>0.0000000</td>\n",
              "    </tr>\n",
              "    <tr>\n",
              "      <th>Multinomial Log Reg (kitchen sink)</th>\n",
              "      <td>0.0000000</td>\n",
              "      <td>0.0000000</td>\n",
              "      <td>0.0000000</td>\n",
              "      <td>0.0000000</td>\n",
              "    </tr>\n",
              "    <tr>\n",
              "      <th>Elastic Net</th>\n",
              "      <td>0.0000000</td>\n",
              "      <td>0.0000000</td>\n",
              "      <td>0.0000000</td>\n",
              "      <td>0.0000000</td>\n",
              "    </tr>\n",
              "    <tr>\n",
              "      <th>Random Forests (balanced)</th>\n",
              "      <td>0.0000000</td>\n",
              "      <td>0.0000000</td>\n",
              "      <td>0.0000000</td>\n",
              "      <td>0.0000000</td>\n",
              "    </tr>\n",
              "    <tr>\n",
              "      <th>SVM (no Kernel)</th>\n",
              "      <td>0.0000000</td>\n",
              "      <td>0.0000000</td>\n",
              "      <td>0.0000000</td>\n",
              "      <td>0.0000000</td>\n",
              "    </tr>\n",
              "    <tr>\n",
              "      <th>SVM (3rd order polynomial Kernel)</th>\n",
              "      <td>0.0000000</td>\n",
              "      <td>0.0000000</td>\n",
              "      <td>0.0000000</td>\n",
              "      <td>0.0000000</td>\n",
              "    </tr>\n",
              "    <tr>\n",
              "      <th>SVM (Gaussian Kernel)</th>\n",
              "      <td>0.0081406</td>\n",
              "      <td>0.9918594</td>\n",
              "      <td>0.1117881</td>\n",
              "      <td>0.8882119</td>\n",
              "    </tr>\n",
              "    <tr>\n",
              "      <th>Nerural Network</th>\n",
              "      <td>0.0000000</td>\n",
              "      <td>0.0000000</td>\n",
              "      <td>0.0000000</td>\n",
              "      <td>0.0000000</td>\n",
              "    </tr>\n",
              "  </tbody>\n",
              "</table>\n",
              "</div>"
            ],
            "text/plain": [
              "                                    Train 0-1 Loss  ...  Dev Accuracy\n",
              "Naive Classifier                         0.1116098  ...     0.8883593\n",
              "Naive Bayes                              0.1366868  ...     0.8643801\n",
              "Binomial Log Reg (kitchen sink)          0.0000000  ...     0.0000000\n",
              "Multinomial Log Reg (kitchen sink)       0.0000000  ...     0.0000000\n",
              "Elastic Net                              0.0000000  ...     0.0000000\n",
              "Random Forests (balanced)                0.0000000  ...     0.0000000\n",
              "SVM (no Kernel)                          0.0000000  ...     0.0000000\n",
              "SVM (3rd order polynomial Kernel)        0.0000000  ...     0.0000000\n",
              "SVM (Gaussian Kernel)                    0.0081406  ...     0.8882119\n",
              "Nerural Network                          0.0000000  ...     0.0000000\n",
              "\n",
              "[10 rows x 4 columns]"
            ]
          },
          "metadata": {
            "tags": []
          },
          "execution_count": 22
        }
      ]
    },
    {
      "cell_type": "code",
      "metadata": {
        "id": "SyVf21-u8I3Z",
        "colab_type": "code",
        "colab": {}
      },
      "source": [
        "from sklearn import preprocessing\n",
        "scaler = preprocessing.StandardScaler()\n",
        "scaler.fit(X_train) \n",
        "X_train = scaler.transform(X_train)\n",
        "X_validation = scaler.transform(X_validation)"
      ],
      "execution_count": 0,
      "outputs": []
    },
    {
      "cell_type": "code",
      "metadata": {
        "id": "vJAyqHe8xWLl",
        "colab_type": "code",
        "colab": {}
      },
      "source": [
        "N_train = X_train.shape[0]\n",
        "X_zeros = [] # vektori cija ciljna promenljiva je 0\n",
        "X_ones = [] # vektori cija je ciljna promenljiva 1\n",
        "for i in range(N_train):\n",
        "    if y_bin[i] == 0:\n",
        "        X_zeros.append(X_train[i])\n",
        "    else:\n",
        "        X_ones.append(X_train[i])\n",
        "        "
      ],
      "execution_count": 0,
      "outputs": []
    },
    {
      "cell_type": "code",
      "metadata": {
        "id": "mIk8OhbbyEbk",
        "colab_type": "code",
        "outputId": "873e24cc-8b62-4337-9cd7-562710b4a473",
        "colab": {
          "base_uri": "https://localhost:8080/",
          "height": 52
        }
      },
      "source": [
        "X_zeros = np.array(X_zeros)\n",
        "X_ones = np.array(X_ones)\n",
        "print(X_zeros.shape)\n",
        "print(X_ones.shape)"
      ],
      "execution_count": 0,
      "outputs": [
        {
          "output_type": "stream",
          "text": [
            "(54072, 208)\n",
            "(6980, 208)\n"
          ],
          "name": "stdout"
        }
      ]
    },
    {
      "cell_type": "code",
      "metadata": {
        "id": "AFcBxuG0qVjD",
        "colab_type": "code",
        "outputId": "aefd6636-ea25-4c74-beb9-90ab89421159",
        "colab": {
          "base_uri": "https://localhost:8080/",
          "height": 1000
        }
      },
      "source": [
        "# NAGLASAVANJE JEDINICA - LOGISTIC REGRESSION\n",
        "\n",
        "N_clf = 200\n",
        "models = []\n",
        "N_ones = X_ones.shape[0]\n",
        "N_zeros = X_zeros.shape[0]\n",
        "y_zeros = np.zeros(N_zeros)\n",
        "y_ones = np.ones(N_ones)\n",
        "\n",
        "q = 1.0\n",
        "\n",
        "for i in range(N_clf):\n",
        "  indices = np.random.choice(np.arange(0, N_zeros, 1), size = int(q * N_ones) )\n",
        "  X_zeros_sample = X_zeros[indices]\n",
        "  y_zeros_sample = y_zeros[indices]\n",
        "  X_train_tmp = np.vstack([X_zeros_sample, X_ones])\n",
        "  y_tmp = np.concatenate([y_zeros_sample, y_ones])\n",
        "  \n",
        "  clf = linear_model.LogisticRegression()\n",
        "  clf.fit(X_train_tmp, y_tmp)\n",
        "  models.append(clf)\n",
        "  \n",
        "Y_predictions = []\n",
        "for i in range(N_clf):\n",
        "    Y_predictions.append(models[i].predict(X_validation))\n",
        "\n",
        "N_val = X_validation.shape[0]\n",
        "y_pred = np.zeros(N_val)\n",
        "for i in range(N_val):\n",
        "    cnt = 0\n",
        "    for j in range(N_clf):\n",
        "        if (Y_predictions[j][i] == 1):\n",
        "            cnt += 1\n",
        "    y_pred[i] = cnt / N_clf\n",
        "    \n",
        "    \n",
        "Y_predictions_train = []\n",
        "for i in range(N_clf):\n",
        "    Y_predictions_train.append(models[i].predict(X_train))\n",
        "    \n",
        "y_pred_train = np.zeros(N_train)\n",
        "\n",
        "for i in range(N_train):\n",
        "    cnt = 0\n",
        "    for j in range(N_clf):\n",
        "        if (Y_predictions_train[j][i] == 1):\n",
        "            cnt += 1\n",
        "    y_pred_train[i] = cnt / N_clf\n",
        "    \n",
        "    \n",
        "\n",
        "y_predicted = [1 if y_pred[i] >= 0.5 else 0 for i in range(N_val)]\n",
        "y_predicted_train = [1 if y_pred_train[i] >= 0.5 else 0 for i in range(N_train)]\n",
        "\n",
        "print('Model: {}'.format('Naglasavanje jedinica'))\n",
        "print('Train accuracy: {}'.format(metrics.classification_report(y_train, y_predicted_train)))\n",
        "print('Validation accuracy: {}'.format(metrics.classification_report(y_validation, y_predicted)))\n",
        "\n",
        "print('Model: {}\\n'.format('Naglasavanje jedinica'))\n",
        "print('Train auc: {}'.format(metrics.roc_auc_score(y_train, y_predicted_train)))\n",
        "print('Validation auc: {}'.format(metrics.roc_auc_score(y_validation, y_predicted)))\n",
        "print('Train accuracy: {}'.format(metrics.accuracy_score(y_train, y_predicted_train)))\n",
        "print('Validation accuracy: {}'.format(metrics.accuracy_score(y_validation, y_predicted)))\n",
        "\n",
        "\n",
        "print(metrics.confusion_matrix(y_train, y_predicted_train))\n",
        "print(metrics.confusion_matrix(y_validation, y_predicted))"
      ],
      "execution_count": 0,
      "outputs": [
        {
          "output_type": "stream",
          "text": [
            "/usr/local/lib/python3.6/dist-packages/sklearn/linear_model/logistic.py:432: FutureWarning: Default solver will be changed to 'lbfgs' in 0.22. Specify a solver to silence this warning.\n",
            "  FutureWarning)\n",
            "/usr/local/lib/python3.6/dist-packages/sklearn/linear_model/logistic.py:432: FutureWarning: Default solver will be changed to 'lbfgs' in 0.22. Specify a solver to silence this warning.\n",
            "  FutureWarning)\n",
            "/usr/local/lib/python3.6/dist-packages/sklearn/linear_model/logistic.py:432: FutureWarning: Default solver will be changed to 'lbfgs' in 0.22. Specify a solver to silence this warning.\n",
            "  FutureWarning)\n",
            "/usr/local/lib/python3.6/dist-packages/sklearn/linear_model/logistic.py:432: FutureWarning: Default solver will be changed to 'lbfgs' in 0.22. Specify a solver to silence this warning.\n",
            "  FutureWarning)\n",
            "/usr/local/lib/python3.6/dist-packages/sklearn/linear_model/logistic.py:432: FutureWarning: Default solver will be changed to 'lbfgs' in 0.22. Specify a solver to silence this warning.\n",
            "  FutureWarning)\n",
            "/usr/local/lib/python3.6/dist-packages/sklearn/linear_model/logistic.py:432: FutureWarning: Default solver will be changed to 'lbfgs' in 0.22. Specify a solver to silence this warning.\n",
            "  FutureWarning)\n",
            "/usr/local/lib/python3.6/dist-packages/sklearn/linear_model/logistic.py:432: FutureWarning: Default solver will be changed to 'lbfgs' in 0.22. Specify a solver to silence this warning.\n",
            "  FutureWarning)\n",
            "/usr/local/lib/python3.6/dist-packages/sklearn/linear_model/logistic.py:432: FutureWarning: Default solver will be changed to 'lbfgs' in 0.22. Specify a solver to silence this warning.\n",
            "  FutureWarning)\n",
            "/usr/local/lib/python3.6/dist-packages/sklearn/linear_model/logistic.py:432: FutureWarning: Default solver will be changed to 'lbfgs' in 0.22. Specify a solver to silence this warning.\n",
            "  FutureWarning)\n",
            "/usr/local/lib/python3.6/dist-packages/sklearn/linear_model/logistic.py:432: FutureWarning: Default solver will be changed to 'lbfgs' in 0.22. Specify a solver to silence this warning.\n",
            "  FutureWarning)\n",
            "/usr/local/lib/python3.6/dist-packages/sklearn/linear_model/logistic.py:432: FutureWarning: Default solver will be changed to 'lbfgs' in 0.22. Specify a solver to silence this warning.\n",
            "  FutureWarning)\n",
            "/usr/local/lib/python3.6/dist-packages/sklearn/linear_model/logistic.py:432: FutureWarning: Default solver will be changed to 'lbfgs' in 0.22. Specify a solver to silence this warning.\n",
            "  FutureWarning)\n",
            "/usr/local/lib/python3.6/dist-packages/sklearn/linear_model/logistic.py:432: FutureWarning: Default solver will be changed to 'lbfgs' in 0.22. Specify a solver to silence this warning.\n",
            "  FutureWarning)\n",
            "/usr/local/lib/python3.6/dist-packages/sklearn/linear_model/logistic.py:432: FutureWarning: Default solver will be changed to 'lbfgs' in 0.22. Specify a solver to silence this warning.\n",
            "  FutureWarning)\n",
            "/usr/local/lib/python3.6/dist-packages/sklearn/linear_model/logistic.py:432: FutureWarning: Default solver will be changed to 'lbfgs' in 0.22. Specify a solver to silence this warning.\n",
            "  FutureWarning)\n",
            "/usr/local/lib/python3.6/dist-packages/sklearn/linear_model/logistic.py:432: FutureWarning: Default solver will be changed to 'lbfgs' in 0.22. Specify a solver to silence this warning.\n",
            "  FutureWarning)\n",
            "/usr/local/lib/python3.6/dist-packages/sklearn/linear_model/logistic.py:432: FutureWarning: Default solver will be changed to 'lbfgs' in 0.22. Specify a solver to silence this warning.\n",
            "  FutureWarning)\n",
            "/usr/local/lib/python3.6/dist-packages/sklearn/linear_model/logistic.py:432: FutureWarning: Default solver will be changed to 'lbfgs' in 0.22. Specify a solver to silence this warning.\n",
            "  FutureWarning)\n",
            "/usr/local/lib/python3.6/dist-packages/sklearn/linear_model/logistic.py:432: FutureWarning: Default solver will be changed to 'lbfgs' in 0.22. Specify a solver to silence this warning.\n",
            "  FutureWarning)\n",
            "/usr/local/lib/python3.6/dist-packages/sklearn/linear_model/logistic.py:432: FutureWarning: Default solver will be changed to 'lbfgs' in 0.22. Specify a solver to silence this warning.\n",
            "  FutureWarning)\n",
            "/usr/local/lib/python3.6/dist-packages/sklearn/linear_model/logistic.py:432: FutureWarning: Default solver will be changed to 'lbfgs' in 0.22. Specify a solver to silence this warning.\n",
            "  FutureWarning)\n",
            "/usr/local/lib/python3.6/dist-packages/sklearn/linear_model/logistic.py:432: FutureWarning: Default solver will be changed to 'lbfgs' in 0.22. Specify a solver to silence this warning.\n",
            "  FutureWarning)\n",
            "/usr/local/lib/python3.6/dist-packages/sklearn/linear_model/logistic.py:432: FutureWarning: Default solver will be changed to 'lbfgs' in 0.22. Specify a solver to silence this warning.\n",
            "  FutureWarning)\n",
            "/usr/local/lib/python3.6/dist-packages/sklearn/linear_model/logistic.py:432: FutureWarning: Default solver will be changed to 'lbfgs' in 0.22. Specify a solver to silence this warning.\n",
            "  FutureWarning)\n",
            "/usr/local/lib/python3.6/dist-packages/sklearn/linear_model/logistic.py:432: FutureWarning: Default solver will be changed to 'lbfgs' in 0.22. Specify a solver to silence this warning.\n",
            "  FutureWarning)\n",
            "/usr/local/lib/python3.6/dist-packages/sklearn/linear_model/logistic.py:432: FutureWarning: Default solver will be changed to 'lbfgs' in 0.22. Specify a solver to silence this warning.\n",
            "  FutureWarning)\n",
            "/usr/local/lib/python3.6/dist-packages/sklearn/linear_model/logistic.py:432: FutureWarning: Default solver will be changed to 'lbfgs' in 0.22. Specify a solver to silence this warning.\n",
            "  FutureWarning)\n",
            "/usr/local/lib/python3.6/dist-packages/sklearn/linear_model/logistic.py:432: FutureWarning: Default solver will be changed to 'lbfgs' in 0.22. Specify a solver to silence this warning.\n",
            "  FutureWarning)\n",
            "/usr/local/lib/python3.6/dist-packages/sklearn/linear_model/logistic.py:432: FutureWarning: Default solver will be changed to 'lbfgs' in 0.22. Specify a solver to silence this warning.\n",
            "  FutureWarning)\n",
            "/usr/local/lib/python3.6/dist-packages/sklearn/linear_model/logistic.py:432: FutureWarning: Default solver will be changed to 'lbfgs' in 0.22. Specify a solver to silence this warning.\n",
            "  FutureWarning)\n",
            "/usr/local/lib/python3.6/dist-packages/sklearn/linear_model/logistic.py:432: FutureWarning: Default solver will be changed to 'lbfgs' in 0.22. Specify a solver to silence this warning.\n",
            "  FutureWarning)\n",
            "/usr/local/lib/python3.6/dist-packages/sklearn/linear_model/logistic.py:432: FutureWarning: Default solver will be changed to 'lbfgs' in 0.22. Specify a solver to silence this warning.\n",
            "  FutureWarning)\n",
            "/usr/local/lib/python3.6/dist-packages/sklearn/linear_model/logistic.py:432: FutureWarning: Default solver will be changed to 'lbfgs' in 0.22. Specify a solver to silence this warning.\n",
            "  FutureWarning)\n",
            "/usr/local/lib/python3.6/dist-packages/sklearn/linear_model/logistic.py:432: FutureWarning: Default solver will be changed to 'lbfgs' in 0.22. Specify a solver to silence this warning.\n",
            "  FutureWarning)\n",
            "/usr/local/lib/python3.6/dist-packages/sklearn/linear_model/logistic.py:432: FutureWarning: Default solver will be changed to 'lbfgs' in 0.22. Specify a solver to silence this warning.\n",
            "  FutureWarning)\n",
            "/usr/local/lib/python3.6/dist-packages/sklearn/linear_model/logistic.py:432: FutureWarning: Default solver will be changed to 'lbfgs' in 0.22. Specify a solver to silence this warning.\n",
            "  FutureWarning)\n",
            "/usr/local/lib/python3.6/dist-packages/sklearn/linear_model/logistic.py:432: FutureWarning: Default solver will be changed to 'lbfgs' in 0.22. Specify a solver to silence this warning.\n",
            "  FutureWarning)\n",
            "/usr/local/lib/python3.6/dist-packages/sklearn/linear_model/logistic.py:432: FutureWarning: Default solver will be changed to 'lbfgs' in 0.22. Specify a solver to silence this warning.\n",
            "  FutureWarning)\n",
            "/usr/local/lib/python3.6/dist-packages/sklearn/linear_model/logistic.py:432: FutureWarning: Default solver will be changed to 'lbfgs' in 0.22. Specify a solver to silence this warning.\n",
            "  FutureWarning)\n",
            "/usr/local/lib/python3.6/dist-packages/sklearn/linear_model/logistic.py:432: FutureWarning: Default solver will be changed to 'lbfgs' in 0.22. Specify a solver to silence this warning.\n",
            "  FutureWarning)\n",
            "/usr/local/lib/python3.6/dist-packages/sklearn/linear_model/logistic.py:432: FutureWarning: Default solver will be changed to 'lbfgs' in 0.22. Specify a solver to silence this warning.\n",
            "  FutureWarning)\n",
            "/usr/local/lib/python3.6/dist-packages/sklearn/linear_model/logistic.py:432: FutureWarning: Default solver will be changed to 'lbfgs' in 0.22. Specify a solver to silence this warning.\n",
            "  FutureWarning)\n",
            "/usr/local/lib/python3.6/dist-packages/sklearn/linear_model/logistic.py:432: FutureWarning: Default solver will be changed to 'lbfgs' in 0.22. Specify a solver to silence this warning.\n",
            "  FutureWarning)\n",
            "/usr/local/lib/python3.6/dist-packages/sklearn/linear_model/logistic.py:432: FutureWarning: Default solver will be changed to 'lbfgs' in 0.22. Specify a solver to silence this warning.\n",
            "  FutureWarning)\n",
            "/usr/local/lib/python3.6/dist-packages/sklearn/linear_model/logistic.py:432: FutureWarning: Default solver will be changed to 'lbfgs' in 0.22. Specify a solver to silence this warning.\n",
            "  FutureWarning)\n",
            "/usr/local/lib/python3.6/dist-packages/sklearn/linear_model/logistic.py:432: FutureWarning: Default solver will be changed to 'lbfgs' in 0.22. Specify a solver to silence this warning.\n",
            "  FutureWarning)\n",
            "/usr/local/lib/python3.6/dist-packages/sklearn/linear_model/logistic.py:432: FutureWarning: Default solver will be changed to 'lbfgs' in 0.22. Specify a solver to silence this warning.\n",
            "  FutureWarning)\n",
            "/usr/local/lib/python3.6/dist-packages/sklearn/linear_model/logistic.py:432: FutureWarning: Default solver will be changed to 'lbfgs' in 0.22. Specify a solver to silence this warning.\n",
            "  FutureWarning)\n",
            "/usr/local/lib/python3.6/dist-packages/sklearn/linear_model/logistic.py:432: FutureWarning: Default solver will be changed to 'lbfgs' in 0.22. Specify a solver to silence this warning.\n",
            "  FutureWarning)\n",
            "/usr/local/lib/python3.6/dist-packages/sklearn/linear_model/logistic.py:432: FutureWarning: Default solver will be changed to 'lbfgs' in 0.22. Specify a solver to silence this warning.\n",
            "  FutureWarning)\n",
            "/usr/local/lib/python3.6/dist-packages/sklearn/linear_model/logistic.py:432: FutureWarning: Default solver will be changed to 'lbfgs' in 0.22. Specify a solver to silence this warning.\n",
            "  FutureWarning)\n",
            "/usr/local/lib/python3.6/dist-packages/sklearn/linear_model/logistic.py:432: FutureWarning: Default solver will be changed to 'lbfgs' in 0.22. Specify a solver to silence this warning.\n",
            "  FutureWarning)\n",
            "/usr/local/lib/python3.6/dist-packages/sklearn/linear_model/logistic.py:432: FutureWarning: Default solver will be changed to 'lbfgs' in 0.22. Specify a solver to silence this warning.\n",
            "  FutureWarning)\n",
            "/usr/local/lib/python3.6/dist-packages/sklearn/linear_model/logistic.py:432: FutureWarning: Default solver will be changed to 'lbfgs' in 0.22. Specify a solver to silence this warning.\n",
            "  FutureWarning)\n",
            "/usr/local/lib/python3.6/dist-packages/sklearn/linear_model/logistic.py:432: FutureWarning: Default solver will be changed to 'lbfgs' in 0.22. Specify a solver to silence this warning.\n",
            "  FutureWarning)\n",
            "/usr/local/lib/python3.6/dist-packages/sklearn/linear_model/logistic.py:432: FutureWarning: Default solver will be changed to 'lbfgs' in 0.22. Specify a solver to silence this warning.\n",
            "  FutureWarning)\n",
            "/usr/local/lib/python3.6/dist-packages/sklearn/linear_model/logistic.py:432: FutureWarning: Default solver will be changed to 'lbfgs' in 0.22. Specify a solver to silence this warning.\n",
            "  FutureWarning)\n",
            "/usr/local/lib/python3.6/dist-packages/sklearn/linear_model/logistic.py:432: FutureWarning: Default solver will be changed to 'lbfgs' in 0.22. Specify a solver to silence this warning.\n",
            "  FutureWarning)\n",
            "/usr/local/lib/python3.6/dist-packages/sklearn/linear_model/logistic.py:432: FutureWarning: Default solver will be changed to 'lbfgs' in 0.22. Specify a solver to silence this warning.\n",
            "  FutureWarning)\n",
            "/usr/local/lib/python3.6/dist-packages/sklearn/linear_model/logistic.py:432: FutureWarning: Default solver will be changed to 'lbfgs' in 0.22. Specify a solver to silence this warning.\n",
            "  FutureWarning)\n",
            "/usr/local/lib/python3.6/dist-packages/sklearn/linear_model/logistic.py:432: FutureWarning: Default solver will be changed to 'lbfgs' in 0.22. Specify a solver to silence this warning.\n",
            "  FutureWarning)\n",
            "/usr/local/lib/python3.6/dist-packages/sklearn/linear_model/logistic.py:432: FutureWarning: Default solver will be changed to 'lbfgs' in 0.22. Specify a solver to silence this warning.\n",
            "  FutureWarning)\n",
            "/usr/local/lib/python3.6/dist-packages/sklearn/linear_model/logistic.py:432: FutureWarning: Default solver will be changed to 'lbfgs' in 0.22. Specify a solver to silence this warning.\n",
            "  FutureWarning)\n",
            "/usr/local/lib/python3.6/dist-packages/sklearn/linear_model/logistic.py:432: FutureWarning: Default solver will be changed to 'lbfgs' in 0.22. Specify a solver to silence this warning.\n",
            "  FutureWarning)\n",
            "/usr/local/lib/python3.6/dist-packages/sklearn/linear_model/logistic.py:432: FutureWarning: Default solver will be changed to 'lbfgs' in 0.22. Specify a solver to silence this warning.\n",
            "  FutureWarning)\n",
            "/usr/local/lib/python3.6/dist-packages/sklearn/linear_model/logistic.py:432: FutureWarning: Default solver will be changed to 'lbfgs' in 0.22. Specify a solver to silence this warning.\n",
            "  FutureWarning)\n",
            "/usr/local/lib/python3.6/dist-packages/sklearn/linear_model/logistic.py:432: FutureWarning: Default solver will be changed to 'lbfgs' in 0.22. Specify a solver to silence this warning.\n",
            "  FutureWarning)\n",
            "/usr/local/lib/python3.6/dist-packages/sklearn/linear_model/logistic.py:432: FutureWarning: Default solver will be changed to 'lbfgs' in 0.22. Specify a solver to silence this warning.\n",
            "  FutureWarning)\n",
            "/usr/local/lib/python3.6/dist-packages/sklearn/linear_model/logistic.py:432: FutureWarning: Default solver will be changed to 'lbfgs' in 0.22. Specify a solver to silence this warning.\n",
            "  FutureWarning)\n",
            "/usr/local/lib/python3.6/dist-packages/sklearn/linear_model/logistic.py:432: FutureWarning: Default solver will be changed to 'lbfgs' in 0.22. Specify a solver to silence this warning.\n",
            "  FutureWarning)\n",
            "/usr/local/lib/python3.6/dist-packages/sklearn/linear_model/logistic.py:432: FutureWarning: Default solver will be changed to 'lbfgs' in 0.22. Specify a solver to silence this warning.\n",
            "  FutureWarning)\n",
            "/usr/local/lib/python3.6/dist-packages/sklearn/linear_model/logistic.py:432: FutureWarning: Default solver will be changed to 'lbfgs' in 0.22. Specify a solver to silence this warning.\n",
            "  FutureWarning)\n",
            "/usr/local/lib/python3.6/dist-packages/sklearn/linear_model/logistic.py:432: FutureWarning: Default solver will be changed to 'lbfgs' in 0.22. Specify a solver to silence this warning.\n",
            "  FutureWarning)\n",
            "/usr/local/lib/python3.6/dist-packages/sklearn/linear_model/logistic.py:432: FutureWarning: Default solver will be changed to 'lbfgs' in 0.22. Specify a solver to silence this warning.\n",
            "  FutureWarning)\n",
            "/usr/local/lib/python3.6/dist-packages/sklearn/linear_model/logistic.py:432: FutureWarning: Default solver will be changed to 'lbfgs' in 0.22. Specify a solver to silence this warning.\n",
            "  FutureWarning)\n",
            "/usr/local/lib/python3.6/dist-packages/sklearn/linear_model/logistic.py:432: FutureWarning: Default solver will be changed to 'lbfgs' in 0.22. Specify a solver to silence this warning.\n",
            "  FutureWarning)\n",
            "/usr/local/lib/python3.6/dist-packages/sklearn/linear_model/logistic.py:432: FutureWarning: Default solver will be changed to 'lbfgs' in 0.22. Specify a solver to silence this warning.\n",
            "  FutureWarning)\n",
            "/usr/local/lib/python3.6/dist-packages/sklearn/linear_model/logistic.py:432: FutureWarning: Default solver will be changed to 'lbfgs' in 0.22. Specify a solver to silence this warning.\n",
            "  FutureWarning)\n",
            "/usr/local/lib/python3.6/dist-packages/sklearn/linear_model/logistic.py:432: FutureWarning: Default solver will be changed to 'lbfgs' in 0.22. Specify a solver to silence this warning.\n",
            "  FutureWarning)\n",
            "/usr/local/lib/python3.6/dist-packages/sklearn/linear_model/logistic.py:432: FutureWarning: Default solver will be changed to 'lbfgs' in 0.22. Specify a solver to silence this warning.\n",
            "  FutureWarning)\n",
            "/usr/local/lib/python3.6/dist-packages/sklearn/linear_model/logistic.py:432: FutureWarning: Default solver will be changed to 'lbfgs' in 0.22. Specify a solver to silence this warning.\n",
            "  FutureWarning)\n",
            "/usr/local/lib/python3.6/dist-packages/sklearn/linear_model/logistic.py:432: FutureWarning: Default solver will be changed to 'lbfgs' in 0.22. Specify a solver to silence this warning.\n",
            "  FutureWarning)\n",
            "/usr/local/lib/python3.6/dist-packages/sklearn/linear_model/logistic.py:432: FutureWarning: Default solver will be changed to 'lbfgs' in 0.22. Specify a solver to silence this warning.\n",
            "  FutureWarning)\n",
            "/usr/local/lib/python3.6/dist-packages/sklearn/linear_model/logistic.py:432: FutureWarning: Default solver will be changed to 'lbfgs' in 0.22. Specify a solver to silence this warning.\n",
            "  FutureWarning)\n",
            "/usr/local/lib/python3.6/dist-packages/sklearn/linear_model/logistic.py:432: FutureWarning: Default solver will be changed to 'lbfgs' in 0.22. Specify a solver to silence this warning.\n",
            "  FutureWarning)\n",
            "/usr/local/lib/python3.6/dist-packages/sklearn/linear_model/logistic.py:432: FutureWarning: Default solver will be changed to 'lbfgs' in 0.22. Specify a solver to silence this warning.\n",
            "  FutureWarning)\n",
            "/usr/local/lib/python3.6/dist-packages/sklearn/linear_model/logistic.py:432: FutureWarning: Default solver will be changed to 'lbfgs' in 0.22. Specify a solver to silence this warning.\n",
            "  FutureWarning)\n",
            "/usr/local/lib/python3.6/dist-packages/sklearn/linear_model/logistic.py:432: FutureWarning: Default solver will be changed to 'lbfgs' in 0.22. Specify a solver to silence this warning.\n",
            "  FutureWarning)\n",
            "/usr/local/lib/python3.6/dist-packages/sklearn/linear_model/logistic.py:432: FutureWarning: Default solver will be changed to 'lbfgs' in 0.22. Specify a solver to silence this warning.\n",
            "  FutureWarning)\n",
            "/usr/local/lib/python3.6/dist-packages/sklearn/linear_model/logistic.py:432: FutureWarning: Default solver will be changed to 'lbfgs' in 0.22. Specify a solver to silence this warning.\n",
            "  FutureWarning)\n",
            "/usr/local/lib/python3.6/dist-packages/sklearn/linear_model/logistic.py:432: FutureWarning: Default solver will be changed to 'lbfgs' in 0.22. Specify a solver to silence this warning.\n",
            "  FutureWarning)\n",
            "/usr/local/lib/python3.6/dist-packages/sklearn/linear_model/logistic.py:432: FutureWarning: Default solver will be changed to 'lbfgs' in 0.22. Specify a solver to silence this warning.\n",
            "  FutureWarning)\n",
            "/usr/local/lib/python3.6/dist-packages/sklearn/linear_model/logistic.py:432: FutureWarning: Default solver will be changed to 'lbfgs' in 0.22. Specify a solver to silence this warning.\n",
            "  FutureWarning)\n",
            "/usr/local/lib/python3.6/dist-packages/sklearn/linear_model/logistic.py:432: FutureWarning: Default solver will be changed to 'lbfgs' in 0.22. Specify a solver to silence this warning.\n",
            "  FutureWarning)\n",
            "/usr/local/lib/python3.6/dist-packages/sklearn/linear_model/logistic.py:432: FutureWarning: Default solver will be changed to 'lbfgs' in 0.22. Specify a solver to silence this warning.\n",
            "  FutureWarning)\n",
            "/usr/local/lib/python3.6/dist-packages/sklearn/linear_model/logistic.py:432: FutureWarning: Default solver will be changed to 'lbfgs' in 0.22. Specify a solver to silence this warning.\n",
            "  FutureWarning)\n",
            "/usr/local/lib/python3.6/dist-packages/sklearn/linear_model/logistic.py:432: FutureWarning: Default solver will be changed to 'lbfgs' in 0.22. Specify a solver to silence this warning.\n",
            "  FutureWarning)\n",
            "/usr/local/lib/python3.6/dist-packages/sklearn/linear_model/logistic.py:432: FutureWarning: Default solver will be changed to 'lbfgs' in 0.22. Specify a solver to silence this warning.\n",
            "  FutureWarning)\n",
            "/usr/local/lib/python3.6/dist-packages/sklearn/linear_model/logistic.py:432: FutureWarning: Default solver will be changed to 'lbfgs' in 0.22. Specify a solver to silence this warning.\n",
            "  FutureWarning)\n",
            "/usr/local/lib/python3.6/dist-packages/sklearn/linear_model/logistic.py:432: FutureWarning: Default solver will be changed to 'lbfgs' in 0.22. Specify a solver to silence this warning.\n",
            "  FutureWarning)\n",
            "/usr/local/lib/python3.6/dist-packages/sklearn/linear_model/logistic.py:432: FutureWarning: Default solver will be changed to 'lbfgs' in 0.22. Specify a solver to silence this warning.\n",
            "  FutureWarning)\n",
            "/usr/local/lib/python3.6/dist-packages/sklearn/linear_model/logistic.py:432: FutureWarning: Default solver will be changed to 'lbfgs' in 0.22. Specify a solver to silence this warning.\n",
            "  FutureWarning)\n",
            "/usr/local/lib/python3.6/dist-packages/sklearn/linear_model/logistic.py:432: FutureWarning: Default solver will be changed to 'lbfgs' in 0.22. Specify a solver to silence this warning.\n",
            "  FutureWarning)\n",
            "/usr/local/lib/python3.6/dist-packages/sklearn/linear_model/logistic.py:432: FutureWarning: Default solver will be changed to 'lbfgs' in 0.22. Specify a solver to silence this warning.\n",
            "  FutureWarning)\n",
            "/usr/local/lib/python3.6/dist-packages/sklearn/linear_model/logistic.py:432: FutureWarning: Default solver will be changed to 'lbfgs' in 0.22. Specify a solver to silence this warning.\n",
            "  FutureWarning)\n",
            "/usr/local/lib/python3.6/dist-packages/sklearn/linear_model/logistic.py:432: FutureWarning: Default solver will be changed to 'lbfgs' in 0.22. Specify a solver to silence this warning.\n",
            "  FutureWarning)\n",
            "/usr/local/lib/python3.6/dist-packages/sklearn/linear_model/logistic.py:432: FutureWarning: Default solver will be changed to 'lbfgs' in 0.22. Specify a solver to silence this warning.\n",
            "  FutureWarning)\n",
            "/usr/local/lib/python3.6/dist-packages/sklearn/linear_model/logistic.py:432: FutureWarning: Default solver will be changed to 'lbfgs' in 0.22. Specify a solver to silence this warning.\n",
            "  FutureWarning)\n",
            "/usr/local/lib/python3.6/dist-packages/sklearn/linear_model/logistic.py:432: FutureWarning: Default solver will be changed to 'lbfgs' in 0.22. Specify a solver to silence this warning.\n",
            "  FutureWarning)\n",
            "/usr/local/lib/python3.6/dist-packages/sklearn/linear_model/logistic.py:432: FutureWarning: Default solver will be changed to 'lbfgs' in 0.22. Specify a solver to silence this warning.\n",
            "  FutureWarning)\n",
            "/usr/local/lib/python3.6/dist-packages/sklearn/linear_model/logistic.py:432: FutureWarning: Default solver will be changed to 'lbfgs' in 0.22. Specify a solver to silence this warning.\n",
            "  FutureWarning)\n",
            "/usr/local/lib/python3.6/dist-packages/sklearn/linear_model/logistic.py:432: FutureWarning: Default solver will be changed to 'lbfgs' in 0.22. Specify a solver to silence this warning.\n",
            "  FutureWarning)\n",
            "/usr/local/lib/python3.6/dist-packages/sklearn/linear_model/logistic.py:432: FutureWarning: Default solver will be changed to 'lbfgs' in 0.22. Specify a solver to silence this warning.\n",
            "  FutureWarning)\n",
            "/usr/local/lib/python3.6/dist-packages/sklearn/linear_model/logistic.py:432: FutureWarning: Default solver will be changed to 'lbfgs' in 0.22. Specify a solver to silence this warning.\n",
            "  FutureWarning)\n",
            "/usr/local/lib/python3.6/dist-packages/sklearn/linear_model/logistic.py:432: FutureWarning: Default solver will be changed to 'lbfgs' in 0.22. Specify a solver to silence this warning.\n",
            "  FutureWarning)\n",
            "/usr/local/lib/python3.6/dist-packages/sklearn/linear_model/logistic.py:432: FutureWarning: Default solver will be changed to 'lbfgs' in 0.22. Specify a solver to silence this warning.\n",
            "  FutureWarning)\n",
            "/usr/local/lib/python3.6/dist-packages/sklearn/linear_model/logistic.py:432: FutureWarning: Default solver will be changed to 'lbfgs' in 0.22. Specify a solver to silence this warning.\n",
            "  FutureWarning)\n",
            "/usr/local/lib/python3.6/dist-packages/sklearn/linear_model/logistic.py:432: FutureWarning: Default solver will be changed to 'lbfgs' in 0.22. Specify a solver to silence this warning.\n",
            "  FutureWarning)\n",
            "/usr/local/lib/python3.6/dist-packages/sklearn/linear_model/logistic.py:432: FutureWarning: Default solver will be changed to 'lbfgs' in 0.22. Specify a solver to silence this warning.\n",
            "  FutureWarning)\n",
            "/usr/local/lib/python3.6/dist-packages/sklearn/linear_model/logistic.py:432: FutureWarning: Default solver will be changed to 'lbfgs' in 0.22. Specify a solver to silence this warning.\n",
            "  FutureWarning)\n",
            "/usr/local/lib/python3.6/dist-packages/sklearn/linear_model/logistic.py:432: FutureWarning: Default solver will be changed to 'lbfgs' in 0.22. Specify a solver to silence this warning.\n",
            "  FutureWarning)\n",
            "/usr/local/lib/python3.6/dist-packages/sklearn/linear_model/logistic.py:432: FutureWarning: Default solver will be changed to 'lbfgs' in 0.22. Specify a solver to silence this warning.\n",
            "  FutureWarning)\n",
            "/usr/local/lib/python3.6/dist-packages/sklearn/linear_model/logistic.py:432: FutureWarning: Default solver will be changed to 'lbfgs' in 0.22. Specify a solver to silence this warning.\n",
            "  FutureWarning)\n",
            "/usr/local/lib/python3.6/dist-packages/sklearn/linear_model/logistic.py:432: FutureWarning: Default solver will be changed to 'lbfgs' in 0.22. Specify a solver to silence this warning.\n",
            "  FutureWarning)\n",
            "/usr/local/lib/python3.6/dist-packages/sklearn/linear_model/logistic.py:432: FutureWarning: Default solver will be changed to 'lbfgs' in 0.22. Specify a solver to silence this warning.\n",
            "  FutureWarning)\n",
            "/usr/local/lib/python3.6/dist-packages/sklearn/linear_model/logistic.py:432: FutureWarning: Default solver will be changed to 'lbfgs' in 0.22. Specify a solver to silence this warning.\n",
            "  FutureWarning)\n",
            "/usr/local/lib/python3.6/dist-packages/sklearn/linear_model/logistic.py:432: FutureWarning: Default solver will be changed to 'lbfgs' in 0.22. Specify a solver to silence this warning.\n",
            "  FutureWarning)\n",
            "/usr/local/lib/python3.6/dist-packages/sklearn/linear_model/logistic.py:432: FutureWarning: Default solver will be changed to 'lbfgs' in 0.22. Specify a solver to silence this warning.\n",
            "  FutureWarning)\n",
            "/usr/local/lib/python3.6/dist-packages/sklearn/linear_model/logistic.py:432: FutureWarning: Default solver will be changed to 'lbfgs' in 0.22. Specify a solver to silence this warning.\n",
            "  FutureWarning)\n",
            "/usr/local/lib/python3.6/dist-packages/sklearn/linear_model/logistic.py:432: FutureWarning: Default solver will be changed to 'lbfgs' in 0.22. Specify a solver to silence this warning.\n",
            "  FutureWarning)\n",
            "/usr/local/lib/python3.6/dist-packages/sklearn/linear_model/logistic.py:432: FutureWarning: Default solver will be changed to 'lbfgs' in 0.22. Specify a solver to silence this warning.\n",
            "  FutureWarning)\n",
            "/usr/local/lib/python3.6/dist-packages/sklearn/linear_model/logistic.py:432: FutureWarning: Default solver will be changed to 'lbfgs' in 0.22. Specify a solver to silence this warning.\n",
            "  FutureWarning)\n",
            "/usr/local/lib/python3.6/dist-packages/sklearn/linear_model/logistic.py:432: FutureWarning: Default solver will be changed to 'lbfgs' in 0.22. Specify a solver to silence this warning.\n",
            "  FutureWarning)\n",
            "/usr/local/lib/python3.6/dist-packages/sklearn/linear_model/logistic.py:432: FutureWarning: Default solver will be changed to 'lbfgs' in 0.22. Specify a solver to silence this warning.\n",
            "  FutureWarning)\n",
            "/usr/local/lib/python3.6/dist-packages/sklearn/linear_model/logistic.py:432: FutureWarning: Default solver will be changed to 'lbfgs' in 0.22. Specify a solver to silence this warning.\n",
            "  FutureWarning)\n",
            "/usr/local/lib/python3.6/dist-packages/sklearn/linear_model/logistic.py:432: FutureWarning: Default solver will be changed to 'lbfgs' in 0.22. Specify a solver to silence this warning.\n",
            "  FutureWarning)\n",
            "/usr/local/lib/python3.6/dist-packages/sklearn/linear_model/logistic.py:432: FutureWarning: Default solver will be changed to 'lbfgs' in 0.22. Specify a solver to silence this warning.\n",
            "  FutureWarning)\n",
            "/usr/local/lib/python3.6/dist-packages/sklearn/linear_model/logistic.py:432: FutureWarning: Default solver will be changed to 'lbfgs' in 0.22. Specify a solver to silence this warning.\n",
            "  FutureWarning)\n",
            "/usr/local/lib/python3.6/dist-packages/sklearn/linear_model/logistic.py:432: FutureWarning: Default solver will be changed to 'lbfgs' in 0.22. Specify a solver to silence this warning.\n",
            "  FutureWarning)\n",
            "/usr/local/lib/python3.6/dist-packages/sklearn/linear_model/logistic.py:432: FutureWarning: Default solver will be changed to 'lbfgs' in 0.22. Specify a solver to silence this warning.\n",
            "  FutureWarning)\n",
            "/usr/local/lib/python3.6/dist-packages/sklearn/linear_model/logistic.py:432: FutureWarning: Default solver will be changed to 'lbfgs' in 0.22. Specify a solver to silence this warning.\n",
            "  FutureWarning)\n",
            "/usr/local/lib/python3.6/dist-packages/sklearn/linear_model/logistic.py:432: FutureWarning: Default solver will be changed to 'lbfgs' in 0.22. Specify a solver to silence this warning.\n",
            "  FutureWarning)\n",
            "/usr/local/lib/python3.6/dist-packages/sklearn/linear_model/logistic.py:432: FutureWarning: Default solver will be changed to 'lbfgs' in 0.22. Specify a solver to silence this warning.\n",
            "  FutureWarning)\n",
            "/usr/local/lib/python3.6/dist-packages/sklearn/linear_model/logistic.py:432: FutureWarning: Default solver will be changed to 'lbfgs' in 0.22. Specify a solver to silence this warning.\n",
            "  FutureWarning)\n",
            "/usr/local/lib/python3.6/dist-packages/sklearn/linear_model/logistic.py:432: FutureWarning: Default solver will be changed to 'lbfgs' in 0.22. Specify a solver to silence this warning.\n",
            "  FutureWarning)\n",
            "/usr/local/lib/python3.6/dist-packages/sklearn/linear_model/logistic.py:432: FutureWarning: Default solver will be changed to 'lbfgs' in 0.22. Specify a solver to silence this warning.\n",
            "  FutureWarning)\n",
            "/usr/local/lib/python3.6/dist-packages/sklearn/linear_model/logistic.py:432: FutureWarning: Default solver will be changed to 'lbfgs' in 0.22. Specify a solver to silence this warning.\n",
            "  FutureWarning)\n",
            "/usr/local/lib/python3.6/dist-packages/sklearn/linear_model/logistic.py:432: FutureWarning: Default solver will be changed to 'lbfgs' in 0.22. Specify a solver to silence this warning.\n",
            "  FutureWarning)\n",
            "/usr/local/lib/python3.6/dist-packages/sklearn/linear_model/logistic.py:432: FutureWarning: Default solver will be changed to 'lbfgs' in 0.22. Specify a solver to silence this warning.\n",
            "  FutureWarning)\n",
            "/usr/local/lib/python3.6/dist-packages/sklearn/linear_model/logistic.py:432: FutureWarning: Default solver will be changed to 'lbfgs' in 0.22. Specify a solver to silence this warning.\n",
            "  FutureWarning)\n",
            "/usr/local/lib/python3.6/dist-packages/sklearn/linear_model/logistic.py:432: FutureWarning: Default solver will be changed to 'lbfgs' in 0.22. Specify a solver to silence this warning.\n",
            "  FutureWarning)\n",
            "/usr/local/lib/python3.6/dist-packages/sklearn/linear_model/logistic.py:432: FutureWarning: Default solver will be changed to 'lbfgs' in 0.22. Specify a solver to silence this warning.\n",
            "  FutureWarning)\n",
            "/usr/local/lib/python3.6/dist-packages/sklearn/linear_model/logistic.py:432: FutureWarning: Default solver will be changed to 'lbfgs' in 0.22. Specify a solver to silence this warning.\n",
            "  FutureWarning)\n",
            "/usr/local/lib/python3.6/dist-packages/sklearn/linear_model/logistic.py:432: FutureWarning: Default solver will be changed to 'lbfgs' in 0.22. Specify a solver to silence this warning.\n",
            "  FutureWarning)\n",
            "/usr/local/lib/python3.6/dist-packages/sklearn/linear_model/logistic.py:432: FutureWarning: Default solver will be changed to 'lbfgs' in 0.22. Specify a solver to silence this warning.\n",
            "  FutureWarning)\n",
            "/usr/local/lib/python3.6/dist-packages/sklearn/linear_model/logistic.py:432: FutureWarning: Default solver will be changed to 'lbfgs' in 0.22. Specify a solver to silence this warning.\n",
            "  FutureWarning)\n",
            "/usr/local/lib/python3.6/dist-packages/sklearn/linear_model/logistic.py:432: FutureWarning: Default solver will be changed to 'lbfgs' in 0.22. Specify a solver to silence this warning.\n",
            "  FutureWarning)\n",
            "/usr/local/lib/python3.6/dist-packages/sklearn/linear_model/logistic.py:432: FutureWarning: Default solver will be changed to 'lbfgs' in 0.22. Specify a solver to silence this warning.\n",
            "  FutureWarning)\n",
            "/usr/local/lib/python3.6/dist-packages/sklearn/linear_model/logistic.py:432: FutureWarning: Default solver will be changed to 'lbfgs' in 0.22. Specify a solver to silence this warning.\n",
            "  FutureWarning)\n",
            "/usr/local/lib/python3.6/dist-packages/sklearn/linear_model/logistic.py:432: FutureWarning: Default solver will be changed to 'lbfgs' in 0.22. Specify a solver to silence this warning.\n",
            "  FutureWarning)\n",
            "/usr/local/lib/python3.6/dist-packages/sklearn/linear_model/logistic.py:432: FutureWarning: Default solver will be changed to 'lbfgs' in 0.22. Specify a solver to silence this warning.\n",
            "  FutureWarning)\n",
            "/usr/local/lib/python3.6/dist-packages/sklearn/linear_model/logistic.py:432: FutureWarning: Default solver will be changed to 'lbfgs' in 0.22. Specify a solver to silence this warning.\n",
            "  FutureWarning)\n",
            "/usr/local/lib/python3.6/dist-packages/sklearn/linear_model/logistic.py:432: FutureWarning: Default solver will be changed to 'lbfgs' in 0.22. Specify a solver to silence this warning.\n",
            "  FutureWarning)\n",
            "/usr/local/lib/python3.6/dist-packages/sklearn/linear_model/logistic.py:432: FutureWarning: Default solver will be changed to 'lbfgs' in 0.22. Specify a solver to silence this warning.\n",
            "  FutureWarning)\n",
            "/usr/local/lib/python3.6/dist-packages/sklearn/linear_model/logistic.py:432: FutureWarning: Default solver will be changed to 'lbfgs' in 0.22. Specify a solver to silence this warning.\n",
            "  FutureWarning)\n",
            "/usr/local/lib/python3.6/dist-packages/sklearn/linear_model/logistic.py:432: FutureWarning: Default solver will be changed to 'lbfgs' in 0.22. Specify a solver to silence this warning.\n",
            "  FutureWarning)\n",
            "/usr/local/lib/python3.6/dist-packages/sklearn/linear_model/logistic.py:432: FutureWarning: Default solver will be changed to 'lbfgs' in 0.22. Specify a solver to silence this warning.\n",
            "  FutureWarning)\n",
            "/usr/local/lib/python3.6/dist-packages/sklearn/linear_model/logistic.py:432: FutureWarning: Default solver will be changed to 'lbfgs' in 0.22. Specify a solver to silence this warning.\n",
            "  FutureWarning)\n",
            "/usr/local/lib/python3.6/dist-packages/sklearn/linear_model/logistic.py:432: FutureWarning: Default solver will be changed to 'lbfgs' in 0.22. Specify a solver to silence this warning.\n",
            "  FutureWarning)\n",
            "/usr/local/lib/python3.6/dist-packages/sklearn/linear_model/logistic.py:432: FutureWarning: Default solver will be changed to 'lbfgs' in 0.22. Specify a solver to silence this warning.\n",
            "  FutureWarning)\n",
            "/usr/local/lib/python3.6/dist-packages/sklearn/linear_model/logistic.py:432: FutureWarning: Default solver will be changed to 'lbfgs' in 0.22. Specify a solver to silence this warning.\n",
            "  FutureWarning)\n",
            "/usr/local/lib/python3.6/dist-packages/sklearn/linear_model/logistic.py:432: FutureWarning: Default solver will be changed to 'lbfgs' in 0.22. Specify a solver to silence this warning.\n",
            "  FutureWarning)\n",
            "/usr/local/lib/python3.6/dist-packages/sklearn/linear_model/logistic.py:432: FutureWarning: Default solver will be changed to 'lbfgs' in 0.22. Specify a solver to silence this warning.\n",
            "  FutureWarning)\n",
            "/usr/local/lib/python3.6/dist-packages/sklearn/linear_model/logistic.py:432: FutureWarning: Default solver will be changed to 'lbfgs' in 0.22. Specify a solver to silence this warning.\n",
            "  FutureWarning)\n",
            "/usr/local/lib/python3.6/dist-packages/sklearn/linear_model/logistic.py:432: FutureWarning: Default solver will be changed to 'lbfgs' in 0.22. Specify a solver to silence this warning.\n",
            "  FutureWarning)\n",
            "/usr/local/lib/python3.6/dist-packages/sklearn/linear_model/logistic.py:432: FutureWarning: Default solver will be changed to 'lbfgs' in 0.22. Specify a solver to silence this warning.\n",
            "  FutureWarning)\n",
            "/usr/local/lib/python3.6/dist-packages/sklearn/linear_model/logistic.py:432: FutureWarning: Default solver will be changed to 'lbfgs' in 0.22. Specify a solver to silence this warning.\n",
            "  FutureWarning)\n",
            "/usr/local/lib/python3.6/dist-packages/sklearn/linear_model/logistic.py:432: FutureWarning: Default solver will be changed to 'lbfgs' in 0.22. Specify a solver to silence this warning.\n",
            "  FutureWarning)\n",
            "/usr/local/lib/python3.6/dist-packages/sklearn/linear_model/logistic.py:432: FutureWarning: Default solver will be changed to 'lbfgs' in 0.22. Specify a solver to silence this warning.\n",
            "  FutureWarning)\n",
            "/usr/local/lib/python3.6/dist-packages/sklearn/linear_model/logistic.py:432: FutureWarning: Default solver will be changed to 'lbfgs' in 0.22. Specify a solver to silence this warning.\n",
            "  FutureWarning)\n",
            "/usr/local/lib/python3.6/dist-packages/sklearn/linear_model/logistic.py:432: FutureWarning: Default solver will be changed to 'lbfgs' in 0.22. Specify a solver to silence this warning.\n",
            "  FutureWarning)\n",
            "/usr/local/lib/python3.6/dist-packages/sklearn/linear_model/logistic.py:432: FutureWarning: Default solver will be changed to 'lbfgs' in 0.22. Specify a solver to silence this warning.\n",
            "  FutureWarning)\n",
            "/usr/local/lib/python3.6/dist-packages/sklearn/linear_model/logistic.py:432: FutureWarning: Default solver will be changed to 'lbfgs' in 0.22. Specify a solver to silence this warning.\n",
            "  FutureWarning)\n",
            "/usr/local/lib/python3.6/dist-packages/sklearn/linear_model/logistic.py:432: FutureWarning: Default solver will be changed to 'lbfgs' in 0.22. Specify a solver to silence this warning.\n",
            "  FutureWarning)\n",
            "/usr/local/lib/python3.6/dist-packages/sklearn/linear_model/logistic.py:432: FutureWarning: Default solver will be changed to 'lbfgs' in 0.22. Specify a solver to silence this warning.\n",
            "  FutureWarning)\n",
            "/usr/local/lib/python3.6/dist-packages/sklearn/linear_model/logistic.py:432: FutureWarning: Default solver will be changed to 'lbfgs' in 0.22. Specify a solver to silence this warning.\n",
            "  FutureWarning)\n",
            "/usr/local/lib/python3.6/dist-packages/sklearn/linear_model/logistic.py:432: FutureWarning: Default solver will be changed to 'lbfgs' in 0.22. Specify a solver to silence this warning.\n",
            "  FutureWarning)\n",
            "/usr/local/lib/python3.6/dist-packages/sklearn/linear_model/logistic.py:432: FutureWarning: Default solver will be changed to 'lbfgs' in 0.22. Specify a solver to silence this warning.\n",
            "  FutureWarning)\n",
            "/usr/local/lib/python3.6/dist-packages/sklearn/linear_model/logistic.py:432: FutureWarning: Default solver will be changed to 'lbfgs' in 0.22. Specify a solver to silence this warning.\n",
            "  FutureWarning)\n",
            "/usr/local/lib/python3.6/dist-packages/sklearn/linear_model/logistic.py:432: FutureWarning: Default solver will be changed to 'lbfgs' in 0.22. Specify a solver to silence this warning.\n",
            "  FutureWarning)\n",
            "/usr/local/lib/python3.6/dist-packages/sklearn/linear_model/logistic.py:432: FutureWarning: Default solver will be changed to 'lbfgs' in 0.22. Specify a solver to silence this warning.\n",
            "  FutureWarning)\n",
            "/usr/local/lib/python3.6/dist-packages/sklearn/linear_model/logistic.py:432: FutureWarning: Default solver will be changed to 'lbfgs' in 0.22. Specify a solver to silence this warning.\n",
            "  FutureWarning)\n",
            "/usr/local/lib/python3.6/dist-packages/sklearn/linear_model/logistic.py:432: FutureWarning: Default solver will be changed to 'lbfgs' in 0.22. Specify a solver to silence this warning.\n",
            "  FutureWarning)\n",
            "/usr/local/lib/python3.6/dist-packages/sklearn/linear_model/logistic.py:432: FutureWarning: Default solver will be changed to 'lbfgs' in 0.22. Specify a solver to silence this warning.\n",
            "  FutureWarning)\n",
            "/usr/local/lib/python3.6/dist-packages/sklearn/linear_model/logistic.py:432: FutureWarning: Default solver will be changed to 'lbfgs' in 0.22. Specify a solver to silence this warning.\n",
            "  FutureWarning)\n",
            "/usr/local/lib/python3.6/dist-packages/sklearn/linear_model/logistic.py:432: FutureWarning: Default solver will be changed to 'lbfgs' in 0.22. Specify a solver to silence this warning.\n",
            "  FutureWarning)\n",
            "/usr/local/lib/python3.6/dist-packages/sklearn/linear_model/logistic.py:432: FutureWarning: Default solver will be changed to 'lbfgs' in 0.22. Specify a solver to silence this warning.\n",
            "  FutureWarning)\n",
            "/usr/local/lib/python3.6/dist-packages/sklearn/linear_model/logistic.py:432: FutureWarning: Default solver will be changed to 'lbfgs' in 0.22. Specify a solver to silence this warning.\n",
            "  FutureWarning)\n",
            "/usr/local/lib/python3.6/dist-packages/sklearn/linear_model/logistic.py:432: FutureWarning: Default solver will be changed to 'lbfgs' in 0.22. Specify a solver to silence this warning.\n",
            "  FutureWarning)\n",
            "/usr/local/lib/python3.6/dist-packages/sklearn/linear_model/logistic.py:432: FutureWarning: Default solver will be changed to 'lbfgs' in 0.22. Specify a solver to silence this warning.\n",
            "  FutureWarning)\n"
          ],
          "name": "stderr"
        },
        {
          "output_type": "stream",
          "text": [
            "Model: Naglasavanje jedinica\n",
            "Train accuracy:               precision    recall  f1-score   support\n",
            "\n",
            "           0       0.88      0.46      0.60     54238\n",
            "           1       0.11      0.52      0.18      6814\n",
            "\n",
            "    accuracy                           0.46     61052\n",
            "   macro avg       0.50      0.49      0.39     61052\n",
            "weighted avg       0.80      0.46      0.55     61052\n",
            "\n",
            "Validation accuracy:               precision    recall  f1-score   support\n",
            "\n",
            "           0       0.88      0.45      0.60     18079\n",
            "           1       0.10      0.50      0.17      2272\n",
            "\n",
            "    accuracy                           0.46     20351\n",
            "   macro avg       0.49      0.48      0.39     20351\n",
            "weighted avg       0.79      0.46      0.55     20351\n",
            "\n",
            "Model: Naglasavanje jedinica\n",
            "\n",
            "Train auc: 0.48866375964447983\n",
            "Validation auc: 0.47904083330671565\n",
            "Train accuracy: 0.46367031383083274\n",
            "Validation accuracy: 0.4600265343226377\n",
            "[[24759 29479]\n",
            " [ 3265  3549]]\n",
            "[[8218 9861]\n",
            " [1128 1144]]\n"
          ],
          "name": "stdout"
        }
      ]
    },
    {
      "cell_type": "code",
      "metadata": {
        "id": "0qOMOk1ijonR",
        "colab_type": "code",
        "outputId": "18a1a10e-a43a-489b-f356-53db50f35d24",
        "colab": {
          "base_uri": "https://localhost:8080/",
          "height": 520
        }
      },
      "source": [
        "y_predicted = [1 if y_pred[i] >= 0.8 else 0 for i in range(N_val)]\n",
        "y_predicted_train = [1 if y_pred_train[i] >= 0.8 else 0 for i in range(N_train)]\n",
        "\n",
        "print('Model: {}'.format('Naglasavanje jedinica'))\n",
        "print('Train accuracy: {}'.format(metrics.classification_report(y_train, y_predicted_train)))\n",
        "print('Validation accuracy: {}'.format(metrics.classification_report(y_validation, y_predicted)))\n",
        "print('Train auc: {}'.format(metrics.roc_auc_score(y_train, y_predicted_train)))\n",
        "print('Validation auc: {}'.format(metrics.roc_auc_score(y_validation, y_predicted)))\n",
        "\n",
        "print('Model: {}\\n'.format('Naglasavanje jedinica'))\n",
        "print('Train accuracy: {}'.format(metrics.accuracy_score(y_train, y_predicted_train)))\n",
        "print('Validation accuracy: {}'.format(metrics.accuracy_score(y_validation, y_predicted)))\n",
        "\n",
        "print(metrics.confusion_matrix(y_train, y_predicted_train))\n",
        "print(metrics.confusion_matrix(y_validation, y_predicted))"
      ],
      "execution_count": 0,
      "outputs": [
        {
          "output_type": "stream",
          "text": [
            "Model: Naglasavanje jedinica\n",
            "Train accuracy:               precision    recall  f1-score   support\n",
            "\n",
            "           0       0.89      0.80      0.84     54238\n",
            "           1       0.10      0.17      0.12      6814\n",
            "\n",
            "    accuracy                           0.73     61052\n",
            "   macro avg       0.49      0.49      0.48     61052\n",
            "weighted avg       0.80      0.73      0.76     61052\n",
            "\n",
            "Validation accuracy:               precision    recall  f1-score   support\n",
            "\n",
            "           0       0.88      0.80      0.84     18079\n",
            "           1       0.09      0.16      0.11      2272\n",
            "\n",
            "    accuracy                           0.73     20351\n",
            "   macro avg       0.49      0.48      0.48     20351\n",
            "weighted avg       0.79      0.73      0.76     20351\n",
            "\n",
            "Train auc: 0.4872719739510713\n",
            "Validation auc: 0.47930869378837326\n",
            "Model: Naglasavanje jedinica\n",
            "\n",
            "Train accuracy: 0.7334239664548254\n",
            "Validation accuracy: 0.7302343865166331\n",
            "[[43616 10622]\n",
            " [ 5653  1161]]\n",
            "[[14506  3573]\n",
            " [ 1917   355]]\n"
          ],
          "name": "stdout"
        }
      ]
    },
    {
      "cell_type": "code",
      "metadata": {
        "id": "FpVJvJyfhHOB",
        "colab_type": "code",
        "outputId": "d01aa330-daab-44e4-a5ad-86afe444f62c",
        "colab": {
          "base_uri": "https://localhost:8080/",
          "height": 575
        }
      },
      "source": [
        "# ELASTIC NET\n",
        "\n",
        "clf_ElasticNet = linear_model.ElasticNetCV() \n",
        "perform_classification(clf_ElasticNet, (X_train, X_validation, y_train, y_validation), 'Elastic Net')"
      ],
      "execution_count": 0,
      "outputs": [
        {
          "output_type": "stream",
          "text": [
            "/usr/local/lib/python3.6/dist-packages/sklearn/model_selection/_split.py:1978: FutureWarning: The default value of cv will change from 3 to 5 in version 0.22. Specify it explicitly to silence this warning.\n",
            "  warnings.warn(CV_WARNING, FutureWarning)\n"
          ],
          "name": "stderr"
        },
        {
          "output_type": "stream",
          "text": [
            "Model: Elastic Net\n",
            "Train accuracy:               precision    recall  f1-score   support\n",
            "\n",
            "           0       0.89      1.00      0.94     54238\n",
            "           1       0.56      0.01      0.01      6814\n",
            "\n",
            "    accuracy                           0.89     61052\n",
            "   macro avg       0.72      0.50      0.48     61052\n",
            "weighted avg       0.85      0.89      0.84     61052\n",
            "\n",
            "Validation accuracy:               precision    recall  f1-score   support\n",
            "\n",
            "           0       0.89      1.00      0.94     18079\n",
            "           1       0.56      0.01      0.02      2272\n",
            "\n",
            "    accuracy                           0.89     20351\n",
            "   macro avg       0.73      0.50      0.48     20351\n",
            "weighted avg       0.85      0.89      0.84     20351\n",
            "\n",
            "Train auc: 0.503171852356083\n",
            "Validation auc: 0.5045638045736669\n",
            "Model: Elastic Net\n",
            "\n",
            "Train accuracy: 0.8885540195243399\n",
            "Validation accuracy: 0.8886049825561397\n",
            "[[54200    38]\n",
            " [ 6766    48]]\n",
            "[[18061    18]\n",
            " [ 2249    23]]\n"
          ],
          "name": "stdout"
        }
      ]
    },
    {
      "cell_type": "code",
      "metadata": {
        "id": "M7cu1bjRr7Ou",
        "colab_type": "code",
        "outputId": "f6228241-9785-49ec-94b8-a10ae037634a",
        "colab": {
          "base_uri": "https://localhost:8080/",
          "height": 357
        }
      },
      "source": [
        "trening_accc = 0.8885540195243399\n",
        "val_accc = 0.8886049825561397\n",
        "df.loc[R[4], C[0]] = 1 - trening_accc\n",
        "df.loc[R[4], C[1]] = trening_accc\n",
        "df.loc[R[4], C[2]] = 1 - val_accc\n",
        "df.loc[R[4], C[3]] = val_accc\n",
        "df"
      ],
      "execution_count": 0,
      "outputs": [
        {
          "output_type": "execute_result",
          "data": {
            "text/html": [
              "<div>\n",
              "<style scoped>\n",
              "    .dataframe tbody tr th:only-of-type {\n",
              "        vertical-align: middle;\n",
              "    }\n",
              "\n",
              "    .dataframe tbody tr th {\n",
              "        vertical-align: top;\n",
              "    }\n",
              "\n",
              "    .dataframe thead th {\n",
              "        text-align: right;\n",
              "    }\n",
              "</style>\n",
              "<table border=\"1\" class=\"dataframe\">\n",
              "  <thead>\n",
              "    <tr style=\"text-align: right;\">\n",
              "      <th></th>\n",
              "      <th>Train 0-1 Loss</th>\n",
              "      <th>Train Accuracy</th>\n",
              "      <th>Dev 0-1 Loss</th>\n",
              "      <th>Dev Accuracy</th>\n",
              "    </tr>\n",
              "  </thead>\n",
              "  <tbody>\n",
              "    <tr>\n",
              "      <th>Naive Classifier</th>\n",
              "      <td>0.1116098</td>\n",
              "      <td>0.8883902</td>\n",
              "      <td>0.1116407</td>\n",
              "      <td>0.8883593</td>\n",
              "    </tr>\n",
              "    <tr>\n",
              "      <th>Naive Bayes</th>\n",
              "      <td>0.1366868</td>\n",
              "      <td>0.8633132</td>\n",
              "      <td>0.1356199</td>\n",
              "      <td>0.8643801</td>\n",
              "    </tr>\n",
              "    <tr>\n",
              "      <th>Binomial Log Reg (kitchen sink)</th>\n",
              "      <td>0.0000000</td>\n",
              "      <td>0.0000000</td>\n",
              "      <td>0.0000000</td>\n",
              "      <td>0.0000000</td>\n",
              "    </tr>\n",
              "    <tr>\n",
              "      <th>Multinomial Log Reg (kitchen sink)</th>\n",
              "      <td>0.0000000</td>\n",
              "      <td>0.0000000</td>\n",
              "      <td>0.0000000</td>\n",
              "      <td>0.0000000</td>\n",
              "    </tr>\n",
              "    <tr>\n",
              "      <th>Elastic Net</th>\n",
              "      <td>0.1114460</td>\n",
              "      <td>0.8885540</td>\n",
              "      <td>0.1113950</td>\n",
              "      <td>0.8886050</td>\n",
              "    </tr>\n",
              "    <tr>\n",
              "      <th>Random Forests (balanced)</th>\n",
              "      <td>0.0000000</td>\n",
              "      <td>0.0000000</td>\n",
              "      <td>0.0000000</td>\n",
              "      <td>0.0000000</td>\n",
              "    </tr>\n",
              "    <tr>\n",
              "      <th>SVM (no Kernel)</th>\n",
              "      <td>0.0000000</td>\n",
              "      <td>0.0000000</td>\n",
              "      <td>0.0000000</td>\n",
              "      <td>0.0000000</td>\n",
              "    </tr>\n",
              "    <tr>\n",
              "      <th>SVM (3rd order polynomial Kernel)</th>\n",
              "      <td>0.0000000</td>\n",
              "      <td>0.0000000</td>\n",
              "      <td>0.0000000</td>\n",
              "      <td>0.0000000</td>\n",
              "    </tr>\n",
              "    <tr>\n",
              "      <th>SVM (Gaussian Kernel)</th>\n",
              "      <td>0.0081406</td>\n",
              "      <td>0.9918594</td>\n",
              "      <td>0.1117881</td>\n",
              "      <td>0.8882119</td>\n",
              "    </tr>\n",
              "    <tr>\n",
              "      <th>Nerural Network</th>\n",
              "      <td>0.0000000</td>\n",
              "      <td>0.0000000</td>\n",
              "      <td>0.0000000</td>\n",
              "      <td>0.0000000</td>\n",
              "    </tr>\n",
              "  </tbody>\n",
              "</table>\n",
              "</div>"
            ],
            "text/plain": [
              "                                    Train 0-1 Loss  ...  Dev Accuracy\n",
              "Naive Classifier                         0.1116098  ...     0.8883593\n",
              "Naive Bayes                              0.1366868  ...     0.8643801\n",
              "Binomial Log Reg (kitchen sink)          0.0000000  ...     0.0000000\n",
              "Multinomial Log Reg (kitchen sink)       0.0000000  ...     0.0000000\n",
              "Elastic Net                              0.1114460  ...     0.8886050\n",
              "Random Forests (balanced)                0.0000000  ...     0.0000000\n",
              "SVM (no Kernel)                          0.0000000  ...     0.0000000\n",
              "SVM (3rd order polynomial Kernel)        0.0000000  ...     0.0000000\n",
              "SVM (Gaussian Kernel)                    0.0081406  ...     0.8882119\n",
              "Nerural Network                          0.0000000  ...     0.0000000\n",
              "\n",
              "[10 rows x 4 columns]"
            ]
          },
          "metadata": {
            "tags": []
          },
          "execution_count": 26
        }
      ]
    },
    {
      "cell_type": "code",
      "metadata": {
        "id": "na3-RlzzhHca",
        "colab_type": "code",
        "outputId": "d6ae02d9-a8ec-4762-8b16-2bae8d16fcec",
        "colab": {
          "base_uri": "https://localhost:8080/",
          "height": 520
        }
      },
      "source": [
        "# Random Forest\n",
        "\n",
        "from imblearn.ensemble import BalancedRandomForestClassifier\n",
        "\n",
        "clf_RandomForest = BalancedRandomForestClassifier(n_estimators=1000, random_state=0,max_depth=2)\n",
        "perform_classification(clf_RandomForest, (X_train, X_validation, y_train, y_validation), 'Random Forest')"
      ],
      "execution_count": 0,
      "outputs": [
        {
          "output_type": "stream",
          "text": [
            "Model: Random Forest\n",
            "Train accuracy:               precision    recall  f1-score   support\n",
            "\n",
            "           0       0.93      0.62      0.74     54238\n",
            "           1       0.17      0.62      0.27      6814\n",
            "\n",
            "    accuracy                           0.62     61052\n",
            "   macro avg       0.55      0.62      0.51     61052\n",
            "weighted avg       0.84      0.62      0.69     61052\n",
            "\n",
            "Validation accuracy:               precision    recall  f1-score   support\n",
            "\n",
            "           0       0.93      0.62      0.75     18079\n",
            "           1       0.17      0.62      0.27      2272\n",
            "\n",
            "    accuracy                           0.62     20351\n",
            "   macro avg       0.55      0.62      0.51     20351\n",
            "weighted avg       0.85      0.62      0.69     20351\n",
            "\n",
            "Train auc: 0.6207067502649212\n",
            "Validation auc: 0.624631276443995\n",
            "Model: Random Forest\n",
            "\n",
            "Train accuracy: 0.6203072790408176\n",
            "Validation accuracy: 0.6246867475799714\n",
            "[[33638 20600]\n",
            " [ 2581  4233]]\n",
            "[[11294  6785]\n",
            " [  853  1419]]\n"
          ],
          "name": "stdout"
        }
      ]
    },
    {
      "cell_type": "code",
      "metadata": {
        "id": "jd4ZKdn5-THr",
        "colab_type": "code",
        "outputId": "ac6f115c-3082-46e9-993c-e0e4952d4c96",
        "colab": {
          "base_uri": "https://localhost:8080/",
          "height": 357
        }
      },
      "source": [
        "trening_accc = 0.6199960689248509\n",
        "val_accc = 0.6277824185543708\n",
        "df.loc[R[5], C[0]] = 1 - trening_accc\n",
        "df.loc[R[5], C[1]] = trening_accc\n",
        "df.loc[R[5], C[2]] = 1 - val_accc\n",
        "df.loc[R[5], C[3]] = val_accc\n",
        "df"
      ],
      "execution_count": 0,
      "outputs": [
        {
          "output_type": "execute_result",
          "data": {
            "text/html": [
              "<div>\n",
              "<style scoped>\n",
              "    .dataframe tbody tr th:only-of-type {\n",
              "        vertical-align: middle;\n",
              "    }\n",
              "\n",
              "    .dataframe tbody tr th {\n",
              "        vertical-align: top;\n",
              "    }\n",
              "\n",
              "    .dataframe thead th {\n",
              "        text-align: right;\n",
              "    }\n",
              "</style>\n",
              "<table border=\"1\" class=\"dataframe\">\n",
              "  <thead>\n",
              "    <tr style=\"text-align: right;\">\n",
              "      <th></th>\n",
              "      <th>Train 0-1 Loss</th>\n",
              "      <th>Train Accuracy</th>\n",
              "      <th>Dev 0-1 Loss</th>\n",
              "      <th>Dev Accuracy</th>\n",
              "    </tr>\n",
              "  </thead>\n",
              "  <tbody>\n",
              "    <tr>\n",
              "      <th>Naive Classifier</th>\n",
              "      <td>0.1116098</td>\n",
              "      <td>0.8883902</td>\n",
              "      <td>0.1116407</td>\n",
              "      <td>0.8883593</td>\n",
              "    </tr>\n",
              "    <tr>\n",
              "      <th>Naive Bayes</th>\n",
              "      <td>0.1366868</td>\n",
              "      <td>0.8633132</td>\n",
              "      <td>0.1356199</td>\n",
              "      <td>0.8643801</td>\n",
              "    </tr>\n",
              "    <tr>\n",
              "      <th>Binomial Log Reg (kitchen sink)</th>\n",
              "      <td>0.0000000</td>\n",
              "      <td>0.0000000</td>\n",
              "      <td>0.0000000</td>\n",
              "      <td>0.0000000</td>\n",
              "    </tr>\n",
              "    <tr>\n",
              "      <th>Multinomial Log Reg (kitchen sink)</th>\n",
              "      <td>0.0000000</td>\n",
              "      <td>0.0000000</td>\n",
              "      <td>0.0000000</td>\n",
              "      <td>0.0000000</td>\n",
              "    </tr>\n",
              "    <tr>\n",
              "      <th>Elastic Net</th>\n",
              "      <td>0.1114460</td>\n",
              "      <td>0.8885540</td>\n",
              "      <td>0.1113950</td>\n",
              "      <td>0.8886050</td>\n",
              "    </tr>\n",
              "    <tr>\n",
              "      <th>Random Forests (balanced)</th>\n",
              "      <td>0.3800039</td>\n",
              "      <td>0.6199961</td>\n",
              "      <td>0.3722176</td>\n",
              "      <td>0.6277824</td>\n",
              "    </tr>\n",
              "    <tr>\n",
              "      <th>SVM (no Kernel)</th>\n",
              "      <td>0.0000000</td>\n",
              "      <td>0.0000000</td>\n",
              "      <td>0.0000000</td>\n",
              "      <td>0.0000000</td>\n",
              "    </tr>\n",
              "    <tr>\n",
              "      <th>SVM (3rd order polynomial Kernel)</th>\n",
              "      <td>0.0000000</td>\n",
              "      <td>0.0000000</td>\n",
              "      <td>0.0000000</td>\n",
              "      <td>0.0000000</td>\n",
              "    </tr>\n",
              "    <tr>\n",
              "      <th>SVM (Gaussian Kernel)</th>\n",
              "      <td>0.0081406</td>\n",
              "      <td>0.9918594</td>\n",
              "      <td>0.1117881</td>\n",
              "      <td>0.8882119</td>\n",
              "    </tr>\n",
              "    <tr>\n",
              "      <th>Nerural Network</th>\n",
              "      <td>0.0000000</td>\n",
              "      <td>0.0000000</td>\n",
              "      <td>0.0000000</td>\n",
              "      <td>0.0000000</td>\n",
              "    </tr>\n",
              "  </tbody>\n",
              "</table>\n",
              "</div>"
            ],
            "text/plain": [
              "                                    Train 0-1 Loss  ...  Dev Accuracy\n",
              "Naive Classifier                         0.1116098  ...     0.8883593\n",
              "Naive Bayes                              0.1366868  ...     0.8643801\n",
              "Binomial Log Reg (kitchen sink)          0.0000000  ...     0.0000000\n",
              "Multinomial Log Reg (kitchen sink)       0.0000000  ...     0.0000000\n",
              "Elastic Net                              0.1114460  ...     0.8886050\n",
              "Random Forests (balanced)                0.3800039  ...     0.6277824\n",
              "SVM (no Kernel)                          0.0000000  ...     0.0000000\n",
              "SVM (3rd order polynomial Kernel)        0.0000000  ...     0.0000000\n",
              "SVM (Gaussian Kernel)                    0.0081406  ...     0.8882119\n",
              "Nerural Network                          0.0000000  ...     0.0000000\n",
              "\n",
              "[10 rows x 4 columns]"
            ]
          },
          "metadata": {
            "tags": []
          },
          "execution_count": 28
        }
      ]
    },
    {
      "cell_type": "code",
      "metadata": {
        "id": "S9TTI5Gi4WDH",
        "colab_type": "code",
        "outputId": "eb10b294-081d-4769-cb81-0727235c889c",
        "colab": {
          "base_uri": "https://localhost:8080/",
          "height": 575
        }
      },
      "source": [
        "clf_RF = ensemble.RandomForestClassifier(n_estimators = 1000,  random_state=0,max_depth=2)\n",
        "perform_classification(clf_RF, (X_train, X_validation, y_train, y_validation), 'Random Forest')"
      ],
      "execution_count": 0,
      "outputs": [
        {
          "output_type": "stream",
          "text": [
            "Model: Random Forest\n",
            "Train accuracy:               precision    recall  f1-score   support\n",
            "\n",
            "           0       0.89      1.00      0.94     54238\n",
            "           1       0.00      0.00      0.00      6814\n",
            "\n",
            "    accuracy                           0.89     61052\n",
            "   macro avg       0.44      0.50      0.47     61052\n",
            "weighted avg       0.79      0.89      0.84     61052\n",
            "\n",
            "Validation accuracy:               precision    recall  f1-score   support\n",
            "\n",
            "           0       0.89      1.00      0.94     18079\n",
            "           1       0.00      0.00      0.00      2272\n",
            "\n",
            "    accuracy                           0.89     20351\n",
            "   macro avg       0.44      0.50      0.47     20351\n",
            "weighted avg       0.79      0.89      0.84     20351\n",
            "\n",
            "Train auc: 0.5\n",
            "Validation auc: 0.5\n",
            "Model: Random Forest\n",
            "\n",
            "Train accuracy: 0.8883902247264627\n",
            "Validation accuracy: 0.8883592943835684\n"
          ],
          "name": "stdout"
        },
        {
          "output_type": "stream",
          "text": [
            "/usr/local/lib/python3.6/dist-packages/sklearn/metrics/classification.py:1437: UndefinedMetricWarning: Precision and F-score are ill-defined and being set to 0.0 in labels with no predicted samples.\n",
            "  'precision', 'predicted', average, warn_for)\n"
          ],
          "name": "stderr"
        },
        {
          "output_type": "stream",
          "text": [
            "[[54238     0]\n",
            " [ 6814     0]]\n",
            "[[18079     0]\n",
            " [ 2272     0]]\n"
          ],
          "name": "stdout"
        }
      ]
    },
    {
      "cell_type": "code",
      "metadata": {
        "id": "wvXby3pthHLL",
        "colab_type": "code",
        "outputId": "abbfdcce-71f8-4b8f-8c5c-a183a1eb29e4",
        "colab": {
          "base_uri": "https://localhost:8080/",
          "height": 555
        }
      },
      "source": [
        "# SVM (No Kernel)\n",
        "\n",
        "clf_linear_svm = svm.LinearSVC(loss= 'squared_hinge', C=1.0, class_weight='balanced')\n",
        "perform_classification(clf_linear_svm, (X_train, X_validation, y_train, y_validation), 'Linear SVM')"
      ],
      "execution_count": 0,
      "outputs": [
        {
          "output_type": "stream",
          "text": [
            "/usr/local/lib/python3.6/dist-packages/sklearn/svm/base.py:929: ConvergenceWarning: Liblinear failed to converge, increase the number of iterations.\n",
            "  \"the number of iterations.\", ConvergenceWarning)\n"
          ],
          "name": "stderr"
        },
        {
          "output_type": "stream",
          "text": [
            "Model: Linear SVM\n",
            "Train accuracy:               precision    recall  f1-score   support\n",
            "\n",
            "           0       0.92      0.77      0.84     54238\n",
            "           1       0.19      0.44      0.27      6814\n",
            "\n",
            "    accuracy                           0.73     61052\n",
            "   macro avg       0.55      0.60      0.55     61052\n",
            "weighted avg       0.83      0.73      0.77     61052\n",
            "\n",
            "Validation accuracy:               precision    recall  f1-score   support\n",
            "\n",
            "           0       0.91      0.78      0.84     18079\n",
            "           1       0.19      0.42      0.26      2272\n",
            "\n",
            "    accuracy                           0.74     20351\n",
            "   macro avg       0.55      0.60      0.55     20351\n",
            "weighted avg       0.83      0.74      0.78     20351\n",
            "\n",
            "Train auc: 0.6021668643174639\n",
            "Validation auc: 0.5992050660481503\n",
            "Model: Linear SVM\n",
            "\n",
            "Train accuracy: 0.7315730852388128\n",
            "Validation accuracy: 0.7367696919070316\n",
            "[[41696 12542]\n",
            " [ 3846  2968]]\n",
            "[[14035  4044]\n",
            " [ 1313   959]]\n"
          ],
          "name": "stdout"
        }
      ]
    },
    {
      "cell_type": "code",
      "metadata": {
        "id": "wMqHjGyUxiDR",
        "colab_type": "code",
        "outputId": "d86b4736-e0ba-4d05-c10e-68e96e246e13",
        "colab": {
          "base_uri": "https://localhost:8080/",
          "height": 355
        }
      },
      "source": [
        "trening_accc = 0.7221548843608727\n",
        "val_accc = 0.7243378703749201\n",
        "df.loc[R[6], C[0]] = 1 - trening_accc\n",
        "df.loc[R[6], C[1]] = trening_accc\n",
        "df.loc[R[6], C[2]] = 1 - val_accc\n",
        "df.loc[R[6], C[3]] = val_accc\n",
        "df"
      ],
      "execution_count": 0,
      "outputs": [
        {
          "output_type": "execute_result",
          "data": {
            "text/html": [
              "<div>\n",
              "<style scoped>\n",
              "    .dataframe tbody tr th:only-of-type {\n",
              "        vertical-align: middle;\n",
              "    }\n",
              "\n",
              "    .dataframe tbody tr th {\n",
              "        vertical-align: top;\n",
              "    }\n",
              "\n",
              "    .dataframe thead th {\n",
              "        text-align: right;\n",
              "    }\n",
              "</style>\n",
              "<table border=\"1\" class=\"dataframe\">\n",
              "  <thead>\n",
              "    <tr style=\"text-align: right;\">\n",
              "      <th></th>\n",
              "      <th>Train 0-1 Loss</th>\n",
              "      <th>Train Accuracy</th>\n",
              "      <th>Dev 0-1 Loss</th>\n",
              "      <th>Dev Accuracy</th>\n",
              "    </tr>\n",
              "  </thead>\n",
              "  <tbody>\n",
              "    <tr>\n",
              "      <th>Naive Classifier</th>\n",
              "      <td>0.1116098</td>\n",
              "      <td>0.8883902</td>\n",
              "      <td>0.1116407</td>\n",
              "      <td>0.8883593</td>\n",
              "    </tr>\n",
              "    <tr>\n",
              "      <th>Naive Bayes</th>\n",
              "      <td>0.1366868</td>\n",
              "      <td>0.8633132</td>\n",
              "      <td>0.1356199</td>\n",
              "      <td>0.8643801</td>\n",
              "    </tr>\n",
              "    <tr>\n",
              "      <th>Binomial Log Reg (kitchen sink)</th>\n",
              "      <td>0.0000000</td>\n",
              "      <td>0.0000000</td>\n",
              "      <td>0.0000000</td>\n",
              "      <td>0.0000000</td>\n",
              "    </tr>\n",
              "    <tr>\n",
              "      <th>Multinomial Log Reg (kitchen sink)</th>\n",
              "      <td>0.0000000</td>\n",
              "      <td>0.0000000</td>\n",
              "      <td>0.0000000</td>\n",
              "      <td>0.0000000</td>\n",
              "    </tr>\n",
              "    <tr>\n",
              "      <th>Elastic Net</th>\n",
              "      <td>0.1114460</td>\n",
              "      <td>0.8885540</td>\n",
              "      <td>0.1113950</td>\n",
              "      <td>0.8886050</td>\n",
              "    </tr>\n",
              "    <tr>\n",
              "      <th>Random Forests (balanced)</th>\n",
              "      <td>0.3800039</td>\n",
              "      <td>0.6199961</td>\n",
              "      <td>0.3722176</td>\n",
              "      <td>0.6277824</td>\n",
              "    </tr>\n",
              "    <tr>\n",
              "      <th>SVM (no Kernel)</th>\n",
              "      <td>0.2778451</td>\n",
              "      <td>0.7221549</td>\n",
              "      <td>0.2756621</td>\n",
              "      <td>0.7243379</td>\n",
              "    </tr>\n",
              "    <tr>\n",
              "      <th>SVM (3rd order polynomial Kernel)</th>\n",
              "      <td>0.0000000</td>\n",
              "      <td>0.0000000</td>\n",
              "      <td>0.0000000</td>\n",
              "      <td>0.0000000</td>\n",
              "    </tr>\n",
              "    <tr>\n",
              "      <th>SVM (Gaussian Kernel)</th>\n",
              "      <td>0.0081406</td>\n",
              "      <td>0.9918594</td>\n",
              "      <td>0.1117881</td>\n",
              "      <td>0.8882119</td>\n",
              "    </tr>\n",
              "    <tr>\n",
              "      <th>Nerural Network</th>\n",
              "      <td>0.0000000</td>\n",
              "      <td>0.0000000</td>\n",
              "      <td>0.0000000</td>\n",
              "      <td>0.0000000</td>\n",
              "    </tr>\n",
              "  </tbody>\n",
              "</table>\n",
              "</div>"
            ],
            "text/plain": [
              "                                    Train 0-1 Loss  ...  Dev Accuracy\n",
              "Naive Classifier                         0.1116098  ...     0.8883593\n",
              "Naive Bayes                              0.1366868  ...     0.8643801\n",
              "Binomial Log Reg (kitchen sink)          0.0000000  ...     0.0000000\n",
              "Multinomial Log Reg (kitchen sink)       0.0000000  ...     0.0000000\n",
              "Elastic Net                              0.1114460  ...     0.8886050\n",
              "Random Forests (balanced)                0.3800039  ...     0.6277824\n",
              "SVM (no Kernel)                          0.2778451  ...     0.7243379\n",
              "SVM (3rd order polynomial Kernel)        0.0000000  ...     0.0000000\n",
              "SVM (Gaussian Kernel)                    0.0081406  ...     0.8882119\n",
              "Nerural Network                          0.0000000  ...     0.0000000\n",
              "\n",
              "[10 rows x 4 columns]"
            ]
          },
          "metadata": {
            "tags": []
          },
          "execution_count": 36
        }
      ]
    },
    {
      "cell_type": "code",
      "metadata": {
        "id": "izyZAd3Kcs2s",
        "colab_type": "code",
        "outputId": "3fb42019-10c5-40b7-8117-5f938dc30d86",
        "colab": {
          "base_uri": "https://localhost:8080/",
          "height": 87
        }
      },
      "source": [
        "num1_train = np.sum(y_train == 1)\n",
        "num0_train = np.sum(y_train == 0)\n",
        "num1_val = np.sum(y_validation == 1)\n",
        "num0_val = np.sum(y_validation == 0)\n",
        "\n",
        "\n",
        "trening_accc = num0_train / (num0_train + num1_train)\n",
        "val_accc = num0_val / (num0_val + num1_val)\n",
        "\n",
        "print(trening_accc)\n",
        "print(val_accc)\n",
        "\n",
        "print(num1_train)\n",
        "print(num1_val)"
      ],
      "execution_count": 0,
      "outputs": [
        {
          "output_type": "stream",
          "text": [
            "0.8883902247264627\n",
            "0.8883592943835684\n",
            "6814\n",
            "2272\n"
          ],
          "name": "stdout"
        }
      ]
    },
    {
      "cell_type": "code",
      "metadata": {
        "id": "6pG1Rc3dsR32",
        "colab_type": "code",
        "outputId": "c5252484-02e7-49a7-83ad-2fdbf8c21008",
        "colab": {
          "base_uri": "https://localhost:8080/",
          "height": 713
        }
      },
      "source": [
        "# Multinomijalna Logisticka regresija\n",
        "\n",
        "from sklearn import model_selection\n",
        "\n",
        "weights = np.linspace(0.10, 0.90, 5)\n",
        "\n",
        "gsc = model_selection.GridSearchCV(\n",
        "    estimator=linear_model.LogisticRegression(multi_class='multinomial', solver='newton-cg'),\n",
        "    param_grid={\n",
        "        'class_weight': [{0: x, 1: 1.0-x} for x in weights]\n",
        "    },\n",
        "    scoring='f1',\n",
        "    verbose=10,\n",
        "    n_jobs=3,\n",
        "    cv=3,\n",
        ")\n",
        "grid_result = gsc.fit(X_train, y_train)\n",
        "\n",
        "clf_LR = linear_model.LogisticRegression(**gsc.best_params_)\n",
        "perform_classification(clf_LR, (X_train, X_validation, y_train, y_validation), 'Logistic Regression')"
      ],
      "execution_count": 0,
      "outputs": [
        {
          "output_type": "stream",
          "text": [
            "Fitting 3 folds for each of 5 candidates, totalling 15 fits\n"
          ],
          "name": "stdout"
        },
        {
          "output_type": "stream",
          "text": [
            "[Parallel(n_jobs=3)]: Using backend LokyBackend with 3 concurrent workers.\n",
            "[Parallel(n_jobs=3)]: Done   2 tasks      | elapsed:   25.5s\n",
            "/usr/local/lib/python3.6/dist-packages/joblib/externals/loky/process_executor.py:706: UserWarning: A worker stopped while some jobs were given to the executor. This can be caused by a too short worker timeout or by a memory leak.\n",
            "  \"timeout or by a memory leak.\", UserWarning\n",
            "[Parallel(n_jobs=3)]: Done   7 tasks      | elapsed:  1.4min\n",
            "[Parallel(n_jobs=3)]: Done  12 out of  15 | elapsed:  2.0min remaining:   30.4s\n",
            "[Parallel(n_jobs=3)]: Done  15 out of  15 | elapsed:  2.4min finished\n",
            "/usr/local/lib/python3.6/dist-packages/sklearn/linear_model/logistic.py:432: FutureWarning: Default solver will be changed to 'lbfgs' in 0.22. Specify a solver to silence this warning.\n",
            "  FutureWarning)\n"
          ],
          "name": "stderr"
        },
        {
          "output_type": "stream",
          "text": [
            "Model: Logistic Regression\n",
            "Train accuracy:               precision    recall  f1-score   support\n",
            "\n",
            "           0       0.93      0.60      0.73     54238\n",
            "           1       0.17      0.66      0.27      6814\n",
            "\n",
            "    accuracy                           0.61     61052\n",
            "   macro avg       0.55      0.63      0.50     61052\n",
            "weighted avg       0.85      0.61      0.68     61052\n",
            "\n",
            "Validation accuracy:               precision    recall  f1-score   support\n",
            "\n",
            "           0       0.93      0.60      0.73     18079\n",
            "           1       0.17      0.65      0.27      2272\n",
            "\n",
            "    accuracy                           0.61     20351\n",
            "   macro avg       0.55      0.63      0.50     20351\n",
            "weighted avg       0.85      0.61      0.68     20351\n",
            "\n",
            "Train auc: 0.6283905708907809\n",
            "Validation auc: 0.6256220011311855\n",
            "Model: Logistic Regression\n",
            "\n",
            "Train accuracy: 0.6070562798925506\n",
            "Validation accuracy: 0.609011842169918\n",
            "[[32593 21645]\n",
            " [ 2345  4469]]\n",
            "[[10924  7155]\n",
            " [  802  1470]]\n"
          ],
          "name": "stdout"
        }
      ]
    },
    {
      "cell_type": "code",
      "metadata": {
        "id": "E8MYBmHfAhNw",
        "colab_type": "code",
        "outputId": "2335ade0-e306-4886-a217-21f27e2fa306",
        "colab": {
          "base_uri": "https://localhost:8080/",
          "height": 355
        }
      },
      "source": [
        "trening_accc = 0.6092019917447422\n",
        "val_accc = 0.6101420077637463\n",
        "df.loc[R[3], C[0]] = 1 - trening_accc\n",
        "df.loc[R[3], C[1]] = trening_accc\n",
        "df.loc[R[3], C[2]] = 1 - val_accc\n",
        "df.loc[R[3], C[3]] = val_accc\n",
        "df"
      ],
      "execution_count": 0,
      "outputs": [
        {
          "output_type": "execute_result",
          "data": {
            "text/html": [
              "<div>\n",
              "<style scoped>\n",
              "    .dataframe tbody tr th:only-of-type {\n",
              "        vertical-align: middle;\n",
              "    }\n",
              "\n",
              "    .dataframe tbody tr th {\n",
              "        vertical-align: top;\n",
              "    }\n",
              "\n",
              "    .dataframe thead th {\n",
              "        text-align: right;\n",
              "    }\n",
              "</style>\n",
              "<table border=\"1\" class=\"dataframe\">\n",
              "  <thead>\n",
              "    <tr style=\"text-align: right;\">\n",
              "      <th></th>\n",
              "      <th>Train 0-1 Loss</th>\n",
              "      <th>Train Accuracy</th>\n",
              "      <th>Dev 0-1 Loss</th>\n",
              "      <th>Dev Accuracy</th>\n",
              "    </tr>\n",
              "  </thead>\n",
              "  <tbody>\n",
              "    <tr>\n",
              "      <th>Naive Classifier</th>\n",
              "      <td>0.1116098</td>\n",
              "      <td>0.8883902</td>\n",
              "      <td>0.1116407</td>\n",
              "      <td>0.8883593</td>\n",
              "    </tr>\n",
              "    <tr>\n",
              "      <th>Naive Bayes</th>\n",
              "      <td>0.1366868</td>\n",
              "      <td>0.8633132</td>\n",
              "      <td>0.1356199</td>\n",
              "      <td>0.8643801</td>\n",
              "    </tr>\n",
              "    <tr>\n",
              "      <th>Binomial Log Reg (kitchen sink)</th>\n",
              "      <td>0.0000000</td>\n",
              "      <td>0.0000000</td>\n",
              "      <td>0.0000000</td>\n",
              "      <td>0.0000000</td>\n",
              "    </tr>\n",
              "    <tr>\n",
              "      <th>Multinomial Log Reg (kitchen sink)</th>\n",
              "      <td>0.3907980</td>\n",
              "      <td>0.6092020</td>\n",
              "      <td>0.3898580</td>\n",
              "      <td>0.6101420</td>\n",
              "    </tr>\n",
              "    <tr>\n",
              "      <th>Elastic Net</th>\n",
              "      <td>0.1114460</td>\n",
              "      <td>0.8885540</td>\n",
              "      <td>0.1113950</td>\n",
              "      <td>0.8886050</td>\n",
              "    </tr>\n",
              "    <tr>\n",
              "      <th>Random Forests (balanced)</th>\n",
              "      <td>0.3800039</td>\n",
              "      <td>0.6199961</td>\n",
              "      <td>0.3722176</td>\n",
              "      <td>0.6277824</td>\n",
              "    </tr>\n",
              "    <tr>\n",
              "      <th>SVM (no Kernel)</th>\n",
              "      <td>0.2778451</td>\n",
              "      <td>0.7221549</td>\n",
              "      <td>0.2756621</td>\n",
              "      <td>0.7243379</td>\n",
              "    </tr>\n",
              "    <tr>\n",
              "      <th>SVM (3rd order polynomial Kernel)</th>\n",
              "      <td>0.0000000</td>\n",
              "      <td>0.0000000</td>\n",
              "      <td>0.0000000</td>\n",
              "      <td>0.0000000</td>\n",
              "    </tr>\n",
              "    <tr>\n",
              "      <th>SVM (Gaussian Kernel)</th>\n",
              "      <td>0.0081406</td>\n",
              "      <td>0.9918594</td>\n",
              "      <td>0.1117881</td>\n",
              "      <td>0.8882119</td>\n",
              "    </tr>\n",
              "    <tr>\n",
              "      <th>Nerural Network</th>\n",
              "      <td>0.0000000</td>\n",
              "      <td>0.0000000</td>\n",
              "      <td>0.0000000</td>\n",
              "      <td>0.0000000</td>\n",
              "    </tr>\n",
              "  </tbody>\n",
              "</table>\n",
              "</div>"
            ],
            "text/plain": [
              "                                    Train 0-1 Loss  ...  Dev Accuracy\n",
              "Naive Classifier                         0.1116098  ...     0.8883593\n",
              "Naive Bayes                              0.1366868  ...     0.8643801\n",
              "Binomial Log Reg (kitchen sink)          0.0000000  ...     0.0000000\n",
              "Multinomial Log Reg (kitchen sink)       0.3907980  ...     0.6101420\n",
              "Elastic Net                              0.1114460  ...     0.8886050\n",
              "Random Forests (balanced)                0.3800039  ...     0.6277824\n",
              "SVM (no Kernel)                          0.2778451  ...     0.7243379\n",
              "SVM (3rd order polynomial Kernel)        0.0000000  ...     0.0000000\n",
              "SVM (Gaussian Kernel)                    0.0081406  ...     0.8882119\n",
              "Nerural Network                          0.0000000  ...     0.0000000\n",
              "\n",
              "[10 rows x 4 columns]"
            ]
          },
          "metadata": {
            "tags": []
          },
          "execution_count": 37
        }
      ]
    },
    {
      "cell_type": "code",
      "metadata": {
        "id": "bteA5LWNcs2w",
        "colab_type": "code",
        "outputId": "73e32d5e-023c-474d-ca59-6f28ca7e3524",
        "colab": {
          "base_uri": "https://localhost:8080/",
          "height": 852
        }
      },
      "source": [
        "# Logisticka Regresija\n",
        "\n",
        "from sklearn import model_selection\n",
        "\n",
        "weights = np.linspace(0.05, 0.95, 20)\n",
        "\n",
        "gscLR = model_selection.GridSearchCV(\n",
        "    estimator=linear_model.LogisticRegression(),\n",
        "    param_grid={\n",
        "        'class_weight': [{0: x, 1: 1.0-x} for x in weights]\n",
        "    },\n",
        "    scoring='f1',\n",
        "    verbose=10,\n",
        "    n_jobs=3,\n",
        "    cv=3,\n",
        ")\n",
        "grid_result = gscLR.fit(X_train, y_train)\n",
        "\n",
        "clf_LR = linear_model.LogisticRegression(**gscLR.best_params_)\n",
        "perform_classification(clf_LR, (X_train, X_validation, y_train, y_validation), 'Logistic Regression')\n",
        "print()"
      ],
      "execution_count": 0,
      "outputs": [
        {
          "output_type": "stream",
          "text": [
            "Fitting 3 folds for each of 20 candidates, totalling 60 fits\n"
          ],
          "name": "stdout"
        },
        {
          "output_type": "stream",
          "text": [
            "[Parallel(n_jobs=3)]: Using backend LokyBackend with 3 concurrent workers.\n",
            "[Parallel(n_jobs=3)]: Done   2 tasks      | elapsed:   10.3s\n",
            "/usr/local/lib/python3.6/dist-packages/joblib/externals/loky/process_executor.py:706: UserWarning: A worker stopped while some jobs were given to the executor. This can be caused by a too short worker timeout or by a memory leak.\n",
            "  \"timeout or by a memory leak.\", UserWarning\n",
            "[Parallel(n_jobs=3)]: Done   7 tasks      | elapsed:   28.8s\n",
            "[Parallel(n_jobs=3)]: Done  12 tasks      | elapsed:   47.6s\n",
            "[Parallel(n_jobs=3)]: Done  19 tasks      | elapsed:  1.2min\n",
            "[Parallel(n_jobs=3)]: Done  26 tasks      | elapsed:  1.5min\n",
            "[Parallel(n_jobs=3)]: Done  35 tasks      | elapsed:  2.0min\n",
            "[Parallel(n_jobs=3)]: Done  44 tasks      | elapsed:  2.6min\n",
            "[Parallel(n_jobs=3)]: Done  55 tasks      | elapsed:  3.1min\n",
            "[Parallel(n_jobs=3)]: Done  60 out of  60 | elapsed:  3.3min finished\n",
            "/usr/local/lib/python3.6/dist-packages/sklearn/linear_model/logistic.py:432: FutureWarning: Default solver will be changed to 'lbfgs' in 0.22. Specify a solver to silence this warning.\n",
            "  FutureWarning)\n",
            "/usr/local/lib/python3.6/dist-packages/sklearn/linear_model/logistic.py:432: FutureWarning: Default solver will be changed to 'lbfgs' in 0.22. Specify a solver to silence this warning.\n",
            "  FutureWarning)\n"
          ],
          "name": "stderr"
        },
        {
          "output_type": "stream",
          "text": [
            "Model: Logistic Regression\n",
            "Train accuracy:               precision    recall  f1-score   support\n",
            "\n",
            "           0       0.91      0.83      0.87     54238\n",
            "           1       0.22      0.38      0.28      6814\n",
            "\n",
            "    accuracy                           0.78     61052\n",
            "   macro avg       0.57      0.61      0.58     61052\n",
            "weighted avg       0.84      0.78      0.81     61052\n",
            "\n",
            "Validation accuracy:               precision    recall  f1-score   support\n",
            "\n",
            "           0       0.91      0.84      0.87     18079\n",
            "           1       0.22      0.37      0.28      2272\n",
            "\n",
            "    accuracy                           0.79     20351\n",
            "   macro avg       0.57      0.60      0.58     20351\n",
            "weighted avg       0.84      0.79      0.81     20351\n",
            "\n",
            "Train auc: 0.6061187284952547\n",
            "Validation auc: 0.6036058415179388\n",
            "Model: Logistic Regression\n",
            "\n",
            "Train accuracy: 0.7830537902116229\n",
            "Validation accuracy: 0.7856125006142204\n",
            "[[45229  9009]\n",
            " [ 4236  2578]]\n",
            "[[15149  2930]\n",
            " [ 1433   839]]\n",
            "\n"
          ],
          "name": "stdout"
        }
      ]
    },
    {
      "cell_type": "code",
      "metadata": {
        "id": "1KGl-chbDzBu",
        "colab_type": "code",
        "colab": {}
      },
      "source": [
        ""
      ],
      "execution_count": 0,
      "outputs": []
    },
    {
      "cell_type": "code",
      "metadata": {
        "id": "vpR4QsduCTfw",
        "colab_type": "code",
        "outputId": "e0110805-f528-4777-adc8-cb5aa83460f3",
        "colab": {
          "base_uri": "https://localhost:8080/",
          "height": 355
        }
      },
      "source": [
        "trening_accc = 0.7849701893467863\n",
        "val_accc = 0.78733231782222\n",
        "df.loc[R[2], C[0]] = 1 - trening_accc\n",
        "df.loc[R[2], C[1]] = trening_accc\n",
        "df.loc[R[2], C[2]] = 1 - val_accc\n",
        "df.loc[R[2], C[3]] = val_accc\n",
        "df"
      ],
      "execution_count": 0,
      "outputs": [
        {
          "output_type": "execute_result",
          "data": {
            "text/html": [
              "<div>\n",
              "<style scoped>\n",
              "    .dataframe tbody tr th:only-of-type {\n",
              "        vertical-align: middle;\n",
              "    }\n",
              "\n",
              "    .dataframe tbody tr th {\n",
              "        vertical-align: top;\n",
              "    }\n",
              "\n",
              "    .dataframe thead th {\n",
              "        text-align: right;\n",
              "    }\n",
              "</style>\n",
              "<table border=\"1\" class=\"dataframe\">\n",
              "  <thead>\n",
              "    <tr style=\"text-align: right;\">\n",
              "      <th></th>\n",
              "      <th>Train 0-1 Loss</th>\n",
              "      <th>Train Accuracy</th>\n",
              "      <th>Dev 0-1 Loss</th>\n",
              "      <th>Dev Accuracy</th>\n",
              "    </tr>\n",
              "  </thead>\n",
              "  <tbody>\n",
              "    <tr>\n",
              "      <th>Naive Classifier</th>\n",
              "      <td>0.1116098</td>\n",
              "      <td>0.8883902</td>\n",
              "      <td>0.1116407</td>\n",
              "      <td>0.8883593</td>\n",
              "    </tr>\n",
              "    <tr>\n",
              "      <th>Naive Bayes</th>\n",
              "      <td>0.1366868</td>\n",
              "      <td>0.8633132</td>\n",
              "      <td>0.1356199</td>\n",
              "      <td>0.8643801</td>\n",
              "    </tr>\n",
              "    <tr>\n",
              "      <th>Binomial Log Reg (kitchen sink)</th>\n",
              "      <td>0.2150298</td>\n",
              "      <td>0.7849702</td>\n",
              "      <td>0.2126677</td>\n",
              "      <td>0.7873323</td>\n",
              "    </tr>\n",
              "    <tr>\n",
              "      <th>Multinomial Log Reg (kitchen sink)</th>\n",
              "      <td>0.3907980</td>\n",
              "      <td>0.6092020</td>\n",
              "      <td>0.3898580</td>\n",
              "      <td>0.6101420</td>\n",
              "    </tr>\n",
              "    <tr>\n",
              "      <th>Elastic Net</th>\n",
              "      <td>0.1114460</td>\n",
              "      <td>0.8885540</td>\n",
              "      <td>0.1113950</td>\n",
              "      <td>0.8886050</td>\n",
              "    </tr>\n",
              "    <tr>\n",
              "      <th>Random Forests (balanced)</th>\n",
              "      <td>0.3800039</td>\n",
              "      <td>0.6199961</td>\n",
              "      <td>0.3722176</td>\n",
              "      <td>0.6277824</td>\n",
              "    </tr>\n",
              "    <tr>\n",
              "      <th>SVM (no Kernel)</th>\n",
              "      <td>0.2778451</td>\n",
              "      <td>0.7221549</td>\n",
              "      <td>0.2756621</td>\n",
              "      <td>0.7243379</td>\n",
              "    </tr>\n",
              "    <tr>\n",
              "      <th>SVM (3rd order polynomial Kernel)</th>\n",
              "      <td>0.0000000</td>\n",
              "      <td>0.0000000</td>\n",
              "      <td>0.0000000</td>\n",
              "      <td>0.0000000</td>\n",
              "    </tr>\n",
              "    <tr>\n",
              "      <th>SVM (Gaussian Kernel)</th>\n",
              "      <td>0.0081406</td>\n",
              "      <td>0.9918594</td>\n",
              "      <td>0.1117881</td>\n",
              "      <td>0.8882119</td>\n",
              "    </tr>\n",
              "    <tr>\n",
              "      <th>Nerural Network</th>\n",
              "      <td>0.0000000</td>\n",
              "      <td>0.0000000</td>\n",
              "      <td>0.0000000</td>\n",
              "      <td>0.0000000</td>\n",
              "    </tr>\n",
              "  </tbody>\n",
              "</table>\n",
              "</div>"
            ],
            "text/plain": [
              "                                    Train 0-1 Loss  ...  Dev Accuracy\n",
              "Naive Classifier                         0.1116098  ...     0.8883593\n",
              "Naive Bayes                              0.1366868  ...     0.8643801\n",
              "Binomial Log Reg (kitchen sink)          0.2150298  ...     0.7873323\n",
              "Multinomial Log Reg (kitchen sink)       0.3907980  ...     0.6101420\n",
              "Elastic Net                              0.1114460  ...     0.8886050\n",
              "Random Forests (balanced)                0.3800039  ...     0.6277824\n",
              "SVM (no Kernel)                          0.2778451  ...     0.7243379\n",
              "SVM (3rd order polynomial Kernel)        0.0000000  ...     0.0000000\n",
              "SVM (Gaussian Kernel)                    0.0081406  ...     0.8882119\n",
              "Nerural Network                          0.0000000  ...     0.0000000\n",
              "\n",
              "[10 rows x 4 columns]"
            ]
          },
          "metadata": {
            "tags": []
          },
          "execution_count": 39
        }
      ]
    },
    {
      "cell_type": "code",
      "metadata": {
        "id": "OBGrB7U3qqMO",
        "colab_type": "code",
        "outputId": "1637a944-ad16-4ac7-dbb6-76a050c74afb",
        "colab": {
          "base_uri": "https://localhost:8080/",
          "height": 765
        }
      },
      "source": [
        "weights = np.linspace(0.05, 0.95, 20)\n",
        "\n",
        "gsc = model_selection.GridSearchCV(\n",
        "    estimator=linear_model.LogisticRegression(),\n",
        "    param_grid={\n",
        "        'class_weight': [{0: x, 1: 1.0-x} for x in weights]\n",
        "    },\n",
        "    scoring='accuracy',\n",
        "    verbose=10,\n",
        "    n_jobs=3,\n",
        "    cv=3,\n",
        ")\n",
        "grid_result = gsc.fit(X_train, y_train)\n",
        "\n",
        "clf_LR = linear_model.LogisticRegression(**gsc.best_params_)\n",
        "perform_classification(clf_LR, (X_train, X_validation, y_train, y_validation), 'Logistic Regression')"
      ],
      "execution_count": 0,
      "outputs": [
        {
          "output_type": "stream",
          "text": [
            "Fitting 3 folds for each of 20 candidates, totalling 60 fits\n"
          ],
          "name": "stdout"
        },
        {
          "output_type": "stream",
          "text": [
            "[Parallel(n_jobs=3)]: Using backend LokyBackend with 3 concurrent workers.\n",
            "[Parallel(n_jobs=3)]: Done   2 tasks      | elapsed:    8.3s\n",
            "[Parallel(n_jobs=3)]: Done   7 tasks      | elapsed:   20.4s\n",
            "[Parallel(n_jobs=3)]: Done  12 tasks      | elapsed:   32.0s\n",
            "/usr/local/lib/python3.6/dist-packages/joblib/externals/loky/process_executor.py:706: UserWarning: A worker stopped while some jobs were given to the executor. This can be caused by a too short worker timeout or by a memory leak.\n",
            "  \"timeout or by a memory leak.\", UserWarning\n",
            "[Parallel(n_jobs=3)]: Done  19 tasks      | elapsed:   48.4s\n",
            "[Parallel(n_jobs=3)]: Done  26 tasks      | elapsed:  1.1min\n",
            "[Parallel(n_jobs=3)]: Done  35 tasks      | elapsed:  1.4min\n",
            "[Parallel(n_jobs=3)]: Done  44 tasks      | elapsed:  1.7min\n",
            "[Parallel(n_jobs=3)]: Done  55 tasks      | elapsed:  1.9min\n",
            "[Parallel(n_jobs=3)]: Done  60 out of  60 | elapsed:  2.0min finished\n",
            "/usr/local/lib/python3.6/dist-packages/sklearn/linear_model/logistic.py:432: FutureWarning: Default solver will be changed to 'lbfgs' in 0.22. Specify a solver to silence this warning.\n",
            "  FutureWarning)\n",
            "/usr/local/lib/python3.6/dist-packages/sklearn/linear_model/logistic.py:432: FutureWarning: Default solver will be changed to 'lbfgs' in 0.22. Specify a solver to silence this warning.\n",
            "  FutureWarning)\n"
          ],
          "name": "stderr"
        },
        {
          "output_type": "stream",
          "text": [
            "Model: Logistic Regression\n",
            "Train accuracy:               precision    recall  f1-score   support\n",
            "\n",
            "           0       0.89      1.00      0.94     54238\n",
            "           1       0.58      0.00      0.01      6814\n",
            "\n",
            "    accuracy                           0.89     61052\n",
            "   macro avg       0.73      0.50      0.48     61052\n",
            "weighted avg       0.85      0.89      0.84     61052\n",
            "\n",
            "Validation accuracy:               precision    recall  f1-score   support\n",
            "\n",
            "           0       0.89      1.00      0.94     18079\n",
            "           1       0.62      0.01      0.01      2272\n",
            "\n",
            "    accuracy                           0.89     20351\n",
            "   macro avg       0.75      0.50      0.48     20351\n",
            "weighted avg       0.86      0.89      0.84     20351\n",
            "\n",
            "Train accuracy: 0.8885376400445522\n",
            "Validation accuracy: 0.888654120190654\n",
            "[[54214    24]\n",
            " [ 6781    33]]\n",
            "[[18069    10]\n",
            " [ 2256    16]]\n"
          ],
          "name": "stdout"
        }
      ]
    },
    {
      "cell_type": "code",
      "metadata": {
        "id": "ywy_8MiF-p6Q",
        "colab_type": "code",
        "outputId": "3335d799-d81c-49de-a9a0-ad0998623b51",
        "colab": {
          "base_uri": "https://localhost:8080/",
          "height": 71
        }
      },
      "source": [
        "  from imblearn.over_sampling import SMOTE\n",
        "  # from sklearn.pipeline import make_pipeline\n",
        "  #from imblearn.pipeline import make_pipeline\n",
        "\n",
        "  sm = SMOTE(random_state=2)\n",
        "  X_train_res, y_train_res = sm.fit_sample(X_train, y_train.ravel())"
      ],
      "execution_count": 0,
      "outputs": [
        {
          "output_type": "stream",
          "text": [
            "/usr/local/lib/python3.6/dist-packages/sklearn/externals/six.py:31: DeprecationWarning: The module is deprecated in version 0.21 and will be removed in version 0.23 since we've dropped support for Python 2.7. Please rely on the official version of six (https://pypi.org/project/six/).\n",
            "  \"(https://pypi.org/project/six/).\", DeprecationWarning)\n"
          ],
          "name": "stderr"
        }
      ]
    },
    {
      "cell_type": "code",
      "metadata": {
        "id": "-FLn2WrPNERI",
        "colab_type": "code",
        "outputId": "1d51b32d-eae8-4f37-bfbe-db09de196e0e",
        "colab": {
          "base_uri": "https://localhost:8080/",
          "height": 530
        }
      },
      "source": [
        "\n",
        "LR_smote = linear_model.LogisticRegression(C = 1.0)\n",
        "perform_classification(LR_smote, (X_train_res, X_validation, y_train_res, y_validation), 'Logistic Regression SMOTE')"
      ],
      "execution_count": 0,
      "outputs": [
        {
          "output_type": "stream",
          "text": [
            "/usr/local/lib/python3.6/dist-packages/sklearn/linear_model/logistic.py:432: FutureWarning: Default solver will be changed to 'lbfgs' in 0.22. Specify a solver to silence this warning.\n",
            "  FutureWarning)\n"
          ],
          "name": "stderr"
        },
        {
          "output_type": "stream",
          "text": [
            "Model: Logistic Regression SMOTE\n",
            "Train accuracy:               precision    recall  f1-score   support\n",
            "\n",
            "           0       0.63      0.67      0.65     54238\n",
            "           1       0.64      0.61      0.63     54238\n",
            "\n",
            "    accuracy                           0.64    108476\n",
            "   macro avg       0.64      0.64      0.64    108476\n",
            "weighted avg       0.64      0.64      0.64    108476\n",
            "\n",
            "Validation accuracy:               precision    recall  f1-score   support\n",
            "\n",
            "           0       0.92      0.67      0.77     18079\n",
            "           1       0.17      0.55      0.26      2272\n",
            "\n",
            "    accuracy                           0.65     20351\n",
            "   macro avg       0.55      0.61      0.52     20351\n",
            "weighted avg       0.84      0.65      0.72     20351\n",
            "\n",
            "Model: Logistic Regression SMOTE\n",
            "\n",
            "Train accuracy: 0.6362974298462333\n",
            "Validation accuracy: 0.654660704633679\n",
            "[[36129 18109]\n",
            " [21344 32894]]\n",
            "[[12067  6012]\n",
            " [ 1016  1256]]\n"
          ],
          "name": "stdout"
        }
      ]
    },
    {
      "cell_type": "code",
      "metadata": {
        "id": "W0sbcKzxPEKP",
        "colab_type": "code",
        "outputId": "e02b0779-7e91-4c88-fb9c-02913fafbb0f",
        "colab": {
          "base_uri": "https://localhost:8080/",
          "height": 183
        }
      },
      "source": [
        "LRM_smote = linear_model.LogisticRegression(multi_class='multinomial', solver='newton-cg')\n",
        "perform_classification(LRM_smote, (X_train_res, X_validation, y_train_res, y_validation), 'Multinomial Logistic Regression SMOTE')"
      ],
      "execution_count": 0,
      "outputs": [
        {
          "output_type": "error",
          "ename": "NameError",
          "evalue": "ignored",
          "traceback": [
            "\u001b[0;31m---------------------------------------------------------------------------\u001b[0m",
            "\u001b[0;31mNameError\u001b[0m                                 Traceback (most recent call last)",
            "\u001b[0;32m<ipython-input-47-ab80f8284f94>\u001b[0m in \u001b[0;36m<module>\u001b[0;34m()\u001b[0m\n\u001b[1;32m      1\u001b[0m \u001b[0mLRM_smote\u001b[0m \u001b[0;34m=\u001b[0m \u001b[0mlinear_model\u001b[0m\u001b[0;34m.\u001b[0m\u001b[0mLogisticRegression\u001b[0m\u001b[0;34m(\u001b[0m\u001b[0mmulti_class\u001b[0m\u001b[0;34m=\u001b[0m\u001b[0;34m'multinomial'\u001b[0m\u001b[0;34m,\u001b[0m \u001b[0msolver\u001b[0m\u001b[0;34m=\u001b[0m\u001b[0;34m'newton-cg'\u001b[0m\u001b[0;34m)\u001b[0m\u001b[0;34m\u001b[0m\u001b[0;34m\u001b[0m\u001b[0m\n\u001b[0;32m----> 2\u001b[0;31m \u001b[0mperform_classification\u001b[0m\u001b[0;34m(\u001b[0m\u001b[0mLRM_smote\u001b[0m\u001b[0;34m,\u001b[0m \u001b[0;34m(\u001b[0m\u001b[0mX_train_res\u001b[0m\u001b[0;34m,\u001b[0m \u001b[0mX_validation\u001b[0m\u001b[0;34m,\u001b[0m \u001b[0my_train_res\u001b[0m\u001b[0;34m,\u001b[0m \u001b[0my_validation\u001b[0m\u001b[0;34m)\u001b[0m\u001b[0;34m,\u001b[0m \u001b[0;34m'Multinomial Logistic Regression SMOTE'\u001b[0m\u001b[0;34m)\u001b[0m\u001b[0;34m\u001b[0m\u001b[0;34m\u001b[0m\u001b[0m\n\u001b[0m",
            "\u001b[0;31mNameError\u001b[0m: name 'X_train_res' is not defined"
          ]
        }
      ]
    },
    {
      "cell_type": "code",
      "metadata": {
        "id": "8KSonYWuCmjq",
        "colab_type": "code",
        "outputId": "c1835edb-b00f-4711-d4f6-237c82a3b1df",
        "colab": {
          "base_uri": "https://localhost:8080/",
          "height": 235
        }
      },
      "source": [
        "from sklearn import model_selection\n",
        "\n",
        "weights = np.linspace(0.05, 0.95, 20)\n",
        "\n",
        "gsc = model_selection.GridSearchCV(\n",
        "    estimator=linear_model.LogisticRegression(),\n",
        "    param_grid={\n",
        "        'class_weight': [{0: x, 1: 1.0-x} for x in weights]\n",
        "    },\n",
        "    scoring='f1',\n",
        "    verbose=10,\n",
        "    n_jobs=3,\n",
        "    cv=3,\n",
        ")\n",
        "grid_result = gsc.fit(X_train_res, y_train_res)\n",
        "\n",
        "clf_LR = linear_model.LogisticRegression(**gsc.best_params_)\n",
        "perform_classification(clf_LR, (X_train_res, X_validation, y_train_res, y_validation), 'Logistic Regression')"
      ],
      "execution_count": 0,
      "outputs": [
        {
          "output_type": "error",
          "ename": "NameError",
          "evalue": "ignored",
          "traceback": [
            "\u001b[0;31m---------------------------------------------------------------------------\u001b[0m",
            "\u001b[0;31mNameError\u001b[0m                                 Traceback (most recent call last)",
            "\u001b[0;32m<ipython-input-53-afcd72d36706>\u001b[0m in \u001b[0;36m<module>\u001b[0;34m()\u001b[0m\n\u001b[1;32m     13\u001b[0m     \u001b[0mcv\u001b[0m\u001b[0;34m=\u001b[0m\u001b[0;36m3\u001b[0m\u001b[0;34m,\u001b[0m\u001b[0;34m\u001b[0m\u001b[0;34m\u001b[0m\u001b[0m\n\u001b[1;32m     14\u001b[0m )\n\u001b[0;32m---> 15\u001b[0;31m \u001b[0mgrid_result\u001b[0m \u001b[0;34m=\u001b[0m \u001b[0mgsc\u001b[0m\u001b[0;34m.\u001b[0m\u001b[0mfit\u001b[0m\u001b[0;34m(\u001b[0m\u001b[0mX_train_res\u001b[0m\u001b[0;34m,\u001b[0m \u001b[0my_train_res\u001b[0m\u001b[0;34m)\u001b[0m\u001b[0;34m\u001b[0m\u001b[0;34m\u001b[0m\u001b[0m\n\u001b[0m\u001b[1;32m     16\u001b[0m \u001b[0;34m\u001b[0m\u001b[0m\n\u001b[1;32m     17\u001b[0m \u001b[0mclf_LR\u001b[0m \u001b[0;34m=\u001b[0m \u001b[0mlinear_model\u001b[0m\u001b[0;34m.\u001b[0m\u001b[0mLogisticRegression\u001b[0m\u001b[0;34m(\u001b[0m\u001b[0;34m**\u001b[0m\u001b[0mgsc\u001b[0m\u001b[0;34m.\u001b[0m\u001b[0mbest_params_\u001b[0m\u001b[0;34m)\u001b[0m\u001b[0;34m\u001b[0m\u001b[0;34m\u001b[0m\u001b[0m\n",
            "\u001b[0;31mNameError\u001b[0m: name 'X_train_res' is not defined"
          ]
        }
      ]
    },
    {
      "cell_type": "code",
      "metadata": {
        "id": "Nt-Pp5H2-qrY",
        "colab_type": "code",
        "outputId": "01d6a7e4-aafa-487b-bdbf-41c1ce816d42",
        "colab": {
          "base_uri": "https://localhost:8080/",
          "height": 869
        }
      },
      "source": [
        "weights = np.linspace(0.05, 0.95, 20)\n",
        "\n",
        "gsc = model_selection.GridSearchCV(\n",
        "    estimator=linear_model.LogisticRegression(),\n",
        "    param_grid={\n",
        "        'class_weight': [{0: x, 1: 1.0-x} for x in weights],\n",
        "        'C' : [1.0, 1.5, 2.0]\n",
        "    },\n",
        "    scoring='f1',\n",
        "    verbose=10,\n",
        "    n_jobs=3,\n",
        "    cv=3,\n",
        ")\n",
        "grid_result = gsc.fit(X_train_res, y_train_res)\n",
        "\n",
        "clf_LR = linear_model.LogisticRegression(**gsc.best_params_)\n",
        "perform_classification(clf_LR, (X_train_res, X_validation, y_train_res, y_validation), 'Logistic Regression')"
      ],
      "execution_count": 0,
      "outputs": [
        {
          "output_type": "stream",
          "text": [
            "Fitting 3 folds for each of 60 candidates, totalling 180 fits\n"
          ],
          "name": "stdout"
        },
        {
          "output_type": "stream",
          "text": [
            "[Parallel(n_jobs=3)]: Using backend LokyBackend with 3 concurrent workers.\n",
            "[Parallel(n_jobs=3)]: Done   2 tasks      | elapsed:    6.4s\n",
            "[Parallel(n_jobs=3)]: Done   7 tasks      | elapsed:   16.9s\n",
            "[Parallel(n_jobs=3)]: Done  12 tasks      | elapsed:   28.6s\n",
            "[Parallel(n_jobs=3)]: Done  19 tasks      | elapsed:   46.9s\n",
            "[Parallel(n_jobs=3)]: Done  26 tasks      | elapsed:  1.2min\n",
            "[Parallel(n_jobs=3)]: Done  35 tasks      | elapsed:  1.7min\n",
            "[Parallel(n_jobs=3)]: Done  44 tasks      | elapsed:  2.1min\n",
            "[Parallel(n_jobs=3)]: Done  55 tasks      | elapsed:  2.5min\n",
            "[Parallel(n_jobs=3)]: Done  66 tasks      | elapsed:  2.9min\n",
            "[Parallel(n_jobs=3)]: Done  79 tasks      | elapsed:  3.5min\n",
            "[Parallel(n_jobs=3)]: Done  92 tasks      | elapsed:  4.3min\n",
            "[Parallel(n_jobs=3)]: Done 107 tasks      | elapsed:  5.1min\n",
            "[Parallel(n_jobs=3)]: Done 122 tasks      | elapsed:  5.6min\n",
            "[Parallel(n_jobs=3)]: Done 139 tasks      | elapsed:  6.4min\n",
            "[Parallel(n_jobs=3)]: Done 156 tasks      | elapsed:  7.5min\n",
            "[Parallel(n_jobs=3)]: Done 175 tasks      | elapsed:  8.5min\n",
            "[Parallel(n_jobs=3)]: Done 180 out of 180 | elapsed:  8.6min finished\n",
            "/usr/local/lib/python3.6/dist-packages/sklearn/linear_model/logistic.py:432: FutureWarning: Default solver will be changed to 'lbfgs' in 0.22. Specify a solver to silence this warning.\n",
            "  FutureWarning)\n",
            "/usr/local/lib/python3.6/dist-packages/sklearn/linear_model/logistic.py:432: FutureWarning: Default solver will be changed to 'lbfgs' in 0.22. Specify a solver to silence this warning.\n",
            "  FutureWarning)\n"
          ],
          "name": "stderr"
        },
        {
          "output_type": "stream",
          "text": [
            "Model: Logistic Regression\n",
            "Train accuracy:               precision    recall  f1-score   support\n",
            "\n",
            "           0       0.88      1.00      0.94     54238\n",
            "           1       1.00      0.87      0.93     54238\n",
            "\n",
            "    accuracy                           0.93    108476\n",
            "   macro avg       0.94      0.93      0.93    108476\n",
            "weighted avg       0.94      0.93      0.93    108476\n",
            "\n",
            "Validation accuracy:               precision    recall  f1-score   support\n",
            "\n",
            "           0       0.89      1.00      0.94     18079\n",
            "           1       0.48      0.01      0.02      2272\n",
            "\n",
            "    accuracy                           0.89     20351\n",
            "   macro avg       0.68      0.50      0.48     20351\n",
            "weighted avg       0.84      0.89      0.84     20351\n",
            "\n",
            "Train accuracy: 0.9345661713190014\n",
            "Validation accuracy: 0.8882610191145398\n",
            "[[54186    52]\n",
            " [ 7046 47192]]\n",
            "[[18054    25]\n",
            " [ 2249    23]]\n"
          ],
          "name": "stdout"
        }
      ]
    },
    {
      "cell_type": "code",
      "metadata": {
        "id": "0HOdPYb0_3kR",
        "colab_type": "code",
        "outputId": "80d3769e-71bb-4e5d-8a1a-d4b6b4e942f6",
        "colab": {
          "base_uri": "https://localhost:8080/",
          "height": 731
        }
      },
      "source": [
        "weights = np.linspace(0.05, 0.95, 20)\n",
        "\n",
        "gsc = model_selection.GridSearchCV(\n",
        "    estimator=linear_model.LogisticRegression(),\n",
        "    param_grid={\n",
        "        'class_weight': [{0: x, 1: 1.0-x} for x in weights]\n",
        "    },\n",
        "    scoring='f1',\n",
        "    verbose=10,\n",
        "    n_jobs=3,\n",
        "    cv=3,\n",
        ")\n",
        "grid_result = gsc.fit(X_train_res, y_train_res)\n",
        "\n",
        "clf_LR = linear_model.LogisticRegression(**gsc.best_params_)\n",
        "perform_classification(clf_LR, (X_train_res, X_validation, y_train_res, y_validation), 'Logistic Regression')"
      ],
      "execution_count": 0,
      "outputs": [
        {
          "output_type": "stream",
          "text": [
            "Fitting 3 folds for each of 20 candidates, totalling 60 fits\n"
          ],
          "name": "stdout"
        },
        {
          "output_type": "stream",
          "text": [
            "[Parallel(n_jobs=3)]: Using backend LokyBackend with 3 concurrent workers.\n",
            "[Parallel(n_jobs=3)]: Done   2 tasks      | elapsed:    5.5s\n",
            "[Parallel(n_jobs=3)]: Done   7 tasks      | elapsed:   14.8s\n",
            "[Parallel(n_jobs=3)]: Done  12 tasks      | elapsed:   28.5s\n",
            "[Parallel(n_jobs=3)]: Done  19 tasks      | elapsed:   47.1s\n",
            "[Parallel(n_jobs=3)]: Done  26 tasks      | elapsed:  1.2min\n",
            "[Parallel(n_jobs=3)]: Done  35 tasks      | elapsed:  1.6min\n",
            "[Parallel(n_jobs=3)]: Done  44 tasks      | elapsed:  2.1min\n",
            "[Parallel(n_jobs=3)]: Done  55 tasks      | elapsed:  2.4min\n",
            "[Parallel(n_jobs=3)]: Done  60 out of  60 | elapsed:  2.5min finished\n",
            "/usr/local/lib/python3.6/dist-packages/sklearn/linear_model/logistic.py:432: FutureWarning: Default solver will be changed to 'lbfgs' in 0.22. Specify a solver to silence this warning.\n",
            "  FutureWarning)\n",
            "/usr/local/lib/python3.6/dist-packages/sklearn/linear_model/logistic.py:432: FutureWarning: Default solver will be changed to 'lbfgs' in 0.22. Specify a solver to silence this warning.\n",
            "  FutureWarning)\n"
          ],
          "name": "stderr"
        },
        {
          "output_type": "stream",
          "text": [
            "Model: Logistic Regression\n",
            "Train accuracy:               precision    recall  f1-score   support\n",
            "\n",
            "           0       0.88      1.00      0.94     54238\n",
            "           1       1.00      0.87      0.93     54238\n",
            "\n",
            "    accuracy                           0.93    108476\n",
            "   macro avg       0.94      0.93      0.93    108476\n",
            "weighted avg       0.94      0.93      0.93    108476\n",
            "\n",
            "Validation accuracy:               precision    recall  f1-score   support\n",
            "\n",
            "           0       0.89      1.00      0.94     18079\n",
            "           1       0.50      0.01      0.02      2272\n",
            "\n",
            "    accuracy                           0.89     20351\n",
            "   macro avg       0.69      0.50      0.48     20351\n",
            "weighted avg       0.85      0.89      0.84     20351\n",
            "\n",
            "Train accuracy: 0.9341697702717652\n",
            "Validation accuracy: 0.8883592943835684\n",
            "[[54185    53]\n",
            " [ 7088 47150]]\n",
            "[[18055    24]\n",
            " [ 2248    24]]\n"
          ],
          "name": "stdout"
        }
      ]
    },
    {
      "cell_type": "code",
      "metadata": {
        "id": "ak3_9DVSsiEk",
        "colab_type": "code",
        "outputId": "ebc78b4b-40d1-4c1a-d43e-b6ac4e370807",
        "colab": {
          "base_uri": "https://localhost:8080/",
          "height": 835
        }
      },
      "source": [
        "# LINEAR SVC\n",
        "\n",
        "weights = np.linspace(0.05, 0.95, 20)\n",
        "\n",
        "gsc = model_selection.GridSearchCV(\n",
        "    estimator = svm.LinearSVC(loss='hinge', C=1.0),\n",
        "    param_grid={\n",
        "        'class_weight': [{0: x, 1: 1.0-x} for x in weights]\n",
        "    },\n",
        "    scoring='f1',\n",
        "    verbose=10,\n",
        "    n_jobs= 3,\n",
        "    cv=3,\n",
        ")\n",
        "grid_result = gsc.fit(X_train, y_train)\n",
        "\n",
        "clf_LinearSVC = svm.LinearSVC(**gsc.best_params_)\n",
        "perform_classification(clf_LinearSVC, (X_train, X_validation, y_train, y_validation), 'Linear SVC')"
      ],
      "execution_count": 0,
      "outputs": [
        {
          "output_type": "stream",
          "text": [
            "Fitting 3 folds for each of 20 candidates, totalling 60 fits\n"
          ],
          "name": "stdout"
        },
        {
          "output_type": "stream",
          "text": [
            "[Parallel(n_jobs=3)]: Using backend LokyBackend with 3 concurrent workers.\n",
            "[Parallel(n_jobs=3)]: Done   2 tasks      | elapsed:   34.5s\n",
            "/usr/local/lib/python3.6/dist-packages/joblib/externals/loky/process_executor.py:706: UserWarning: A worker stopped while some jobs were given to the executor. This can be caused by a too short worker timeout or by a memory leak.\n",
            "  \"timeout or by a memory leak.\", UserWarning\n",
            "[Parallel(n_jobs=3)]: Done   7 tasks      | elapsed:  2.8min\n",
            "[Parallel(n_jobs=3)]: Done  12 tasks      | elapsed:  4.4min\n",
            "[Parallel(n_jobs=3)]: Done  19 tasks      | elapsed:  8.7min\n",
            "[Parallel(n_jobs=3)]: Done  26 tasks      | elapsed: 11.7min\n",
            "[Parallel(n_jobs=3)]: Done  35 tasks      | elapsed: 16.3min\n",
            "[Parallel(n_jobs=3)]: Done  44 tasks      | elapsed: 20.5min\n",
            "[Parallel(n_jobs=3)]: Done  55 tasks      | elapsed: 26.1min\n",
            "[Parallel(n_jobs=3)]: Done  60 out of  60 | elapsed: 27.6min finished\n",
            "/usr/local/lib/python3.6/dist-packages/sklearn/svm/base.py:929: ConvergenceWarning: Liblinear failed to converge, increase the number of iterations.\n",
            "  \"the number of iterations.\", ConvergenceWarning)\n",
            "/usr/local/lib/python3.6/dist-packages/sklearn/svm/base.py:929: ConvergenceWarning: Liblinear failed to converge, increase the number of iterations.\n",
            "  \"the number of iterations.\", ConvergenceWarning)\n"
          ],
          "name": "stderr"
        },
        {
          "output_type": "stream",
          "text": [
            "Model: Linear SVC\n",
            "Train accuracy:               precision    recall  f1-score   support\n",
            "\n",
            "           0       0.93      0.59      0.72     54238\n",
            "           1       0.17      0.66      0.27      6814\n",
            "\n",
            "    accuracy                           0.60     61052\n",
            "   macro avg       0.55      0.63      0.49     61052\n",
            "weighted avg       0.85      0.60      0.67     61052\n",
            "\n",
            "Validation accuracy:               precision    recall  f1-score   support\n",
            "\n",
            "           0       0.93      0.59      0.72     18079\n",
            "           1       0.17      0.66      0.27      2272\n",
            "\n",
            "    accuracy                           0.60     20351\n",
            "   macro avg       0.55      0.62      0.50     20351\n",
            "weighted avg       0.85      0.60      0.67     20351\n",
            "\n",
            "Train auc: 0.6262196473460689\n",
            "Validation auc: 0.6240725612316523\n",
            "Model: Linear SVC\n",
            "\n",
            "Train accuracy: 0.59613116687414\n",
            "Validation accuracy: 0.5980541496732348\n",
            "[[31864 22374]\n",
            " [ 2283  4531]]\n",
            "[[10677  7402]\n",
            " [  778  1494]]\n"
          ],
          "name": "stdout"
        }
      ]
    },
    {
      "cell_type": "code",
      "metadata": {
        "id": "AvCYrz4Vcs27",
        "colab_type": "code",
        "colab": {}
      },
      "source": [
        "perform_classification(clf_, (X_train, X_validation, y_train, y_validation), 'Gausov SVM')"
      ],
      "execution_count": 0,
      "outputs": []
    },
    {
      "cell_type": "code",
      "metadata": {
        "id": "shSnZr_NnL6S",
        "colab_type": "code",
        "colab": {}
      },
      "source": [
        "from sklearn.naive_bayes import GaussianNB"
      ],
      "execution_count": 0,
      "outputs": []
    },
    {
      "cell_type": "code",
      "metadata": {
        "id": "2kidr6Gkn3m0",
        "colab_type": "code",
        "colab": {}
      },
      "source": [
        "clf_GaussianNB = GaussianNB()"
      ],
      "execution_count": 0,
      "outputs": []
    },
    {
      "cell_type": "code",
      "metadata": {
        "id": "uiDW7bqSoZBn",
        "colab_type": "code",
        "colab": {}
      },
      "source": [
        "from sklearn.naive_bayes import MultinomialNB\n",
        "clf_MultinomialNB = MultinomialNB()"
      ],
      "execution_count": 0,
      "outputs": []
    },
    {
      "cell_type": "code",
      "metadata": {
        "id": "Q3Y6bYnYD8So",
        "colab_type": "code",
        "outputId": "6eadd7f3-f48b-466d-fbf7-859efabd7647",
        "colab": {
          "base_uri": "https://localhost:8080/",
          "height": 508
        }
      },
      "source": [
        "clf_svc = svm.SVC(C=1.0)\n",
        "perform_classification(clf_svc , (X_train, X_validation, y_train, y_validation), 'SVC')"
      ],
      "execution_count": 0,
      "outputs": [
        {
          "output_type": "stream",
          "text": [
            "/usr/local/lib/python3.6/dist-packages/sklearn/svm/base.py:193: FutureWarning: The default value of gamma will change from 'auto' to 'scale' in version 0.22 to account better for unscaled features. Set gamma explicitly to 'auto' or 'scale' to avoid this warning.\n",
            "  \"avoid this warning.\", FutureWarning)\n"
          ],
          "name": "stderr"
        },
        {
          "output_type": "stream",
          "text": [
            "Model: SVC\n",
            "Train accuracy:               precision    recall  f1-score   support\n",
            "\n",
            "           0       0.89      1.00      0.94     54238\n",
            "           1       0.90      0.01      0.03      6814\n",
            "\n",
            "    accuracy                           0.89     61052\n",
            "   macro avg       0.89      0.51      0.48     61052\n",
            "weighted avg       0.89      0.89      0.84     61052\n",
            "\n",
            "Validation accuracy:               precision    recall  f1-score   support\n",
            "\n",
            "           0       0.89      1.00      0.94     18079\n",
            "           1       0.53      0.01      0.01      2272\n",
            "\n",
            "    accuracy                           0.89     20351\n",
            "   macro avg       0.71      0.50      0.48     20351\n",
            "weighted avg       0.85      0.89      0.84     20351\n",
            "\n",
            "Model: SVC\n",
            "\n",
            "Train accuracy: 0.8896514446701173\n",
            "Validation accuracy: 0.8884575696525969\n",
            "[[54228    10]\n",
            " [ 6727    87]]\n",
            "[[18064    15]\n",
            " [ 2255    17]]\n"
          ],
          "name": "stdout"
        }
      ]
    },
    {
      "cell_type": "code",
      "metadata": {
        "id": "Di03UCW4oCal",
        "colab_type": "code",
        "outputId": "f29c2bc8-c860-4ccd-8fa3-7915c4092cd7",
        "colab": {
          "base_uri": "https://localhost:8080/",
          "height": 451
        }
      },
      "source": [
        "perform_classification(clf_MultinomialNB, (X_train, X_validation, y_train, y_validation), 'Gausov NB')"
      ],
      "execution_count": 0,
      "outputs": [
        {
          "output_type": "stream",
          "text": [
            "Model: Gausov NB\n",
            "Train accuracy:               precision    recall  f1-score   support\n",
            "\n",
            "           0       0.90      0.95      0.93     54238\n",
            "           1       0.28      0.14      0.19      6814\n",
            "\n",
            "    accuracy                           0.86     61052\n",
            "   macro avg       0.59      0.55      0.56     61052\n",
            "weighted avg       0.83      0.86      0.84     61052\n",
            "\n",
            "Validation accuracy:               precision    recall  f1-score   support\n",
            "\n",
            "           0       0.90      0.96      0.93     18079\n",
            "           1       0.28      0.14      0.19      2272\n",
            "\n",
            "    accuracy                           0.86     20351\n",
            "   macro avg       0.59      0.55      0.56     20351\n",
            "weighted avg       0.83      0.86      0.84     20351\n",
            "\n",
            "Train accuracy: 0.8633132411714604\n",
            "Validation accuracy: 0.8643801287406024\n",
            "[[51754  2484]\n",
            " [ 5861   953]]\n",
            "[[17269   810]\n",
            " [ 1950   322]]\n"
          ],
          "name": "stdout"
        }
      ]
    },
    {
      "cell_type": "code",
      "metadata": {
        "id": "d_01tq3Jcs3C",
        "colab_type": "code",
        "colab": {}
      },
      "source": [
        "del model"
      ],
      "execution_count": 0,
      "outputs": []
    },
    {
      "cell_type": "code",
      "metadata": {
        "id": "ZPHY0kTjcs3I",
        "colab_type": "code",
        "colab": {}
      },
      "source": [
        "model = Sequential()\n",
        "model.add(Dense(18, input_dim=208, activation='relu'))\n",
        "model.add(Dense(12, activation='relu'))\n",
        "model.add(Dense(12, activation='relu'))\n",
        "model.add(Dense(1, activation='sigmoid'))"
      ],
      "execution_count": 0,
      "outputs": []
    },
    {
      "cell_type": "code",
      "metadata": {
        "id": "SoMejBhDcs3M",
        "colab_type": "code",
        "outputId": "4030bf24-cecf-48bf-e9e1-bf7feebbce46",
        "colab": {
          "base_uri": "https://localhost:8080/",
          "height": 277
        }
      },
      "source": [
        "model.summary()"
      ],
      "execution_count": 0,
      "outputs": [
        {
          "output_type": "stream",
          "text": [
            "_________________________________________________________________\n",
            "Layer (type)                 Output Shape              Param #   \n",
            "=================================================================\n",
            "dense_13 (Dense)             (None, 18)                3762      \n",
            "_________________________________________________________________\n",
            "dense_14 (Dense)             (None, 12)                228       \n",
            "_________________________________________________________________\n",
            "dense_15 (Dense)             (None, 12)                156       \n",
            "_________________________________________________________________\n",
            "dense_16 (Dense)             (None, 1)                 13        \n",
            "=================================================================\n",
            "Total params: 4,159\n",
            "Trainable params: 4,159\n",
            "Non-trainable params: 0\n",
            "_________________________________________________________________\n"
          ],
          "name": "stdout"
        }
      ]
    },
    {
      "cell_type": "code",
      "metadata": {
        "id": "q7EF5pIwcs3P",
        "colab_type": "code",
        "colab": {}
      },
      "source": [
        "model.compile(loss='binary_crossentropy', optimizer='adam', metrics=['accuracy'])"
      ],
      "execution_count": 0,
      "outputs": []
    },
    {
      "cell_type": "code",
      "metadata": {
        "id": "P1UC39TDcs3T",
        "colab_type": "code",
        "colab": {}
      },
      "source": [
        "epochs = 20\n",
        "batch_size = 64\n",
        "verbose = 0"
      ],
      "execution_count": 0,
      "outputs": []
    },
    {
      "cell_type": "code",
      "metadata": {
        "id": "cSBrXRuxcs3Z",
        "colab_type": "code",
        "colab": {}
      },
      "source": [
        "history = model.fit(X_train, y_train, epochs=epochs, batch_size=batch_size, verbose=verbose, validation_data=(X_validation, y_validation))"
      ],
      "execution_count": 0,
      "outputs": []
    },
    {
      "cell_type": "code",
      "metadata": {
        "id": "MJ9Awy9ocs3k",
        "colab_type": "code",
        "colab": {}
      },
      "source": [
        "acc = history.history['acc']\n",
        "loss = history.history['loss']\n",
        "val_acc = history.history['val_acc']\n",
        "val_loss = history.history['val_loss']"
      ],
      "execution_count": 0,
      "outputs": []
    },
    {
      "cell_type": "code",
      "metadata": {
        "id": "r-7yKRWHDrUf",
        "colab_type": "code",
        "outputId": "4b6d0e1e-5dbb-4897-b06b-a0a1206eb3bf",
        "colab": {
          "base_uri": "https://localhost:8080/",
          "height": 52
        }
      },
      "source": [
        "#print(np.mean(acc))\n",
        "#print(np.mean(val_acc))\n",
        "print(acc[4])\n",
        "print(val_acc[4])"
      ],
      "execution_count": 0,
      "outputs": [
        {
          "output_type": "stream",
          "text": [
            "0.8883410862949098\n",
            "0.8883101567812712\n"
          ],
          "name": "stdout"
        }
      ]
    },
    {
      "cell_type": "code",
      "metadata": {
        "id": "V7vhTHdkEPVd",
        "colab_type": "code",
        "outputId": "b9377ca9-3850-41a3-8374-b5a086adbb12",
        "colab": {
          "base_uri": "https://localhost:8080/",
          "height": 355
        }
      },
      "source": [
        "trening_accc = 0.888586778476105\n",
        "val_accc = 0.888457569684814\n",
        "df.loc[R[9], C[0]] = 1 - trening_accc\n",
        "df.loc[R[9], C[1]] = trening_accc\n",
        "df.loc[R[9], C[2]] = 1 - val_accc\n",
        "df.loc[R[9], C[3]] = val_accc\n",
        "df"
      ],
      "execution_count": 0,
      "outputs": [
        {
          "output_type": "execute_result",
          "data": {
            "text/html": [
              "<div>\n",
              "<style scoped>\n",
              "    .dataframe tbody tr th:only-of-type {\n",
              "        vertical-align: middle;\n",
              "    }\n",
              "\n",
              "    .dataframe tbody tr th {\n",
              "        vertical-align: top;\n",
              "    }\n",
              "\n",
              "    .dataframe thead th {\n",
              "        text-align: right;\n",
              "    }\n",
              "</style>\n",
              "<table border=\"1\" class=\"dataframe\">\n",
              "  <thead>\n",
              "    <tr style=\"text-align: right;\">\n",
              "      <th></th>\n",
              "      <th>Train 0-1 Loss</th>\n",
              "      <th>Train Accuracy</th>\n",
              "      <th>Dev 0-1 Loss</th>\n",
              "      <th>Dev Accuracy</th>\n",
              "    </tr>\n",
              "  </thead>\n",
              "  <tbody>\n",
              "    <tr>\n",
              "      <th>Naive Classifier</th>\n",
              "      <td>0.1116098</td>\n",
              "      <td>0.8883902</td>\n",
              "      <td>0.1116407</td>\n",
              "      <td>0.8883593</td>\n",
              "    </tr>\n",
              "    <tr>\n",
              "      <th>Naive Bayes</th>\n",
              "      <td>0.1366868</td>\n",
              "      <td>0.8633132</td>\n",
              "      <td>0.1356199</td>\n",
              "      <td>0.8643801</td>\n",
              "    </tr>\n",
              "    <tr>\n",
              "      <th>Binomial Log Reg (kitchen sink)</th>\n",
              "      <td>0.2150298</td>\n",
              "      <td>0.7849702</td>\n",
              "      <td>0.2126677</td>\n",
              "      <td>0.7873323</td>\n",
              "    </tr>\n",
              "    <tr>\n",
              "      <th>Multinomial Log Reg (kitchen sink)</th>\n",
              "      <td>0.3907980</td>\n",
              "      <td>0.6092020</td>\n",
              "      <td>0.3898580</td>\n",
              "      <td>0.6101420</td>\n",
              "    </tr>\n",
              "    <tr>\n",
              "      <th>Elastic Net</th>\n",
              "      <td>0.1114460</td>\n",
              "      <td>0.8885540</td>\n",
              "      <td>0.1113950</td>\n",
              "      <td>0.8886050</td>\n",
              "    </tr>\n",
              "    <tr>\n",
              "      <th>Random Forests (balanced)</th>\n",
              "      <td>0.3800039</td>\n",
              "      <td>0.6199961</td>\n",
              "      <td>0.3722176</td>\n",
              "      <td>0.6277824</td>\n",
              "    </tr>\n",
              "    <tr>\n",
              "      <th>SVM (no Kernel)</th>\n",
              "      <td>0.2778451</td>\n",
              "      <td>0.7221549</td>\n",
              "      <td>0.2756621</td>\n",
              "      <td>0.7243379</td>\n",
              "    </tr>\n",
              "    <tr>\n",
              "      <th>SVM (3rd order polynomial Kernel)</th>\n",
              "      <td>0.0000000</td>\n",
              "      <td>0.0000000</td>\n",
              "      <td>0.0000000</td>\n",
              "      <td>0.0000000</td>\n",
              "    </tr>\n",
              "    <tr>\n",
              "      <th>SVM (Gaussian Kernel)</th>\n",
              "      <td>0.0081406</td>\n",
              "      <td>0.9918594</td>\n",
              "      <td>0.1117881</td>\n",
              "      <td>0.8882119</td>\n",
              "    </tr>\n",
              "    <tr>\n",
              "      <th>Nerural Network</th>\n",
              "      <td>0.1114132</td>\n",
              "      <td>0.8885868</td>\n",
              "      <td>0.1115424</td>\n",
              "      <td>0.8884576</td>\n",
              "    </tr>\n",
              "  </tbody>\n",
              "</table>\n",
              "</div>"
            ],
            "text/plain": [
              "                                    Train 0-1 Loss  ...  Dev Accuracy\n",
              "Naive Classifier                         0.1116098  ...     0.8883593\n",
              "Naive Bayes                              0.1366868  ...     0.8643801\n",
              "Binomial Log Reg (kitchen sink)          0.2150298  ...     0.7873323\n",
              "Multinomial Log Reg (kitchen sink)       0.3907980  ...     0.6101420\n",
              "Elastic Net                              0.1114460  ...     0.8886050\n",
              "Random Forests (balanced)                0.3800039  ...     0.6277824\n",
              "SVM (no Kernel)                          0.2778451  ...     0.7243379\n",
              "SVM (3rd order polynomial Kernel)        0.0000000  ...     0.0000000\n",
              "SVM (Gaussian Kernel)                    0.0081406  ...     0.8882119\n",
              "Nerural Network                          0.1114132  ...     0.8884576\n",
              "\n",
              "[10 rows x 4 columns]"
            ]
          },
          "metadata": {
            "tags": []
          },
          "execution_count": 72
        }
      ]
    },
    {
      "cell_type": "code",
      "metadata": {
        "id": "AkHo2LWmcs3y",
        "colab_type": "code",
        "outputId": "ed821839-76ad-4823-eeb9-8536dfe7cfea",
        "colab": {
          "base_uri": "https://localhost:8080/",
          "height": 301
        }
      },
      "source": [
        "plt.xlabel('epochs')\n",
        "plt.ylabel('acc')\n",
        "plt.plot(range(epochs), acc, label='training')\n",
        "plt.plot(range(epochs), val_acc, label='validation')\n",
        "plt.legend(loc='best')"
      ],
      "execution_count": 0,
      "outputs": [
        {
          "output_type": "execute_result",
          "data": {
            "text/plain": [
              "<matplotlib.legend.Legend at 0x7f64398bee10>"
            ]
          },
          "metadata": {
            "tags": []
          },
          "execution_count": 73
        },
        {
          "output_type": "display_data",
          "data": {
            "image/png": "[encoded data removed]",
            "text/plain": [
              "<Figure size 432x288 with 1 Axes>"
            ]
          },
          "metadata": {
            "tags": []
          }
        }
      ]
    },
    {
      "cell_type": "code",
      "metadata": {
        "id": "mhBEmJeQcs37",
        "colab_type": "code",
        "outputId": "3f006408-465f-48a2-ef26-ff6a09c48e16",
        "colab": {
          "base_uri": "https://localhost:8080/",
          "height": 301
        }
      },
      "source": [
        "plt.xlabel('epochs')\n",
        "plt.ylabel('loss')\n",
        "plt.plot(range(epochs), loss, c='red', label='training')\n",
        "plt.legend(loc='best')"
      ],
      "execution_count": 0,
      "outputs": [
        {
          "output_type": "execute_result",
          "data": {
            "text/plain": [
              "<matplotlib.legend.Legend at 0x7f64398f8da0>"
            ]
          },
          "metadata": {
            "tags": []
          },
          "execution_count": 74
        },
        {
          "output_type": "display_data",
          "data": {
            "image/png": "[encoded data removed]",
            "text/plain": [
              "<Figure size 432x288 with 1 Axes>"
            ]
          },
          "metadata": {
            "tags": []
          }
        }
      ]
    },
    {
      "cell_type": "code",
      "metadata": {
        "id": "OSPiviNP4mE8",
        "colab_type": "code",
        "colab": {}
      },
      "source": [
        "# NAGLASAVANJE JEDINICA - SVM 3rd order polynomial kernel\n",
        "\n",
        "N_clf = 5\n",
        "models = []\n",
        "N_ones = X_ones.shape[0]\n",
        "N_zeros = X_zeros.shape[0]\n",
        "y_zeros = np.zeros(N_zeros)\n",
        "y_ones = np.ones(N_ones)\n",
        "\n",
        "q = 1.2\n",
        "\n",
        "for i in range(N_clf):\n",
        "  indices = np.random.choice(np.arange(0, N_zeros, 1), size = int(q * N_ones) )\n",
        "  X_zeros_sample = X_zeros[indices]\n",
        "  y_zeros_sample = y_zeros[indices]\n",
        "  X_train_tmp = np.vstack([X_zeros_sample, X_ones])\n",
        "  y_tmp = np.concatenate([y_zeros_sample, y_ones])\n",
        "  \n",
        "  clf = svm.SVC(C = 1.0, gamma = 1.0, kernel = 'poly', degree = 2)\n",
        "  clf.fit(X_train_tmp, y_tmp)\n",
        "  models.append(clf)\n",
        "  print('Idemo!')\n",
        "  \n",
        "Y_predictions = []\n",
        "for i in range(N_clf):\n",
        "    Y_predictions.append(models[i].predict(X_validation))\n",
        "\n",
        "N_val = X_validation.shape[0]\n",
        "y_pred = np.zeros(N_val)\n",
        "for i in range(N_val):\n",
        "    cnt = 0\n",
        "    for j in range(N_clf):\n",
        "        if (Y_predictions[j][i] == 1):\n",
        "            cnt += 1\n",
        "    y_pred[i] = cnt / N_clf\n",
        "\n",
        "y_predicted = [1 if y_pred[i] >= 0.3 else 0 for i in range(N_val)]\n",
        "print(metrics.classification_report(y_validation, y_predicted))\n",
        "print(metrics.confusion_matrix(y_validation, y_predicted))\n",
        "print(metrics.accuracy_score(y_validation, y_predicted))"
      ],
      "execution_count": 0,
      "outputs": []
    },
    {
      "cell_type": "code",
      "metadata": {
        "id": "Zm9sNhg55xkk",
        "colab_type": "code",
        "colab": {}
      },
      "source": [
        "scaler_vt = preprocessing.StandardScaler()\n",
        "scaler_vt.fit(x_train_validation)\n",
        "scaler.transform(x_train_validation, inplace = True)\n",
        "scaler.transform(x_test, inplace = True)"
      ],
      "execution_count": 0,
      "outputs": []
    },
    {
      "cell_type": "code",
      "metadata": {
        "id": "p5GL87NCF0nl",
        "colab_type": "code",
        "colab": {}
      },
      "source": [
        "def perform_classification_final(model, data, name):\n",
        "    X_train, X_val, y_train, y_val = data\n",
        "    model.fit(X_train, y_train)\n",
        "    N_train = X_train.shape[0]\n",
        "    N_val = X_val.shape[0]\n",
        "    y_train_pred = model.predict(X_train)\n",
        "    y_train_pred = [1 if y_train_pred[i] >= 0.5 else 0 for i in range(N_train)]\n",
        "    y_val_pred = model.predict(X_val)\n",
        "    y_val_pred = [1 if y_val_pred[i] >= 0.5 else 0 for i in range(N_val)]\n",
        "    print('Model: {}'.format(name))\n",
        "    print('Train auc: {}'.format(metrics.roc_auc_score(y_train, y_train_pred)))\n",
        "    print('Validation auc: {}'.format(metrics.roc_auc_score(y_val, y_val_pred))) \n",
        "    print('Train_validation accuracy: {}'.format(metrics.classification_report(y_train, y_train_pred)))\n",
        "    print('Test accuracy: {}'.format(metrics.classification_report(y_val, y_val_pred)))\n",
        "    print('Train_validation accuracy: {}'.format(metrics.accuracy_score(y_train, y_train_pred)))\n",
        "    print('Test accuracy: {}'.format(metrics.accuracy_score(y_val, y_val_pred)))\n",
        "    print(metrics.confusion_matrix(y_train, y_train_pred))\n",
        "    print(metrics.confusion_matrix(y_val, y_val_pred))\n",
        "    #fpr, tpr, thresholds = metrics.roc_curve(y, y_val_pred)\n",
        "    #print('Validation AUC: {}'.format(metrics.auc(y_val, y_val_pred)))"
      ],
      "execution_count": 0,
      "outputs": []
    },
    {
      "cell_type": "code",
      "metadata": {
        "id": "ruganZ3JBLj4",
        "colab_type": "code",
        "outputId": "af658412-d7dc-4d63-9278-2013d11e998d",
        "colab": {
          "base_uri": "https://localhost:8080/",
          "height": 485
        }
      },
      "source": [
        "clf = BalancedRandomForestClassifier(n_estimators=1000, random_state=0,max_depth=2)\n",
        "perform_classification_final(clf, (X_train_validation, X_test, y_train_validation, y_test), 'Final Model')\n"
      ],
      "execution_count": 76,
      "outputs": [
        {
          "output_type": "stream",
          "text": [
            "Model: Final Model\n",
            "Train auc: 0.6198673244252699\n",
            "Validation auc: 0.6156629082350373\n",
            "Train_validation accuracy:               precision    recall  f1-score   support\n",
            "\n",
            "           0       0.93      0.62      0.74     72317\n",
            "           1       0.17      0.62      0.27      9086\n",
            "\n",
            "    accuracy                           0.62     81403\n",
            "   macro avg       0.55      0.62      0.50     81403\n",
            "weighted avg       0.84      0.62      0.69     81403\n",
            "\n",
            "Test accuracy:               precision    recall  f1-score   support\n",
            "\n",
            "           0       0.93      0.62      0.74     18080\n",
            "           1       0.17      0.61      0.26      2271\n",
            "\n",
            "    accuracy                           0.62     20351\n",
            "   macro avg       0.55      0.62      0.50     20351\n",
            "weighted avg       0.84      0.62      0.69     20351\n",
            "\n",
            "Train_validation accuracy: 0.6174833851332261\n",
            "Test accuracy: 0.6205100486462581\n",
            "[[44605 27712]\n",
            " [ 3426  5660]]\n",
            "[[11244  6836]\n",
            " [  887  1384]]\n"
          ],
          "name": "stdout"
        }
      ]
    },
    {
      "cell_type": "code",
      "metadata": {
        "id": "B3qkctS9GlV_",
        "colab_type": "code",
        "outputId": "f5ecb230-62a5-4659-fa96-3b5456dfc968",
        "colab": {
          "base_uri": "https://localhost:8080/",
          "height": 35
        }
      },
      "source": [
        "y_bin[0]"
      ],
      "execution_count": 0,
      "outputs": [
        {
          "output_type": "execute_result",
          "data": {
            "text/plain": [
              "0"
            ]
          },
          "metadata": {
            "tags": []
          },
          "execution_count": 23
        }
      ]
    },
    {
      "cell_type": "code",
      "metadata": {
        "id": "GogsOAvVGQl1",
        "colab_type": "code",
        "outputId": "89f11f25-7ab1-4943-95a3-921548da45f6",
        "colab": {
          "base_uri": "https://localhost:8080/",
          "height": 176
        }
      },
      "source": [
        "model_final = BalancedRandomForestClassifier(n_estimators=1000, random_state=0,max_depth=2)\n",
        "model_final.fit(X, y_bin)"
      ],
      "execution_count": 0,
      "outputs": [
        {
          "output_type": "stream",
          "text": [
            "/usr/local/lib/python3.6/dist-packages/sklearn/linear_model/logistic.py:432: FutureWarning: Default solver will be changed to 'lbfgs' in 0.22. Specify a solver to silence this warning.\n",
            "  FutureWarning)\n"
          ],
          "name": "stderr"
        },
        {
          "output_type": "execute_result",
          "data": {
            "text/plain": [
              "LogisticRegression(C=1.0,\n",
              "                   class_weight={0: 0.14473684210526316, 1: 0.8552631578947368},\n",
              "                   dual=False, fit_intercept=True, intercept_scaling=1,\n",
              "                   l1_ratio=None, max_iter=100, multi_class='warn', n_jobs=None,\n",
              "                   penalty='l2', random_state=None, solver='warn', tol=0.0001,\n",
              "                   verbose=0, warm_start=False)"
            ]
          },
          "metadata": {
            "tags": []
          },
          "execution_count": 24
        }
      ]
    },
    {
      "cell_type": "code",
      "metadata": {
        "id": "H_hfOLujGe7Z",
        "colab_type": "code",
        "colab": {}
      },
      "source": [
        ""
      ],
      "execution_count": 0,
      "outputs": []
    }
  ]
}